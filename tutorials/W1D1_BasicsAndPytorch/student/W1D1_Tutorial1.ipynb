{
  "cells": [
    {
      "cell_type": "markdown",
      "metadata": {
        "id": "view-in-github",
        "colab_type": "text"
      },
      "source": [
        "<a href=\"https://colab.research.google.com/github/ayaAllan/nma/blob/main/tutorials/W1D1_BasicsAndPytorch/student/W1D1_Tutorial1.ipynb\" target=\"_parent\"><img src=\"https://colab.research.google.com/assets/colab-badge.svg\" alt=\"Open In Colab\"/></a>"
      ]
    },
    {
      "cell_type": "markdown",
      "metadata": {
        "execution": {},
        "id": "EGU8GnlqEJZJ"
      },
      "source": [
        "# Tutorial 1: PyTorch\n",
        "**Week 1, Day 1: Basics and PyTorch**\n",
        "\n",
        "**By Neuromatch Academy**\n",
        "\n",
        "\n",
        "__Content creators:__ Shubh Pachchigar, Vladimir Haltakov, Matthew Sargent, Konrad Kording\n",
        "\n",
        "__Content reviewers:__ Deepak Raya, Siwei Bai, Kelson Shilling-Scrivo\n",
        "\n",
        "__Content editors:__ Anoop Kulkarni, Spiros Chavlis\n",
        "\n",
        "__Production editors:__ Arush Tagade, Spiros Chavlis"
      ]
    },
    {
      "cell_type": "markdown",
      "metadata": {
        "execution": {},
        "id": "NTsZkvLsEJZJ"
      },
      "source": [
        "---\n",
        "# Tutorial Objectives\n",
        "\n",
        "Then have a few specific objectives for this tutorial:\n",
        "* Learn about PyTorch and tensors\n",
        "* Tensor Manipulations\n",
        "* Data Loading\n",
        "* GPUs and CUDA Tensors\n",
        "* Train NaiveNet\n",
        "* Get to know your pod\n",
        "* Start thinking about the course as a whole"
      ]
    },
    {
      "cell_type": "code",
      "execution_count": null,
      "metadata": {
        "cellView": "form",
        "execution": {},
        "id": "rDhdeYdtEJZK"
      },
      "outputs": [],
      "source": [
        "# @title Tutorial slides\n",
        "from IPython.display import IFrame\n",
        "link_id = \"wcjrv\"\n",
        "print(f\"If you want to download the slides: https://osf.io/download/{link_id}/\")\n",
        "IFrame(src=f\"https://mfr.ca-1.osf.io/render?url=https://osf.io/{link_id}/?direct%26mode=render%26action=download%26mode=render\", width=854, height=480)"
      ]
    },
    {
      "cell_type": "markdown",
      "metadata": {
        "execution": {},
        "id": "yIKY3kmdEJZK"
      },
      "source": [
        "---\n",
        "# Setup"
      ]
    },
    {
      "cell_type": "markdown",
      "metadata": {
        "execution": {},
        "id": "QvZyKeFSEJZK"
      },
      "source": [
        "Throughout your Neuromatch tutorials, most (probably all!) notebooks contain setup cells. These cells will import the required Python packages (e.g., PyTorch, NumPy); set global or environment variables, and load in helper functions for things like plotting. In some tutorials, you will notice that we install some dependencies even if they are preinstalled on Google Colab or Kaggle. This happens because we have added automation to our repository through [GitHub Actions](https://docs.github.com/en/actions/learn-github-actions/introduction-to-github-actions).\n",
        "\n",
        "Be sure to run all of the cells in the setup section. Feel free to expand them and have a look at what you are loading in, but you should be able to fulfill the learning objectives of every tutorial without having to look at these cells.\n",
        "\n",
        "If you start building your own projects built on this code base we highly recommend looking at them in more detail."
      ]
    },
    {
      "cell_type": "code",
      "execution_count": 1,
      "metadata": {
        "execution": {},
        "id": "6iu_BZIMEJZL"
      },
      "outputs": [],
      "source": [
        "# @title Install dependencies\n",
        "!pip install pandas --quiet"
      ]
    },
    {
      "cell_type": "code",
      "execution_count": 2,
      "metadata": {
        "execution": {},
        "id": "PQT4J0BTEJZL",
        "outputId": "2b214448-b2ef-48ea-a083-5d5d0da83b67",
        "colab": {
          "base_uri": "https://localhost:8080/"
        }
      },
      "outputs": [
        {
          "output_type": "stream",
          "name": "stdout",
          "text": [
            "  Preparing metadata (setup.py) ... \u001b[?25l\u001b[?25hdone\n",
            "  Preparing metadata (setup.py) ... \u001b[?25l\u001b[?25hdone\n",
            "\u001b[2K   \u001b[90m━━━━━━━━━━━━━━━━━━━━━━━━━━━━━━━━━━━━━━━━\u001b[0m \u001b[32m1.6/1.6 MB\u001b[0m \u001b[31m48.8 MB/s\u001b[0m eta \u001b[36m0:00:00\u001b[0m\n",
            "\u001b[?25h  Building wheel for vibecheck (setup.py) ... \u001b[?25l\u001b[?25hdone\n",
            "  Building wheel for datatops (setup.py) ... \u001b[?25l\u001b[?25hdone\n"
          ]
        }
      ],
      "source": [
        "# @title Install and import feedback gadget\n",
        "!pip3 install vibecheck datatops --quiet\n",
        "\n",
        "from vibecheck import DatatopsContentReviewContainer\n",
        "def content_review(notebook_section: str):\n",
        "    return DatatopsContentReviewContainer(\n",
        "        \"\",  # No text prompt\n",
        "        notebook_section,\n",
        "        {\n",
        "            \"url\": \"https://pmyvdlilci.execute-api.us-east-1.amazonaws.com/klab\",\n",
        "            \"name\": \"neuromatch_dl\",\n",
        "            \"user_key\": \"f379rz8y\",\n",
        "        },\n",
        "    ).render()\n",
        "\n",
        "\n",
        "feedback_prefix = \"W1D1_T1\""
      ]
    },
    {
      "cell_type": "code",
      "execution_count": 3,
      "metadata": {
        "execution": {},
        "id": "8J3I1wWsEJZL"
      },
      "outputs": [],
      "source": [
        "# Imports\n",
        "import time\n",
        "import random\n",
        "import numpy as np\n",
        "import pandas as pd\n",
        "import matplotlib.pyplot as plt\n",
        "\n",
        "# PyTorch libraries\n",
        "import torch\n",
        "from torch import nn\n",
        "from torchvision import datasets\n",
        "from torch.utils.data import DataLoader\n",
        "from torchvision.transforms import ToTensor"
      ]
    },
    {
      "cell_type": "code",
      "execution_count": 4,
      "metadata": {
        "execution": {},
        "id": "_mr-KD1TEJZL"
      },
      "outputs": [],
      "source": [
        "# @title Figure Settings\n",
        "import logging\n",
        "logging.getLogger('matplotlib.font_manager').disabled = True\n",
        "\n",
        "import ipywidgets as widgets\n",
        "%config InlineBackend.figure_format = 'retina'\n",
        "plt.style.use(\"https://raw.githubusercontent.com/NeuromatchAcademy/content-creation/main/nma.mplstyle\")"
      ]
    },
    {
      "cell_type": "code",
      "execution_count": 5,
      "metadata": {
        "cellView": "form",
        "execution": {},
        "id": "45Hbf9cQEJZM"
      },
      "outputs": [],
      "source": [
        "# @title Helper Functions\n",
        "\n",
        "def checkExercise1(A, B, C, D):\n",
        "  \"\"\"\n",
        "  Helper function for checking Exercise 1.\n",
        "\n",
        "  Args:\n",
        "    A: torch.Tensor\n",
        "      Torch Tensor of shape (20, 21) consisting of ones.\n",
        "    B: torch.Tensor\n",
        "      Torch Tensor of size([3,4])\n",
        "    C: torch.Tensor\n",
        "      Torch Tensor of size([20,21])\n",
        "    D: torch.Tensor\n",
        "      Torch Tensor of size([19])\n",
        "\n",
        "  Returns:\n",
        "    Nothing.\n",
        "  \"\"\"\n",
        "  assert torch.equal(A.to(int),torch.ones(20, 21).to(int)), \"Got: {A} \\n Expected: {torch.ones(20, 21)} (shape: {torch.ones(20, 21).shape})\"\n",
        "  assert np.array_equal(B.numpy(),np.vander([1, 2, 3], 4)), \"Got: {B} \\n Expected: {np.vander([1, 2, 3], 4)} (shape: {np.vander([1, 2, 3], 4).shape})\"\n",
        "  assert C.shape == (20, 21), \"Got: {C} \\n Expected (shape: {(20, 21)})\"\n",
        "  assert torch.equal(D, torch.arange(4, 41, step=2)), \"Got {D} \\n Expected: {torch.arange(4, 41, step=2)} (shape: {torch.arange(4, 41, step=2).shape})\"\n",
        "  print(\"All correct\")\n",
        "\n",
        "def timeFun(f, dim, iterations, device='cpu'):\n",
        "  \"\"\"\n",
        "  Helper function to calculate amount of time taken per instance on CPU/GPU\n",
        "\n",
        "  Args:\n",
        "    f: BufferedReader IO instance\n",
        "      Function name for which to calculate computational time complexity\n",
        "    dim: Integer\n",
        "      Number of dimensions in instance in question\n",
        "    iterations: Integer\n",
        "      Number of iterations for instance in question\n",
        "    device: String\n",
        "      Device on which respective computation is to be run\n",
        "\n",
        "  Returns:\n",
        "    Nothing\n",
        "  \"\"\"\n",
        "  iterations = iterations\n",
        "  t_total = 0\n",
        "  for _ in range(iterations):\n",
        "    start = time.time()\n",
        "    f(dim, device)\n",
        "    end = time.time()\n",
        "    t_total += end - start\n",
        "\n",
        "  if device == 'cpu':\n",
        "    print(f\"time taken for {iterations} iterations of {f.__name__}({dim}, {device}): {t_total:.5f}\")\n",
        "  else:\n",
        "    print(f\"time taken for {iterations} iterations of {f.__name__}({dim}, {device}): {t_total:.5f}\")"
      ]
    },
    {
      "cell_type": "markdown",
      "metadata": {
        "execution": {},
        "id": "zYD8xPsDEJZM"
      },
      "source": [
        "**Important note: Colab users**\n",
        "\n",
        "*Scratch Code Cells*\n",
        "\n",
        "If you want to quickly try out something or take a look at the data, you can use scratch code cells. They allow you to run Python code, but will not mess up the structure of your notebook.\n",
        "\n",
        "To open a new scratch cell go to *Insert* → *Scratch code cell*."
      ]
    },
    {
      "cell_type": "markdown",
      "metadata": {
        "execution": {},
        "id": "idCKxXg2EJZM"
      },
      "source": [
        "# Section 1: Welcome to Neuromatch Deep learning course\n",
        "\n",
        "*Time estimate: ~25mins*"
      ]
    },
    {
      "cell_type": "code",
      "execution_count": null,
      "metadata": {
        "cellView": "form",
        "execution": {},
        "id": "8A39hUkfEJZM"
      },
      "outputs": [],
      "source": [
        "# @title Video 1: Welcome and History\n",
        "from ipywidgets import widgets\n",
        "from IPython.display import YouTubeVideo\n",
        "from IPython.display import IFrame\n",
        "from IPython.display import display\n",
        "\n",
        "\n",
        "class PlayVideo(IFrame):\n",
        "  def __init__(self, id, source, page=1, width=400, height=300, **kwargs):\n",
        "    self.id = id\n",
        "    if source == 'Bilibili':\n",
        "      src = f'https://player.bilibili.com/player.html?bvid={id}&page={page}'\n",
        "    elif source == 'Osf':\n",
        "      src = f'https://mfr.ca-1.osf.io/render?url=https://osf.io/download/{id}/?direct%26mode=render'\n",
        "    super(PlayVideo, self).__init__(src, width, height, **kwargs)\n",
        "\n",
        "\n",
        "def display_videos(video_ids, W=400, H=300, fs=1):\n",
        "  tab_contents = []\n",
        "  for i, video_id in enumerate(video_ids):\n",
        "    out = widgets.Output()\n",
        "    with out:\n",
        "      if video_ids[i][0] == 'Youtube':\n",
        "        video = YouTubeVideo(id=video_ids[i][1], width=W,\n",
        "                             height=H, fs=fs, rel=0)\n",
        "        print(f'Video available at https://youtube.com/watch?v={video.id}')\n",
        "      else:\n",
        "        video = PlayVideo(id=video_ids[i][1], source=video_ids[i][0], width=W,\n",
        "                          height=H, fs=fs, autoplay=False)\n",
        "        if video_ids[i][0] == 'Bilibili':\n",
        "          print(f'Video available at https://www.bilibili.com/video/{video.id}')\n",
        "        elif video_ids[i][0] == 'Osf':\n",
        "          print(f'Video available at https://osf.io/{video.id}')\n",
        "      display(video)\n",
        "    tab_contents.append(out)\n",
        "  return tab_contents\n",
        "\n",
        "\n",
        "video_ids = [('Youtube', 'ca21SNqt78I'), ('Bilibili', 'BV1Av411n7oL')]\n",
        "tab_contents = display_videos(video_ids, W=854, H=480)\n",
        "tabs = widgets.Tab()\n",
        "tabs.children = tab_contents\n",
        "for i in range(len(tab_contents)):\n",
        "  tabs.set_title(i, video_ids[i][0])\n",
        "display(tabs)"
      ]
    },
    {
      "cell_type": "markdown",
      "metadata": {
        "execution": {},
        "id": "XULEEZATEJZM"
      },
      "source": [
        "This will be an intensive 3 week adventure. We will all learn Deep Learning (DL) in a group. Groups need standards. Read our\n",
        "[Code of Conduct](https://docs.google.com/document/d/1eHKIkaNbAlbx_92tLQelXnicKXEcvFzlyzzeWjEtifM/edit?usp=sharing).\n"
      ]
    },
    {
      "cell_type": "code",
      "execution_count": null,
      "metadata": {
        "cellView": "form",
        "execution": {},
        "id": "udPiWlHuEJZN"
      },
      "outputs": [],
      "source": [
        "# @title Submit your feedback\n",
        "content_review(f\"{feedback_prefix}_Welcome_and_History_Video\")"
      ]
    },
    {
      "cell_type": "code",
      "execution_count": null,
      "metadata": {
        "cellView": "form",
        "execution": {},
        "id": "UmcLSEoNEJZN"
      },
      "outputs": [],
      "source": [
        "# @title Video 2: Why DL is cool\n",
        "from ipywidgets import widgets\n",
        "from IPython.display import YouTubeVideo\n",
        "from IPython.display import IFrame\n",
        "from IPython.display import display\n",
        "\n",
        "\n",
        "class PlayVideo(IFrame):\n",
        "  def __init__(self, id, source, page=1, width=400, height=300, **kwargs):\n",
        "    self.id = id\n",
        "    if source == 'Bilibili':\n",
        "      src = f'https://player.bilibili.com/player.html?bvid={id}&page={page}'\n",
        "    elif source == 'Osf':\n",
        "      src = f'https://mfr.ca-1.osf.io/render?url=https://osf.io/download/{id}/?direct%26mode=render'\n",
        "    super(PlayVideo, self).__init__(src, width, height, **kwargs)\n",
        "\n",
        "\n",
        "def display_videos(video_ids, W=400, H=300, fs=1):\n",
        "  tab_contents = []\n",
        "  for i, video_id in enumerate(video_ids):\n",
        "    out = widgets.Output()\n",
        "    with out:\n",
        "      if video_ids[i][0] == 'Youtube':\n",
        "        video = YouTubeVideo(id=video_ids[i][1], width=W,\n",
        "                             height=H, fs=fs, rel=0)\n",
        "        print(f'Video available at https://youtube.com/watch?v={video.id}')\n",
        "      else:\n",
        "        video = PlayVideo(id=video_ids[i][1], source=video_ids[i][0], width=W,\n",
        "                          height=H, fs=fs, autoplay=False)\n",
        "        if video_ids[i][0] == 'Bilibili':\n",
        "          print(f'Video available at https://www.bilibili.com/video/{video.id}')\n",
        "        elif video_ids[i][0] == 'Osf':\n",
        "          print(f'Video available at https://osf.io/{video.id}')\n",
        "      display(video)\n",
        "    tab_contents.append(out)\n",
        "  return tab_contents\n",
        "\n",
        "\n",
        "video_ids = [('Youtube', 'l-K6495BN-4'), ('Bilibili', 'BV1gf4y1j7UZ')]\n",
        "tab_contents = display_videos(video_ids, W=854, H=480)\n",
        "tabs = widgets.Tab()\n",
        "tabs.children = tab_contents\n",
        "for i in range(len(tab_contents)):\n",
        "  tabs.set_title(i, video_ids[i][0])\n",
        "display(tabs)"
      ]
    },
    {
      "cell_type": "markdown",
      "metadata": {
        "execution": {},
        "id": "EiUnIIzIEJZN"
      },
      "source": [
        "**Discuss with your pod: What do you hope to get out of this course? [in about 100 words]**"
      ]
    },
    {
      "cell_type": "code",
      "execution_count": null,
      "metadata": {
        "cellView": "form",
        "execution": {},
        "id": "hsFgJ_JGEJZN"
      },
      "outputs": [],
      "source": [
        "# @title Submit your feedback\n",
        "content_review(f\"{feedback_prefix}_Why_DL_is_cool_Video\")"
      ]
    },
    {
      "cell_type": "markdown",
      "metadata": {
        "execution": {},
        "id": "1xfmmdqdEJZN"
      },
      "source": [
        "---\n",
        "# Section 2: The Basics of PyTorch\n",
        "\n",
        "*Time estimate: ~2 hours 05 mins*"
      ]
    },
    {
      "cell_type": "markdown",
      "metadata": {
        "execution": {},
        "id": "ipy58_PeEJZN"
      },
      "source": [
        "PyTorch is a Python-based scientific computing package targeted at two sets of\n",
        "audiences:\n",
        "\n",
        "-  A replacement for NumPy optimized for the power of GPUs\n",
        "-  A deep learning platform that provides significant flexibility\n",
        "   and speed\n",
        "\n",
        "At its core, PyTorch provides a few key features:\n",
        "\n",
        "- A multidimensional [Tensor](https://pytorch.org/docs/stable/tensors.html) object, similar to [NumPy Array](https://numpy.org/doc/stable/reference/generated/numpy.ndarray.html) but with GPU acceleration.\n",
        "- An optimized **autograd** engine for automatically computing derivatives.\n",
        "- A clean, modular API for building and deploying **deep learning models**.\n",
        "\n",
        "You can find more information about PyTorch in the Appendix."
      ]
    },
    {
      "cell_type": "markdown",
      "metadata": {
        "execution": {},
        "id": "8g6q_3dLEJZN"
      },
      "source": [
        "## Section 2.1: Creating Tensors\n"
      ]
    },
    {
      "cell_type": "code",
      "execution_count": 6,
      "metadata": {
        "cellView": "form",
        "execution": {},
        "id": "LQSjjE7rEJZN",
        "outputId": "35a7124c-ad1b-4c79-c829-d0a665ad8771",
        "colab": {
          "base_uri": "https://localhost:8080/",
          "height": 581,
          "referenced_widgets": [
            "90fc0c3b8d80409a8c8b4bde98bb66d6",
            "6e3f3fede10e48179941c75a296a14ed",
            "74d28f9452e144eda70bcca5e66b638a",
            "0922434014b64e3aa33dec41fc6f7500",
            "71f29811c6b64a7cb76b5fe80b5870af",
            "48fe0d11771f410c88c265e6917d3960"
          ]
        }
      },
      "outputs": [
        {
          "output_type": "display_data",
          "data": {
            "text/plain": [
              "Tab(children=(Output(), Output()), _titles={'0': 'Youtube', '1': 'Bilibili'})"
            ],
            "application/vnd.jupyter.widget-view+json": {
              "version_major": 2,
              "version_minor": 0,
              "model_id": "90fc0c3b8d80409a8c8b4bde98bb66d6"
            }
          },
          "metadata": {}
        }
      ],
      "source": [
        "# @title Video 3: Making Tensors\n",
        "from ipywidgets import widgets\n",
        "from IPython.display import YouTubeVideo\n",
        "from IPython.display import IFrame\n",
        "from IPython.display import display\n",
        "\n",
        "\n",
        "class PlayVideo(IFrame):\n",
        "  def __init__(self, id, source, page=1, width=400, height=300, **kwargs):\n",
        "    self.id = id\n",
        "    if source == 'Bilibili':\n",
        "      src = f'https://player.bilibili.com/player.html?bvid={id}&page={page}'\n",
        "    elif source == 'Osf':\n",
        "      src = f'https://mfr.ca-1.osf.io/render?url=https://osf.io/download/{id}/?direct%26mode=render'\n",
        "    super(PlayVideo, self).__init__(src, width, height, **kwargs)\n",
        "\n",
        "\n",
        "def display_videos(video_ids, W=400, H=300, fs=1):\n",
        "  tab_contents = []\n",
        "  for i, video_id in enumerate(video_ids):\n",
        "    out = widgets.Output()\n",
        "    with out:\n",
        "      if video_ids[i][0] == 'Youtube':\n",
        "        video = YouTubeVideo(id=video_ids[i][1], width=W,\n",
        "                             height=H, fs=fs, rel=0)\n",
        "        print(f'Video available at https://youtube.com/watch?v={video.id}')\n",
        "      else:\n",
        "        video = PlayVideo(id=video_ids[i][1], source=video_ids[i][0], width=W,\n",
        "                          height=H, fs=fs, autoplay=False)\n",
        "        if video_ids[i][0] == 'Bilibili':\n",
        "          print(f'Video available at https://www.bilibili.com/video/{video.id}')\n",
        "        elif video_ids[i][0] == 'Osf':\n",
        "          print(f'Video available at https://osf.io/{video.id}')\n",
        "      display(video)\n",
        "    tab_contents.append(out)\n",
        "  return tab_contents\n",
        "\n",
        "\n",
        "video_ids = [('Youtube', 'jGKd_4tPGrw'), ('Bilibili', 'BV1Rw411d7Uy')]\n",
        "tab_contents = display_videos(video_ids, W=854, H=480)\n",
        "tabs = widgets.Tab()\n",
        "tabs.children = tab_contents\n",
        "for i in range(len(tab_contents)):\n",
        "  tabs.set_title(i, video_ids[i][0])\n",
        "display(tabs)"
      ]
    },
    {
      "cell_type": "code",
      "execution_count": null,
      "metadata": {
        "cellView": "form",
        "execution": {},
        "id": "QmanPzScEJZN"
      },
      "outputs": [],
      "source": [
        "# @title Submit your feedback\n",
        "content_review(f\"{feedback_prefix}_Making_Tensors_Video\")"
      ]
    },
    {
      "cell_type": "markdown",
      "metadata": {
        "execution": {},
        "id": "kQn_IEGqEJZN"
      },
      "source": [
        "There are various ways of creating tensors, and when doing any real deep learning project, we will usually have to do so."
      ]
    },
    {
      "cell_type": "markdown",
      "metadata": {
        "execution": {},
        "id": "9daQSgU1EJZO"
      },
      "source": [
        "**Construct tensors directly:**\n",
        "\n",
        "---\n",
        "\n"
      ]
    },
    {
      "cell_type": "code",
      "execution_count": 7,
      "metadata": {
        "execution": {},
        "id": "1sYsaEOCEJZO",
        "outputId": "5ac903bb-8265-42c9-d136-93dcac374293",
        "colab": {
          "base_uri": "https://localhost:8080/"
        }
      },
      "outputs": [
        {
          "output_type": "stream",
          "name": "stdout",
          "text": [
            "Tensor a: tensor([0, 1, 2])\n",
            "Tensor b: tensor([[1.0000, 1.1000],\n",
            "        [1.2000, 1.3000]])\n",
            "Tensor c: tensor([[1., 1., 1.],\n",
            "        [1., 1., 1.]], dtype=torch.float64)\n"
          ]
        }
      ],
      "source": [
        "# We can construct a tensor directly from some common python iterables,\n",
        "# such as list and tuple nested iterables can also be handled as long as the\n",
        "# dimensions are compatible\n",
        "\n",
        "# tensor from a list\n",
        "a = torch.tensor([0, 1, 2])\n",
        "\n",
        "#tensor from a tuple of tuples\n",
        "b = ((1.0, 1.1), (1.2, 1.3))\n",
        "b = torch.tensor(b)\n",
        "\n",
        "# tensor from a numpy array\n",
        "c = np.ones([2, 3])\n",
        "c = torch.tensor(c)\n",
        "\n",
        "print(f\"Tensor a: {a}\")\n",
        "print(f\"Tensor b: {b}\")\n",
        "print(f\"Tensor c: {c}\")"
      ]
    },
    {
      "cell_type": "markdown",
      "metadata": {
        "execution": {},
        "id": "3RqfLYTDEJZO"
      },
      "source": [
        "**Some common tensor constructors:**\n",
        "\n",
        "---"
      ]
    },
    {
      "cell_type": "code",
      "execution_count": 8,
      "metadata": {
        "execution": {},
        "id": "fdqGTxCIEJZO",
        "outputId": "e49c7607-e525-4360-fc70-0b8ca1c027af",
        "colab": {
          "base_uri": "https://localhost:8080/"
        }
      },
      "outputs": [
        {
          "output_type": "stream",
          "name": "stdout",
          "text": [
            "Tensor x: tensor([[1., 1., 1.],\n",
            "        [1., 1., 1.],\n",
            "        [1., 1., 1.],\n",
            "        [1., 1., 1.],\n",
            "        [1., 1., 1.]])\n",
            "Tensor y: tensor([0., 0.])\n",
            "Tensor z: tensor([[[ 1.5141e-38,  0.0000e+00, -1.4218e-33,  4.5696e-41,  1.5086e-38]]])\n"
          ]
        }
      ],
      "source": [
        "# The numerical arguments we pass to these constructors\n",
        "# determine the shape of the output tensor\n",
        "\n",
        "x = torch.ones(5, 3)\n",
        "y = torch.zeros(2)\n",
        "z = torch.empty(1, 1, 5)\n",
        "print(f\"Tensor x: {x}\")\n",
        "print(f\"Tensor y: {y}\")\n",
        "print(f\"Tensor z: {z}\")"
      ]
    },
    {
      "cell_type": "markdown",
      "metadata": {
        "execution": {},
        "id": "8dJ-85PrEJZO"
      },
      "source": [
        "Notice that `.empty()` does not return zeros, but seemingly random numbers. Unlike `.zeros()`, which initialises the elements of the tensor with zeros, `.empty()` just allocates the memory. It is hence a bit faster if you are looking to just create a tensor."
      ]
    },
    {
      "cell_type": "markdown",
      "metadata": {
        "execution": {},
        "id": "omgZ0DIvEJZO"
      },
      "source": [
        "**Creating random tensors and tensors like other tensors:**\n",
        "\n",
        "---"
      ]
    },
    {
      "cell_type": "code",
      "execution_count": 9,
      "metadata": {
        "execution": {},
        "id": "RLW02sdmEJZO",
        "outputId": "7bd5849d-3d4d-4f00-93ef-10503e237208",
        "colab": {
          "base_uri": "https://localhost:8080/"
        }
      },
      "outputs": [
        {
          "output_type": "stream",
          "name": "stdout",
          "text": [
            "Tensor a: tensor([[0.0260, 0.4411, 0.7330]])\n",
            "Tensor b: tensor([[ 0.4368, -2.3133, -0.4972,  0.1693],\n",
            "        [-1.3983,  0.1418, -0.1762, -0.1161],\n",
            "        [ 1.0762, -0.8133,  0.0590,  1.0128]])\n",
            "Tensor c: tensor([[0., 0., 0.]])\n",
            "Tensor d: tensor([[0.2523, 0.4381, 0.7319]])\n"
          ]
        }
      ],
      "source": [
        "# There are also constructors for random numbers\n",
        "\n",
        "# Uniform distribution\n",
        "a = torch.rand(1, 3)\n",
        "\n",
        "# Normal distribution\n",
        "b = torch.randn(3, 4)\n",
        "\n",
        "# There are also constructors that allow us to construct\n",
        "# a tensor according to the above constructors, but with\n",
        "# dimensions equal to another tensor.\n",
        "\n",
        "c = torch.zeros_like(a)\n",
        "d = torch.rand_like(c)\n",
        "\n",
        "print(f\"Tensor a: {a}\")\n",
        "print(f\"Tensor b: {b}\")\n",
        "print(f\"Tensor c: {c}\")\n",
        "print(f\"Tensor d: {d}\")"
      ]
    },
    {
      "cell_type": "markdown",
      "metadata": {
        "execution": {},
        "id": "drkU3sZWEJZO"
      },
      "source": [
        "*Reproducibility*:\n",
        "\n",
        "- PyTorch Random Number Generator (RNG): You can use `torch.manual_seed()` to seed the RNG for all devices (both CPU and GPU):\n",
        "\n",
        "```python\n",
        "import torch\n",
        "torch.manual_seed(0)\n",
        "```\n",
        "- For custom operators, you might need to set python seed as well:\n",
        "\n",
        "```python\n",
        "import random\n",
        "random.seed(0)\n",
        "```\n",
        "\n",
        "- Random number generators in other libraries (e.g., NumPy):\n",
        "\n",
        "```python\n",
        "import numpy as np\n",
        "np.random.seed(0)\n",
        "```"
      ]
    },
    {
      "cell_type": "markdown",
      "metadata": {
        "execution": {},
        "id": "d515disbEJZO"
      },
      "source": [
        "Here, we define for you a function called `set_seed` that does the job for you!"
      ]
    },
    {
      "cell_type": "code",
      "execution_count": 10,
      "metadata": {
        "execution": {},
        "id": "_jVwIi80EJZO"
      },
      "outputs": [],
      "source": [
        "def set_seed(seed=None, seed_torch=True):\n",
        "  \"\"\"\n",
        "  Function that controls randomness. NumPy and random modules must be imported.\n",
        "\n",
        "  Args:\n",
        "    seed : Integer\n",
        "      A non-negative integer that defines the random state. Default is `None`.\n",
        "    seed_torch : Boolean\n",
        "      If `True` sets the random seed for pytorch tensors, so pytorch module\n",
        "      must be imported. Default is `True`.\n",
        "\n",
        "  Returns:\n",
        "    Nothing.\n",
        "  \"\"\"\n",
        "  if seed is None:\n",
        "    seed = np.random.choice(2 ** 32)\n",
        "  random.seed(seed)\n",
        "  np.random.seed(seed)\n",
        "  if seed_torch:\n",
        "    torch.manual_seed(seed)\n",
        "    torch.cuda.manual_seed_all(seed)\n",
        "    torch.cuda.manual_seed(seed)\n",
        "    torch.backends.cudnn.benchmark = False\n",
        "    torch.backends.cudnn.deterministic = True\n",
        "\n",
        "  print(f'Random seed {seed} has been set.')"
      ]
    },
    {
      "cell_type": "markdown",
      "metadata": {
        "execution": {},
        "id": "IQ88Qk8HEJZO"
      },
      "source": [
        "Now, let's use the `set_seed` function in the previous example. Execute the cell multiple times to verify that the numbers printed are always the same."
      ]
    },
    {
      "cell_type": "code",
      "execution_count": 12,
      "metadata": {
        "execution": {},
        "id": "BoSudVtJEJZP"
      },
      "outputs": [],
      "source": [
        "def simplefun(seed=True, my_seed=None):\n",
        "  \"\"\"\n",
        "  Helper function to verify effectiveness of set_seed attribute\n",
        "\n",
        "  Args:\n",
        "    seed: Boolean\n",
        "      Specifies if seed value is provided or not\n",
        "    my_seed: Integer\n",
        "      Initializes seed to specified value\n",
        "\n",
        "  Returns:\n",
        "    Nothing\n",
        "  \"\"\"\n",
        "  if seed:\n",
        "    set_seed(seed=my_seed)\n",
        "\n",
        "  # uniform distribution\n",
        "  a = torch.rand(1, 3)\n",
        "  # normal distribution\n",
        "  b = torch.randn(3, 4)\n",
        "\n",
        "  print(\"Tensor a: \", a)\n",
        "  print(\"Tensor b: \", b)"
      ]
    },
    {
      "cell_type": "code",
      "execution_count": 16,
      "metadata": {
        "execution": {},
        "id": "9jb8Yk7BEJZP",
        "outputId": "b1ac0e3f-fd6b-4308-e866-a50b7f311e62",
        "colab": {
          "base_uri": "https://localhost:8080/"
        }
      },
      "outputs": [
        {
          "output_type": "stream",
          "name": "stdout",
          "text": [
            "Random seed 0 has been set.\n",
            "Tensor a:  tensor([[0.4963, 0.7682, 0.0885]])\n",
            "Tensor b:  tensor([[ 0.3643,  0.1344,  0.1642,  0.3058],\n",
            "        [ 0.2100,  0.9056,  0.6035,  0.8110],\n",
            "        [-0.0451,  0.8797,  1.0482, -0.0445]])\n"
          ]
        }
      ],
      "source": [
        "simplefun(seed=True, my_seed=0)  # Turn `seed` to `False` or change `my_seed`"
      ]
    },
    {
      "cell_type": "markdown",
      "metadata": {
        "execution": {},
        "id": "pLjeRt9nEJZP"
      },
      "source": [
        "**Numpy-like number ranges:**\n",
        "---\n",
        "The ```.arange()``` and ```.linspace()``` behave how you would expect them to if you are familar with numpy."
      ]
    },
    {
      "cell_type": "code",
      "execution_count": 19,
      "metadata": {
        "execution": {},
        "id": "_nyrx333EJZP",
        "outputId": "2a6bb8a5-0035-4380-a633-e676dc630db2",
        "colab": {
          "base_uri": "https://localhost:8080/"
        }
      },
      "outputs": [
        {
          "output_type": "stream",
          "name": "stdout",
          "text": [
            "Tensor a: tensor([0, 1, 2, 3, 4, 5, 6, 7, 8, 9])\n",
            "\n",
            "Numpy array b: [0 1 2 3 4 5 6 7 8 9]\n",
            "\n",
            "Tensor c: tensor([0.0000, 0.5000, 1.0000, 1.5000, 2.0000, 2.5000, 3.0000, 3.5000, 4.0000,\n",
            "        4.5000, 5.0000])\n",
            "\n",
            "Numpy array d: [0.  0.5 1.  1.5 2.  2.5 3.  3.5 4.  4.5 5. ]\n",
            "\n"
          ]
        }
      ],
      "source": [
        "a = torch.arange(0, 10, step=1)\n",
        "b = np.arange(0, 10, step=1)\n",
        "\n",
        "c = torch.linspace(0, 5, steps=11)\n",
        "d = np.linspace(0, 5, num=11)\n",
        "\n",
        "print(f\"Tensor a: {a}\\n\")\n",
        "print(f\"Numpy array b: {b}\\n\")\n",
        "print(f\"Tensor c: {c}\\n\")\n",
        "print(f\"Numpy array d: {d}\\n\")"
      ]
    },
    {
      "cell_type": "markdown",
      "metadata": {
        "execution": {},
        "id": "Pdchh5-AEJZc"
      },
      "source": [
        "### Coding Exercise 2.1: Creating Tensors\n",
        "\n",
        "Below you will find some incomplete code. Fill in the missing code to construct the specified tensors.\n",
        "\n",
        "We want the tensors:\n",
        "\n",
        "$A:$ 20 by 21 tensor consisting of ones\n",
        "\n",
        "$B:$ a tensor with elements equal to the elements of numpy array $Z$\n",
        "\n",
        "$C:$ a tensor with the same number of elements as $A$ but with values $\n",
        "\\sim \\mathcal{U}(0,1)^\\dagger$\n",
        "\n",
        "$D:$ a 1D tensor containing the even numbers between 4 and 40 inclusive.\n",
        "\n",
        "<br>\n",
        "\n",
        "$^\\dagger$: $\\mathcal{U(\\alpha, \\beta)}$ denotes the [uniform distribution](https://en.wikipedia.org/wiki/Continuous_uniform_distribution) from $\\alpha$ to $\\beta$, with $\\alpha, \\beta \\in \\mathbb{R}$.\n"
      ]
    },
    {
      "cell_type": "code",
      "execution_count": 24,
      "metadata": {
        "execution": {},
        "id": "PBe-aPkfEJZd",
        "outputId": "b35a55d9-9c64-4581-b2cb-bde91602d7fd",
        "colab": {
          "base_uri": "https://localhost:8080/"
        }
      },
      "outputs": [
        {
          "output_type": "stream",
          "name": "stdout",
          "text": [
            "All correct\n"
          ]
        }
      ],
      "source": [
        "def tensor_creation(Z):\n",
        "  \"\"\"\n",
        "  A function that creates various tensors.\n",
        "\n",
        "  Args:\n",
        "    Z: numpy.ndarray\n",
        "      An array of shape (3,4)\n",
        "\n",
        "  Returns:\n",
        "    A : Tensor\n",
        "      20 by 21 tensor consisting of ones\n",
        "    B : Tensor\n",
        "      A tensor with elements equal to the elements of numpy array Z\n",
        "    C : Tensor\n",
        "      A tensor with the same number of elements as A but with values ∼U(0,1)\n",
        "    D : Tensor\n",
        "      A 1D tensor containing the even numbers between 4 and 40 inclusive.\n",
        "  \"\"\"\n",
        "  #################################################\n",
        "  ## TODO for students: fill in the missing code\n",
        "  ## from the first expression\n",
        "  # raise NotImplementedError(\"Student exercise: say what they should have done\")\n",
        "  #################################################\n",
        "  A = torch.ones(20, 21)\n",
        "  B = torch.tensor(Z)\n",
        "  C = torch.rand_like(A)\n",
        "  D = torch.arange(4, 41, step=2)\n",
        "\n",
        "  return A, B, C, D\n",
        "\n",
        "\n",
        "# numpy array to copy later\n",
        "Z = np.vander([1, 2, 3], 4)\n",
        "\n",
        "# Uncomment below to check your function!\n",
        "A, B, C, D = tensor_creation(Z)\n",
        "checkExercise1(A, B, C, D)"
      ]
    },
    {
      "cell_type": "markdown",
      "metadata": {
        "execution": {},
        "id": "wFutVpQLEJZd"
      },
      "source": [
        "[*Click for solution*](https://github.com/NeuromatchAcademy/course-content-dl/tree/main/tutorials/W1D1_BasicsAndPytorch/solutions/W1D1_Tutorial1_Solution_7137e978.py)\n",
        "\n"
      ]
    },
    {
      "cell_type": "markdown",
      "metadata": {
        "execution": {},
        "id": "LMWzITuVEJZd"
      },
      "source": [
        "```\n",
        "All correct!\n",
        "```"
      ]
    },
    {
      "cell_type": "code",
      "execution_count": null,
      "metadata": {
        "cellView": "form",
        "execution": {},
        "id": "1Z_a_1TaEJZd"
      },
      "outputs": [],
      "source": [
        "# @title Submit your feedback\n",
        "content_review(f\"{feedback_prefix}_Creating_Tensors_Exercise\")"
      ]
    },
    {
      "cell_type": "markdown",
      "metadata": {
        "execution": {},
        "id": "BACg8xcsEJZe"
      },
      "source": [
        "## Section 2.2: Operations in PyTorch\n",
        "\n",
        "**Tensor-Tensor operations**\n",
        "\n",
        "We can perform operations on tensors using methods under `torch.`"
      ]
    },
    {
      "cell_type": "code",
      "execution_count": 25,
      "metadata": {
        "cellView": "form",
        "execution": {},
        "id": "uZQWgLYsEJZe",
        "outputId": "a46cbeeb-c51d-491c-dbee-302a6aeb5d25",
        "colab": {
          "base_uri": "https://localhost:8080/",
          "height": 581,
          "referenced_widgets": [
            "308a1d2c1fbd4689aff40ddb9fe5b39f",
            "d104f7c9247e48d4bf34f6555d39905e",
            "307b13fa6c0a4801997599a5492cd471",
            "1a07d09210604e79bbf99ff6e7606370",
            "c1d84cf67fb34f799e5bd32884ea33d7",
            "07c940a567034f57806f2a9ff0af9e01"
          ]
        }
      },
      "outputs": [
        {
          "output_type": "display_data",
          "data": {
            "text/plain": [
              "Tab(children=(Output(), Output()), _titles={'0': 'Youtube', '1': 'Bilibili'})"
            ],
            "application/vnd.jupyter.widget-view+json": {
              "version_major": 2,
              "version_minor": 0,
              "model_id": "308a1d2c1fbd4689aff40ddb9fe5b39f"
            }
          },
          "metadata": {}
        }
      ],
      "source": [
        "# @title Video 4: Tensor Operators\n",
        "from ipywidgets import widgets\n",
        "from IPython.display import YouTubeVideo\n",
        "from IPython.display import IFrame\n",
        "from IPython.display import display\n",
        "\n",
        "\n",
        "class PlayVideo(IFrame):\n",
        "  def __init__(self, id, source, page=1, width=400, height=300, **kwargs):\n",
        "    self.id = id\n",
        "    if source == 'Bilibili':\n",
        "      src = f'https://player.bilibili.com/player.html?bvid={id}&page={page}'\n",
        "    elif source == 'Osf':\n",
        "      src = f'https://mfr.ca-1.osf.io/render?url=https://osf.io/download/{id}/?direct%26mode=render'\n",
        "    super(PlayVideo, self).__init__(src, width, height, **kwargs)\n",
        "\n",
        "\n",
        "def display_videos(video_ids, W=400, H=300, fs=1):\n",
        "  tab_contents = []\n",
        "  for i, video_id in enumerate(video_ids):\n",
        "    out = widgets.Output()\n",
        "    with out:\n",
        "      if video_ids[i][0] == 'Youtube':\n",
        "        video = YouTubeVideo(id=video_ids[i][1], width=W,\n",
        "                             height=H, fs=fs, rel=0)\n",
        "        print(f'Video available at https://youtube.com/watch?v={video.id}')\n",
        "      else:\n",
        "        video = PlayVideo(id=video_ids[i][1], source=video_ids[i][0], width=W,\n",
        "                          height=H, fs=fs, autoplay=False)\n",
        "        if video_ids[i][0] == 'Bilibili':\n",
        "          print(f'Video available at https://www.bilibili.com/video/{video.id}')\n",
        "        elif video_ids[i][0] == 'Osf':\n",
        "          print(f'Video available at https://osf.io/{video.id}')\n",
        "      display(video)\n",
        "    tab_contents.append(out)\n",
        "  return tab_contents\n",
        "\n",
        "\n",
        "video_ids = [('Youtube', 'R1R8VoYXBVA'), ('Bilibili', 'BV1G44y127As')]\n",
        "tab_contents = display_videos(video_ids, W=854, H=480)\n",
        "tabs = widgets.Tab()\n",
        "tabs.children = tab_contents\n",
        "for i in range(len(tab_contents)):\n",
        "  tabs.set_title(i, video_ids[i][0])\n",
        "display(tabs)"
      ]
    },
    {
      "cell_type": "code",
      "execution_count": null,
      "metadata": {
        "cellView": "form",
        "execution": {},
        "id": "I6plemFtEJZe"
      },
      "outputs": [],
      "source": [
        "# @title Submit your feedback\n",
        "content_review(f\"{feedback_prefix}_Tensors_Operators_Video\")"
      ]
    },
    {
      "cell_type": "markdown",
      "metadata": {
        "execution": {},
        "id": "Ippvu8pvEJZe"
      },
      "source": [
        "**Tensor-Tensor operations**\n",
        "\n",
        "We can perform operations on tensors using methods under `torch.`."
      ]
    },
    {
      "cell_type": "code",
      "execution_count": 28,
      "metadata": {
        "execution": {},
        "id": "NwOGytPrEJZe",
        "outputId": "eb0b571c-6e43-4e5d-9571-484329fbf0af",
        "colab": {
          "base_uri": "https://localhost:8080/"
        }
      },
      "outputs": [
        {
          "output_type": "stream",
          "name": "stdout",
          "text": [
            "tensor([[1.4683, 1.6668, 1.6499],\n",
            "        [1.9184, 1.9913, 1.9549],\n",
            "        [1.8357, 1.8515, 1.4355],\n",
            "        [1.1120, 1.3144, 1.4439],\n",
            "        [1.2298, 1.7556, 1.6755]])\n",
            "tensor([[0.4683, 0.6668, 0.6499],\n",
            "        [0.9184, 0.9913, 0.9549],\n",
            "        [0.8357, 0.8515, 0.4355],\n",
            "        [0.1120, 0.3144, 0.4439],\n",
            "        [0.2298, 0.7556, 0.6755]])\n"
          ]
        }
      ],
      "source": [
        "a = torch.ones(5, 3)\n",
        "b = torch.rand(5, 3)\n",
        "c = torch.empty(5, 3)\n",
        "d = torch.empty(5, 3)\n",
        "\n",
        "# this only works if c and d already exist\n",
        "torch.add(a, b, out=c)\n",
        "\n",
        "# Pointwise Multiplication of a and b\n",
        "torch.multiply(a, b, out=d)\n",
        "\n",
        "print(c)\n",
        "print(d)"
      ]
    },
    {
      "cell_type": "markdown",
      "metadata": {
        "execution": {},
        "id": "-EhNvbSREJZe"
      },
      "source": [
        "However, in PyTorch, most common Python operators are overridden.\n",
        "The common standard arithmetic operators ($+$, $-$, $*$, $/$, and $**$) have all been lifted to elementwise operations"
      ]
    },
    {
      "cell_type": "code",
      "execution_count": 29,
      "metadata": {
        "execution": {},
        "id": "-ecVFhM-EJZe",
        "outputId": "4db8b740-8d90-46c4-fcad-86126de036ad",
        "colab": {
          "base_uri": "https://localhost:8080/"
        }
      },
      "outputs": [
        {
          "output_type": "execute_result",
          "data": {
            "text/plain": [
              "(tensor([ 2,  4,  7, 12]),\n",
              " tensor([0, 0, 1, 4]),\n",
              " tensor([ 1,  4, 12, 32]),\n",
              " tensor([1.0000, 1.0000, 1.3333, 2.0000]),\n",
              " tensor([   1,    4,   64, 4096]))"
            ]
          },
          "metadata": {},
          "execution_count": 29
        }
      ],
      "source": [
        "x = torch.tensor([1, 2, 4, 8])\n",
        "y = torch.tensor([1, 2, 3, 4])\n",
        "x + y, x - y, x * y, x / y, x**y  # The `**` is the exponentiation operator"
      ]
    },
    {
      "cell_type": "markdown",
      "metadata": {
        "execution": {},
        "id": "A5DOY__uEJZe"
      },
      "source": [
        "**Tensor Methods**"
      ]
    },
    {
      "cell_type": "markdown",
      "metadata": {
        "execution": {},
        "id": "qTOWIjOUEJZe"
      },
      "source": [
        "Tensors also have a number of common arithmetic operations built in. A full list of **all** methods can be found  in the appendix (there are a lot!)\n",
        "\n",
        "All of these operations should have similar syntax to their numpy equivalents (feel free to skip if you already know this!)."
      ]
    },
    {
      "cell_type": "code",
      "execution_count": 30,
      "metadata": {
        "execution": {},
        "id": "mH6bptoEEJZe",
        "outputId": "404f5515-a071-4b14-a719-6f3874cdf6ca",
        "colab": {
          "base_uri": "https://localhost:8080/"
        }
      },
      "outputs": [
        {
          "output_type": "stream",
          "name": "stdout",
          "text": [
            "tensor([[0.5807, 0.6208, 0.9392],\n",
            "        [0.6821, 0.0615, 0.1371],\n",
            "        [0.7204, 0.5681, 0.7438]])\n",
            "\n",
            "\n",
            "Sum of every element of x: 5.05374813079834\n",
            "Sum of the columns of x: tensor([1.9832, 1.2505, 1.8201])\n",
            "Sum of the rows of x: tensor([2.1407, 0.8807, 2.0324])\n",
            "\n",
            "\n",
            "Mean value of all elements of x 0.5615275502204895\n",
            "Mean values of the columns of x tensor([0.6611, 0.4168, 0.6067])\n",
            "Mean values of the rows of x tensor([0.7136, 0.2936, 0.6775])\n"
          ]
        }
      ],
      "source": [
        "x = torch.rand(3, 3)\n",
        "print(x)\n",
        "print(\"\\n\")\n",
        "# sum() - note the axis is the axis you move across when summing\n",
        "print(f\"Sum of every element of x: {x.sum()}\")\n",
        "print(f\"Sum of the columns of x: {x.sum(axis=0)}\")\n",
        "print(f\"Sum of the rows of x: {x.sum(axis=1)}\")\n",
        "print(\"\\n\")\n",
        "\n",
        "print(f\"Mean value of all elements of x {x.mean()}\")\n",
        "print(f\"Mean values of the columns of x {x.mean(axis=0)}\")\n",
        "print(f\"Mean values of the rows of x {x.mean(axis=1)}\")"
      ]
    },
    {
      "cell_type": "markdown",
      "metadata": {
        "execution": {},
        "id": "6NOe7fBEEJZe"
      },
      "source": [
        "**Matrix Operations**\n",
        "\n",
        "The `@` symbol is overridden to represent matrix multiplication. You can also use `torch.matmul()` to multiply tensors. For dot multiplication, you can use `torch.dot()`, or manipulate the axes of your tensors and do matrix multiplication (we will cover that in the next section).\n",
        "\n",
        "Transposes of 2D tensors are obtained using `torch.t()` or `Tensor.T`. Note the lack of brackets for `Tensor.T` - it is an attribute, not a method.\n",
        "\n"
      ]
    },
    {
      "cell_type": "markdown",
      "metadata": {
        "execution": {},
        "id": "kZ-r_UlsEJZe"
      },
      "source": [
        "### Coding Exercise 2.2 : Simple tensor operations\n",
        "\n",
        "Below are two expressions involving operations on matrices.\n",
        "\n",
        "\\begin{equation}\n",
        "\\textbf{A} =\n",
        "\\begin{bmatrix}2 &4 \\\\5 & 7\n",
        "\\end{bmatrix}\n",
        "\\begin{bmatrix} 1 &1 \\\\2 & 3\n",
        "\\end{bmatrix}\n",
        "+\n",
        "\\begin{bmatrix}10 & 10  \\\\ 12 & 1\n",
        "\\end{bmatrix}\n",
        "\\end{equation}\n",
        "\n",
        "\n",
        "and\n",
        "\n",
        "\n",
        "\\begin{equation}\n",
        "b =\n",
        "\\begin{bmatrix} 3 \\\\ 5 \\\\ 7\n",
        "\\end{bmatrix} \\cdot\n",
        "\\begin{bmatrix} 2 \\\\ 4 \\\\ 8\n",
        "\\end{bmatrix}\n",
        "\\end{equation}\n",
        "\n",
        "The code block below that computes these expressions using PyTorch is incomplete - fill in the missing lines."
      ]
    },
    {
      "cell_type": "code",
      "execution_count": 33,
      "metadata": {
        "execution": {},
        "id": "YEORtzLIEJZe",
        "outputId": "f4d45664-6358-40fe-85e2-e8148213f437",
        "colab": {
          "base_uri": "https://localhost:8080/"
        }
      },
      "outputs": [
        {
          "output_type": "stream",
          "name": "stdout",
          "text": [
            "tensor([[20, 24],\n",
            "        [31, 27]])\n"
          ]
        }
      ],
      "source": [
        "def simple_operations(a1: torch.Tensor, a2: torch.Tensor, a3: torch.Tensor):\n",
        "  \"\"\"\n",
        "  Helper function to demonstrate simple operations\n",
        "  i.e., Multiplication of tensor a1 with tensor a2 and then add it with tensor a3\n",
        "\n",
        "  Args:\n",
        "    a1: Torch tensor\n",
        "      Tensor of size ([2,2])\n",
        "    a2: Torch tensor\n",
        "      Tensor of size ([2,2])\n",
        "    a3: Torch tensor\n",
        "      Tensor of size ([2,2])\n",
        "\n",
        "  Returns:\n",
        "    answer: Torch tensor\n",
        "      Tensor of size ([2,2]) resulting from a1 multiplied with a2, added with a3\n",
        "  \"\"\"\n",
        "  ################################################\n",
        "  ## TODO for students:  complete the first computation using the argument matricies\n",
        "  # raise NotImplementedError(\"Student exercise: fill in the missing code to complete the operation\")\n",
        "  ################################################\n",
        "  #\n",
        "  # answer = a1 @ a2 + a3\n",
        "  answer = torch.matmul(a1, a2) + a3\n",
        "  return answer\n",
        "\n",
        "\n",
        "# Computing expression 1:\n",
        "\n",
        "# init our tensors\n",
        "a1 = torch.tensor([[2, 4], [5, 7]])\n",
        "a2 = torch.tensor([[1, 1], [2, 3]])\n",
        "a3 = torch.tensor([[10, 10], [12, 1]])\n",
        "## uncomment to test your function\n",
        "A = simple_operations(a1, a2, a3)\n",
        "print(A)"
      ]
    },
    {
      "cell_type": "markdown",
      "metadata": {
        "execution": {},
        "id": "4wehDPPEEJZe"
      },
      "source": [
        "[*Click for solution*](https://github.com/NeuromatchAcademy/course-content-dl/tree/main/tutorials/W1D1_BasicsAndPytorch/solutions/W1D1_Tutorial1_Solution_10c96625.py)\n",
        "\n"
      ]
    },
    {
      "cell_type": "markdown",
      "metadata": {
        "execution": {},
        "id": "bqh-hF3yEJZf"
      },
      "source": [
        "```\n",
        "tensor([[20, 24],\n",
        "        [31, 27]])\n",
        "```"
      ]
    },
    {
      "cell_type": "code",
      "execution_count": 34,
      "metadata": {
        "execution": {},
        "id": "_xM6n-dQEJZf",
        "outputId": "93aa2cad-fcd8-4fc9-bdcf-887644272f49",
        "colab": {
          "base_uri": "https://localhost:8080/"
        }
      },
      "outputs": [
        {
          "output_type": "stream",
          "name": "stdout",
          "text": [
            "tensor(82)\n"
          ]
        }
      ],
      "source": [
        "def dot_product(b1: torch.Tensor, b2: torch.Tensor):\n",
        "  ###############################################\n",
        "  ## TODO for students:  complete the first computation using the argument matricies\n",
        "  # raise NotImplementedError(\"Student exercise: fill in the missing code to complete the operation\")\n",
        "  ###############################################\n",
        "  \"\"\"\n",
        "  Helper function to demonstrate dot product operation\n",
        "  Dot product is an algebraic operation that takes two equal-length sequences\n",
        "  (usually coordinate vectors), and returns a single number.\n",
        "  Geometrically, it is the product of the Euclidean magnitudes of the\n",
        "  two vectors and the cosine of the angle between them.\n",
        "\n",
        "  Args:\n",
        "    b1: Torch tensor\n",
        "      Tensor of size ([3])\n",
        "    b2: Torch tensor\n",
        "      Tensor of size ([3])\n",
        "\n",
        "  Returns:\n",
        "    product: Tensor\n",
        "      Tensor of size ([1]) resulting from b1 scalar multiplied with b2\n",
        "  \"\"\"\n",
        "  # Use torch.dot() to compute the dot product of two tensors\n",
        "  product = torch.dot(b1, b2)\n",
        "  return product\n",
        "\n",
        "\n",
        "# Computing expression 2:\n",
        "b1 = torch.tensor([3, 5, 7])\n",
        "b2 = torch.tensor([2, 4, 8])\n",
        "## Uncomment to test your function\n",
        "b = dot_product(b1, b2)\n",
        "print(b)"
      ]
    },
    {
      "cell_type": "markdown",
      "metadata": {
        "execution": {},
        "id": "ZP4STPPTEJZf"
      },
      "source": [
        "[*Click for solution*](https://github.com/NeuromatchAcademy/course-content-dl/tree/main/tutorials/W1D1_BasicsAndPytorch/solutions/W1D1_Tutorial1_Solution_84663577.py)\n",
        "\n"
      ]
    },
    {
      "cell_type": "markdown",
      "metadata": {
        "execution": {},
        "id": "arJnqezoEJZf"
      },
      "source": [
        "```\n",
        "tensor(82)\n",
        "```"
      ]
    },
    {
      "cell_type": "code",
      "execution_count": null,
      "metadata": {
        "cellView": "form",
        "execution": {},
        "id": "Cp0BHanMEJZf"
      },
      "outputs": [],
      "source": [
        "# @title Submit your feedback\n",
        "content_review(f\"{feedback_prefix}_Simple_Tensor_Operations_Exercise\")"
      ]
    },
    {
      "cell_type": "markdown",
      "metadata": {
        "execution": {},
        "id": "7Sog9LclEJZf"
      },
      "source": [
        "## Section 2.3 Manipulating Tensors in Pytorch"
      ]
    },
    {
      "cell_type": "code",
      "execution_count": 35,
      "metadata": {
        "cellView": "form",
        "execution": {},
        "id": "nQ5ykq33EJZf",
        "outputId": "a5b964c6-71f7-4274-d389-a175450c9217",
        "colab": {
          "base_uri": "https://localhost:8080/",
          "height": 581,
          "referenced_widgets": [
            "da08bd52bdcf4d299a35fd7f2371bd55",
            "660fb437efcb4864b95c8f534ba8a37d",
            "79d3a35d05514eaba7dfd7b5bc390c00",
            "55d91c36d8304b458e7287ed70a74ab5",
            "48b72fcb45a341a1ae8ec255dcad4116",
            "8bab8cde42a74e8da99b88595d2c4fab"
          ]
        }
      },
      "outputs": [
        {
          "output_type": "display_data",
          "data": {
            "text/plain": [
              "Tab(children=(Output(), Output()), _titles={'0': 'Youtube', '1': 'Bilibili'})"
            ],
            "application/vnd.jupyter.widget-view+json": {
              "version_major": 2,
              "version_minor": 0,
              "model_id": "da08bd52bdcf4d299a35fd7f2371bd55"
            }
          },
          "metadata": {}
        }
      ],
      "source": [
        "# @title Video 5: Tensor Indexing\n",
        "from ipywidgets import widgets\n",
        "from IPython.display import YouTubeVideo\n",
        "from IPython.display import IFrame\n",
        "from IPython.display import display\n",
        "\n",
        "\n",
        "class PlayVideo(IFrame):\n",
        "  def __init__(self, id, source, page=1, width=400, height=300, **kwargs):\n",
        "    self.id = id\n",
        "    if source == 'Bilibili':\n",
        "      src = f'https://player.bilibili.com/player.html?bvid={id}&page={page}'\n",
        "    elif source == 'Osf':\n",
        "      src = f'https://mfr.ca-1.osf.io/render?url=https://osf.io/download/{id}/?direct%26mode=render'\n",
        "    super(PlayVideo, self).__init__(src, width, height, **kwargs)\n",
        "\n",
        "\n",
        "def display_videos(video_ids, W=400, H=300, fs=1):\n",
        "  tab_contents = []\n",
        "  for i, video_id in enumerate(video_ids):\n",
        "    out = widgets.Output()\n",
        "    with out:\n",
        "      if video_ids[i][0] == 'Youtube':\n",
        "        video = YouTubeVideo(id=video_ids[i][1], width=W,\n",
        "                             height=H, fs=fs, rel=0)\n",
        "        print(f'Video available at https://youtube.com/watch?v={video.id}')\n",
        "      else:\n",
        "        video = PlayVideo(id=video_ids[i][1], source=video_ids[i][0], width=W,\n",
        "                          height=H, fs=fs, autoplay=False)\n",
        "        if video_ids[i][0] == 'Bilibili':\n",
        "          print(f'Video available at https://www.bilibili.com/video/{video.id}')\n",
        "        elif video_ids[i][0] == 'Osf':\n",
        "          print(f'Video available at https://osf.io/{video.id}')\n",
        "      display(video)\n",
        "    tab_contents.append(out)\n",
        "  return tab_contents\n",
        "\n",
        "\n",
        "video_ids = [('Youtube', '0d0KSJ3lJbg'), ('Bilibili', 'BV1BM4y1K7pD')]\n",
        "tab_contents = display_videos(video_ids, W=854, H=480)\n",
        "tabs = widgets.Tab()\n",
        "tabs.children = tab_contents\n",
        "for i in range(len(tab_contents)):\n",
        "  tabs.set_title(i, video_ids[i][0])\n",
        "display(tabs)"
      ]
    },
    {
      "cell_type": "code",
      "execution_count": null,
      "metadata": {
        "cellView": "form",
        "execution": {},
        "id": "u8Mjk5iCEJZf"
      },
      "outputs": [],
      "source": [
        "# @title Submit your feedback\n",
        "content_review(f\"{feedback_prefix}_Manipulating_Tensors_Video\")"
      ]
    },
    {
      "cell_type": "markdown",
      "metadata": {
        "execution": {},
        "id": "sg4KelybEJZf"
      },
      "source": [
        "**Indexing**\n",
        "\n",
        "Just as in numpy, elements in a tensor can be accessed by index. As in any numpy array, the first element has index 0 and ranges are specified to include the first to last_element-1. We can access elements according to their relative position to the end of the list by using negative indices. Indexing is also referred to as slicing.\n",
        "\n",
        "For example, `[-1]` selects the last element; `[1:3]` selects the second and the third elements, and `[:-2]` will select all elements excluding the last and second-to-last elements."
      ]
    },
    {
      "cell_type": "code",
      "execution_count": 36,
      "metadata": {
        "execution": {},
        "id": "h6k5j3BJEJZf",
        "outputId": "8557e5d3-aeb5-4d53-e577-ad535a8bc14a",
        "colab": {
          "base_uri": "https://localhost:8080/"
        }
      },
      "outputs": [
        {
          "output_type": "stream",
          "name": "stdout",
          "text": [
            "tensor([0, 1, 2, 3, 4, 5, 6, 7, 8, 9])\n",
            "tensor(9)\n",
            "tensor([1, 2])\n",
            "tensor([0, 1, 2, 3, 4, 5, 6, 7])\n"
          ]
        }
      ],
      "source": [
        "x = torch.arange(0, 10)\n",
        "print(x)\n",
        "print(x[-1])\n",
        "print(x[1:3])\n",
        "print(x[:-2])"
      ]
    },
    {
      "cell_type": "markdown",
      "metadata": {
        "execution": {},
        "id": "0OwiqoukEJZf"
      },
      "source": [
        "When we have multidimensional tensors, indexing rules work the same way as NumPy."
      ]
    },
    {
      "cell_type": "code",
      "execution_count": 37,
      "metadata": {
        "execution": {},
        "id": "_quZyZrOEJZf",
        "outputId": "9f97fdca-ca4f-42b3-c9e1-aa538a69eb2b",
        "colab": {
          "base_uri": "https://localhost:8080/"
        }
      },
      "outputs": [
        {
          "output_type": "stream",
          "name": "stdout",
          "text": [
            " shape of x[0]:torch.Size([2, 3, 4, 5])\n",
            " shape of x[0][0]:torch.Size([3, 4, 5])\n",
            " shape of x[0][0][0]:torch.Size([4, 5])\n"
          ]
        }
      ],
      "source": [
        "# make a 5D tensor\n",
        "x = torch.rand(1, 2, 3, 4, 5)\n",
        "\n",
        "print(f\" shape of x[0]:{x[0].shape}\")\n",
        "print(f\" shape of x[0][0]:{x[0][0].shape}\")\n",
        "print(f\" shape of x[0][0][0]:{x[0][0][0].shape}\")"
      ]
    },
    {
      "cell_type": "markdown",
      "metadata": {
        "execution": {},
        "id": "Atae_mbeEJZf"
      },
      "source": [
        "**Flatten and reshape**\n",
        "\n",
        "There are various methods for reshaping tensors. It is common to have to express 2D data in 1D format. Similarly, it is also common to have to reshape a 1D tensor into a 2D tensor. We can achieve this with the `.flatten()` and `.reshape()` methods."
      ]
    },
    {
      "cell_type": "code",
      "execution_count": 38,
      "metadata": {
        "execution": {},
        "id": "2-P3PI2GEJZf",
        "outputId": "540c86db-ff1a-413f-fef3-0ab96de4d502",
        "colab": {
          "base_uri": "https://localhost:8080/"
        }
      },
      "outputs": [
        {
          "output_type": "stream",
          "name": "stdout",
          "text": [
            "Original z: \n",
            " tensor([[ 0,  1],\n",
            "        [ 2,  3],\n",
            "        [ 4,  5],\n",
            "        [ 6,  7],\n",
            "        [ 8,  9],\n",
            "        [10, 11]])\n",
            "Flattened z: \n",
            " tensor([ 0,  1,  2,  3,  4,  5,  6,  7,  8,  9, 10, 11])\n",
            "Reshaped (3x4) z: \n",
            " tensor([[ 0,  1,  2,  3],\n",
            "        [ 4,  5,  6,  7],\n",
            "        [ 8,  9, 10, 11]])\n"
          ]
        }
      ],
      "source": [
        "z = torch.arange(12).reshape(6, 2)\n",
        "print(f\"Original z: \\n {z}\")\n",
        "\n",
        "# 2D -> 1D\n",
        "z = z.flatten()\n",
        "print(f\"Flattened z: \\n {z}\")\n",
        "\n",
        "# and back to 2D\n",
        "z = z.reshape(3, 4)\n",
        "print(f\"Reshaped (3x4) z: \\n {z}\")"
      ]
    },
    {
      "cell_type": "markdown",
      "metadata": {
        "execution": {},
        "id": "tJzJVlsOEJZf"
      },
      "source": [
        "You will also see the `.view()` methods used a lot to reshape tensors. There is a subtle difference between `.view()` and `.reshape()`, though for now we will just use `.reshape()`. The documentation can be found in the Appendix."
      ]
    },
    {
      "cell_type": "markdown",
      "metadata": {
        "execution": {},
        "id": "lOaHzL78EJZf"
      },
      "source": [
        "**Squeezing tensors**\n",
        "\n",
        "When processing batches of data, you will quite often be left with singleton dimensions. E.g., `[1,10]` or `[256, 1, 3]`. This dimension can quite easily mess up your matrix operations if you don't plan on it being there...\n",
        "\n",
        "In order to compress tensors along their singleton dimensions we can use the `.squeeze()` method. We can use the `.unsqueeze()` method to do the opposite."
      ]
    },
    {
      "cell_type": "code",
      "execution_count": 39,
      "metadata": {
        "execution": {},
        "id": "mSlkB9fOEJZf",
        "outputId": "5cf27a74-0258-4737-bd5c-402312e4e394",
        "colab": {
          "base_uri": "https://localhost:8080/"
        }
      },
      "outputs": [
        {
          "output_type": "stream",
          "name": "stdout",
          "text": [
            "torch.Size([1, 10])\n",
            "x[0]: tensor([-0.8893, -1.2941, -1.2244, -0.8470, -0.7140, -0.1360,  1.2380, -0.7080,\n",
            "        -1.3420, -0.4281])\n"
          ]
        }
      ],
      "source": [
        "x = torch.randn(1, 10)\n",
        "# printing the zeroth element of the tensor will not give us the first number!\n",
        "\n",
        "print(x.shape)\n",
        "print(f\"x[0]: {x[0]}\")"
      ]
    },
    {
      "cell_type": "markdown",
      "metadata": {
        "execution": {},
        "id": "Wa-gAv06EJZf"
      },
      "source": [
        "Because of that pesky singleton dimension, `x[0]` gave us the first row instead!"
      ]
    },
    {
      "cell_type": "code",
      "execution_count": 40,
      "metadata": {
        "execution": {},
        "id": "43gBk2kdEJZg",
        "outputId": "197bfc20-0707-422b-a768-787f7536c0a6",
        "colab": {
          "base_uri": "https://localhost:8080/"
        }
      },
      "outputs": [
        {
          "output_type": "stream",
          "name": "stdout",
          "text": [
            "torch.Size([10])\n",
            "x[0]: -0.8892810940742493\n"
          ]
        }
      ],
      "source": [
        "# Let's get rid of that singleton dimension and see what happens now\n",
        "x = x.squeeze(0)\n",
        "print(x.shape)\n",
        "print(f\"x[0]: {x[0]}\")"
      ]
    },
    {
      "cell_type": "code",
      "execution_count": 41,
      "metadata": {
        "execution": {},
        "id": "4MhmufzPEJZg",
        "outputId": "aab81e29-04a7-4c8e-8642-203d31168365",
        "colab": {
          "base_uri": "https://localhost:8080/"
        }
      },
      "outputs": [
        {
          "output_type": "stream",
          "name": "stdout",
          "text": [
            "Shape of y: torch.Size([5, 5])\n",
            "Shape of y: torch.Size([5, 1, 5])\n"
          ]
        }
      ],
      "source": [
        "# Adding singleton dimensions works a similar way, and is often used when tensors\n",
        "# being added need same number of dimensions\n",
        "\n",
        "y = torch.randn(5, 5)\n",
        "print(f\"Shape of y: {y.shape}\")\n",
        "\n",
        "# lets insert a singleton dimension\n",
        "y = y.unsqueeze(1)\n",
        "print(f\"Shape of y: {y.shape}\")"
      ]
    },
    {
      "cell_type": "markdown",
      "metadata": {
        "execution": {},
        "id": "-_uOmLxaEJZg"
      },
      "source": [
        "**Permutation**\n",
        "\n",
        "Sometimes our dimensions will be in the wrong order! For example, we may be dealing with RGB images with dim $[3\\times48\\times64]$, but our pipeline expects the colour dimension to be the last dimension, i.e., $[48\\times64\\times3]$. To get around this we can use the `.permute()` method."
      ]
    },
    {
      "cell_type": "code",
      "execution_count": 42,
      "metadata": {
        "execution": {},
        "id": "ycc2UopdEJZg",
        "outputId": "cedd8e61-b773-41de-fcc9-cc4d26c358d5",
        "colab": {
          "base_uri": "https://localhost:8080/"
        }
      },
      "outputs": [
        {
          "output_type": "stream",
          "name": "stdout",
          "text": [
            "torch.Size([48, 64, 3])\n"
          ]
        }
      ],
      "source": [
        "# `x` has dimensions [color,image_height,image_width]\n",
        "x = torch.rand(3, 48, 64)\n",
        "\n",
        "# We want to permute our tensor to be [ image_height , image_width , color ]\n",
        "x = x.permute(1, 2, 0)\n",
        "# permute(1,2,0) means:\n",
        "# The 0th dim of my new tensor = the 1st dim of my old tensor\n",
        "# The 1st dim of my new tensor = the 2nd\n",
        "# The 2nd dim of my new tensor = the 0th\n",
        "print(x.shape)"
      ]
    },
    {
      "cell_type": "markdown",
      "metadata": {
        "execution": {},
        "id": "eyFkE--CEJZg"
      },
      "source": [
        "You may also see `.transpose()` used. This works in a similar way as permute, but can only swap two dimensions at once."
      ]
    },
    {
      "cell_type": "markdown",
      "metadata": {
        "execution": {},
        "id": "hSSiupTPEJZg"
      },
      "source": [
        "**Concatenation**"
      ]
    },
    {
      "cell_type": "markdown",
      "metadata": {
        "execution": {},
        "id": "dcXakwigEJZg"
      },
      "source": [
        "In this example, we concatenate two matrices along rows (axis 0, the first element of the shape) vs. columns (axis 1, the second element of the shape). We can see that the first output tensor’s axis-0 length (`6`) is the sum of the two input tensors’ axis-0 lengths (`3+3`); while the second output tensor’s axis-1 length (`8`) is the sum of the two input tensors’ axis-1 lengths (`4+4`)."
      ]
    },
    {
      "cell_type": "code",
      "execution_count": 43,
      "metadata": {
        "execution": {},
        "id": "O2TNhByAEJZg",
        "outputId": "14e51d08-4915-45d5-a9cc-e6b57d670851",
        "colab": {
          "base_uri": "https://localhost:8080/"
        }
      },
      "outputs": [
        {
          "output_type": "stream",
          "name": "stdout",
          "text": [
            "Concatenated by rows: shape[6, 4] \n",
            " tensor([[ 0.,  1.,  2.,  3.],\n",
            "        [ 4.,  5.,  6.,  7.],\n",
            "        [ 8.,  9., 10., 11.],\n",
            "        [ 2.,  1.,  4.,  3.],\n",
            "        [ 1.,  2.,  3.,  4.],\n",
            "        [ 4.,  3.,  2.,  1.]])\n",
            "\n",
            " Concatenated by colums: shape[3, 8]  \n",
            " tensor([[ 0.,  1.,  2.,  3.,  2.,  1.,  4.,  3.],\n",
            "        [ 4.,  5.,  6.,  7.,  1.,  2.,  3.,  4.],\n",
            "        [ 8.,  9., 10., 11.,  4.,  3.,  2.,  1.]])\n"
          ]
        }
      ],
      "source": [
        "# Create two tensors of the same shape\n",
        "x = torch.arange(12, dtype=torch.float32).reshape((3, 4))\n",
        "y = torch.tensor([[2.0, 1, 4, 3], [1, 2, 3, 4], [4, 3, 2, 1]])\n",
        "\n",
        "# Concatenate along rows\n",
        "cat_rows = torch.cat((x, y), dim=0)\n",
        "\n",
        "# Concatenate along columns\n",
        "cat_cols = torch.cat((x, y), dim=1)\n",
        "\n",
        "# Printing outputs\n",
        "print('Concatenated by rows: shape{} \\n {}'.format(list(cat_rows.shape), cat_rows))\n",
        "print('\\n Concatenated by colums: shape{}  \\n {}'.format(list(cat_cols.shape), cat_cols))"
      ]
    },
    {
      "cell_type": "markdown",
      "metadata": {
        "execution": {},
        "id": "xtyIDGQAEJZg"
      },
      "source": [
        "**Conversion to Other Python Objects**\n",
        "\n",
        "Converting a tensor to a numpy.ndarray, or vice versa, is easy, and the converted result does not share memory. This minor inconvenience is quite important: when you perform operations on the CPU or GPUs, you do not want to halt computation, waiting to see whether the NumPy package of Python might want to be doing something else with the same chunk of memory.\n",
        "\n",
        "When converting to a NumPy array, the information being tracked by the tensor will be lost, i.e., the computational graph. This will be covered in detail when you are introduced to autograd tomorrow!"
      ]
    },
    {
      "cell_type": "code",
      "execution_count": 44,
      "metadata": {
        "execution": {},
        "id": "wxeS6zwFEJZg",
        "outputId": "5fb6d7ff-f6a2-4f63-b492-6440b3fe1010",
        "colab": {
          "base_uri": "https://localhost:8080/"
        }
      },
      "outputs": [
        {
          "output_type": "stream",
          "name": "stdout",
          "text": [
            "x: tensor([-1.4907,  0.1721, -2.4323,  1.3208, -0.3854])  |  x type:  torch.FloatTensor\n",
            "y: [-1.4907033   0.17207552 -2.4322512   1.3208239  -0.38539934]  |  y type:  <class 'numpy.ndarray'>\n",
            "z: tensor([-1.4907,  0.1721, -2.4323,  1.3208, -0.3854])  |  z type:  torch.FloatTensor\n"
          ]
        }
      ],
      "source": [
        "x = torch.randn(5)\n",
        "print(f\"x: {x}  |  x type:  {x.type()}\")\n",
        "\n",
        "y = x.numpy()\n",
        "print(f\"y: {y}  |  y type:  {type(y)}\")\n",
        "\n",
        "z = torch.tensor(y)\n",
        "print(f\"z: {z}  |  z type:  {z.type()}\")"
      ]
    },
    {
      "cell_type": "markdown",
      "metadata": {
        "execution": {},
        "id": "R1u0K-WtEJZg"
      },
      "source": [
        "To convert a size-1 tensor to a Python scalar, we can invoke the item function or Python’s built-in functions."
      ]
    },
    {
      "cell_type": "code",
      "execution_count": 45,
      "metadata": {
        "execution": {},
        "id": "UHhCE6GkEJZg",
        "outputId": "90259c88-180f-40b2-c111-d2e56157b36a",
        "colab": {
          "base_uri": "https://localhost:8080/"
        }
      },
      "outputs": [
        {
          "output_type": "execute_result",
          "data": {
            "text/plain": [
              "(tensor([3.5000]), 3.5, 3.5, 3)"
            ]
          },
          "metadata": {},
          "execution_count": 45
        }
      ],
      "source": [
        "a = torch.tensor([3.5])\n",
        "a, a.item(), float(a), int(a)"
      ]
    },
    {
      "cell_type": "markdown",
      "metadata": {
        "execution": {},
        "id": "EG3AsTrnEJZg"
      },
      "source": [
        "### Coding Exercise 2.3: Manipulating Tensors\n",
        "Using a combination of the methods discussed above, complete the functions below."
      ]
    },
    {
      "cell_type": "markdown",
      "metadata": {
        "execution": {},
        "id": "vr3kVXaFEJZg"
      },
      "source": [
        "**Function A**\n",
        "\n",
        "This function takes in two 2D tensors $A$ and $B$ and returns the column sum of A multiplied by the sum of all the elmements of $B$, i.e., a scalar, e.g.,\n",
        "\n",
        "\\begin{equation}\n",
        "  \\text{If }\n",
        "  A = \\begin{bmatrix}\n",
        "  1 & 1 \\\\\n",
        "  1 & 1\n",
        "  \\end{bmatrix}\n",
        "  \\text{and }\n",
        "  B = \\begin{bmatrix}\n",
        "  1 & 2 & 3 \\\\\n",
        "  1 & 2 & 3\n",
        "  \\end{bmatrix}\n",
        "  \\text{ then }\n",
        "  Out =  \\begin{bmatrix}\n",
        "  2 & 2\n",
        "  \\end{bmatrix} \\cdot 12 = \\begin{bmatrix}\n",
        "  24 & 24\n",
        "  \\end{bmatrix}\n",
        "\\end{equation}\n",
        "\n",
        "**Function B**\n",
        "\n",
        "This function takes in a square matrix $C$ and returns a 2D tensor consisting of a flattened $C$ with the index of each element appended to this tensor in the row dimension, e.g.,\n",
        "\n",
        "\\begin{equation}\n",
        "  \\text{If }\n",
        "  C = \\begin{bmatrix}\n",
        "  2 & 3 \\\\\n",
        "  -1 & 10\n",
        "  \\end{bmatrix}\n",
        "  \\text{ then }\n",
        "  Out = \\begin{bmatrix}\n",
        "  0 & 2 \\\\\n",
        "  1 & 3 \\\\\n",
        "  2 & -1 \\\\\n",
        "  3 & 10\n",
        "  \\end{bmatrix}\n",
        "\\end{equation}\n",
        "\n",
        "**Hint:** Pay close attention to singleton dimensions.\n",
        "\n",
        "**Function C**\n",
        "\n",
        "This function takes in two 2D tensors $D$ and $E$. If the dimensions allow it, this function returns the elementwise sum of $D$-shaped $E$, and $D$; else this function returns a 1D tensor that is the concatenation of the two tensors, e.g.,\n",
        "\n",
        "\\begin{equation}\n",
        "  \\text{If }\n",
        "  D = \\begin{bmatrix}\n",
        "  1 & -1 \\\\\n",
        "  -1 & 3\n",
        "  \\end{bmatrix}\n",
        "  \\text{and }\n",
        "  E = \\begin{bmatrix}\n",
        "  2 & 3 & 0 & 2 \\\\\n",
        "  \\end{bmatrix}\n",
        "  \\text{ then }\n",
        "  Out = \\begin{bmatrix}\n",
        "  3 & 2 \\\\\n",
        "  -1 & 5\n",
        "  \\end{bmatrix}\n",
        "\\end{equation}\n",
        "\n",
        "<br>\n",
        "\n",
        "\\begin{equation}\n",
        "  \\text{If }\n",
        "  D = \\begin{bmatrix}\n",
        "  1 & -1 \\\\\n",
        "  -1 & 3\n",
        "  \\end{bmatrix}\n",
        "  \\text{and }\n",
        "  E = \\begin{bmatrix}\n",
        "  2 & 3 & 0  \\\\\n",
        "  \\end{bmatrix}\n",
        "  \\text{ then }\n",
        "  Out = \\begin{bmatrix}\n",
        "  1 & -1 & -1 & 3  & 2 & 3 & 0\n",
        "  \\end{bmatrix}\n",
        "\\end{equation}\n",
        "\n",
        "<br>\n",
        "\n",
        "**Hint:** `torch.numel()` is an easy way of finding the number of elements in a tensor."
      ]
    },
    {
      "cell_type": "code",
      "execution_count": 54,
      "metadata": {
        "execution": {},
        "id": "4TxoNuAeEJZg",
        "outputId": "403dc5e8-6c05-4953-812b-daea49bcea2e",
        "colab": {
          "base_uri": "https://localhost:8080/"
        }
      },
      "outputs": [
        {
          "output_type": "stream",
          "name": "stdout",
          "text": [
            "tensor([24, 24])\n",
            "tensor([[ 0,  2],\n",
            "        [ 1,  3],\n",
            "        [ 2, -1],\n",
            "        [ 3, 10]])\n",
            "tensor([[ 3,  2],\n",
            "        [-1,  5]])\n",
            "tensor([ 1, -1, -1,  3,  2,  3,  0])\n"
          ]
        }
      ],
      "source": [
        "def functionA(my_tensor1, my_tensor2):\n",
        "  \"\"\"\n",
        "  This function takes in two 2D tensors `my_tensor1` and `my_tensor2`\n",
        "  and returns the column sum of\n",
        "  `my_tensor1` multiplied by the sum of all the elmements of `my_tensor2`,\n",
        "  i.e., a scalar.\n",
        "\n",
        "  Args:\n",
        "    my_tensor1: torch.Tensor\n",
        "    my_tensor2: torch.Tensor\n",
        "\n",
        "  Retuns:\n",
        "    output: torch.Tensor\n",
        "      The multiplication of the column sum of `my_tensor1` by the sum of\n",
        "      `my_tensor2`.\n",
        "  \"\"\"\n",
        "  ################################################\n",
        "  ## TODO for students: complete functionA\n",
        "  # raise NotImplementedError(\"Student exercise: complete function A\")\n",
        "  ################################################\n",
        "  # TODO multiplication the sum of the tensors\n",
        "  output = my_tensor1.sum(axis=0) * my_tensor2.sum()\n",
        "\n",
        "  return output\n",
        "\n",
        "\n",
        "def functionB(my_tensor):\n",
        "  \"\"\"\n",
        "  This function takes in a square matrix `my_tensor` and returns a 2D tensor\n",
        "  consisting of a flattened `my_tensor` with the index of each element\n",
        "  appended to this tensor in the row dimension.\n",
        "\n",
        "  Args:\n",
        "    my_tensor: torch.Tensor\n",
        "\n",
        "  Returns:\n",
        "    output: torch.Tensor\n",
        "      Concatenated tensor.\n",
        "  \"\"\"\n",
        "  ################################################\n",
        "  ## TODO for students: complete functionB\n",
        "  # raise NotImplementedError(\"Student exercise: complete function B\")\n",
        "  ################################################\n",
        "  # TODO flatten the tensor `my_tensor`\n",
        "  my_tensor = my_tensor.flatten()\n",
        "  # print(my_tensor.shape)\n",
        "  # TODO create the idx tensor to be concatenated to `my_tensor`\n",
        "  idx_tensor = torch.arange(my_tensor.numel())\n",
        "  # print(idx_tensor.shape)\n",
        "  # TODO concatenate the two tensors\n",
        "  output = torch.cat((idx_tensor.unsqueeze(1), my_tensor.unsqueeze(1)), dim = 1)\n",
        "  # print(output.shape)\n",
        "\n",
        "  return output\n",
        "\n",
        "\n",
        "def functionC(my_tensor1, my_tensor2):\n",
        "  \"\"\"\n",
        "  This function takes in two 2D tensors `my_tensor1` and `my_tensor2`.\n",
        "  If the dimensions allow it, it returns the\n",
        "  elementwise sum of `my_tensor1`-shaped `my_tensor2`, and `my_tensor2`;\n",
        "  else this function returns a 1D tensor that is the concatenation of the\n",
        "  two tensors.\n",
        "\n",
        "  Args:\n",
        "    my_tensor1: torch.Tensor\n",
        "    my_tensor2: torch.Tensor\n",
        "\n",
        "  Returns:\n",
        "    output: torch.Tensor\n",
        "      Concatenated tensor.\n",
        "  \"\"\"\n",
        "  ################################################\n",
        "  ## TODO for students: complete functionB\n",
        "  # raise NotImplementedError(\"Student exercise: complete function C\")\n",
        "  ################################################\n",
        "  # TODO check we can reshape `my_tensor2` into the shape of `my_tensor1`\n",
        "  if my_tensor1.numel() == my_tensor2.numel():\n",
        "    # TODO reshape `my_tensor2` into the shape of `my_tensor1`\n",
        "    my_tensor2 = my_tensor2.reshape(my_tensor1.shape)\n",
        "    # TODO sum the two tensors\n",
        "    output = my_tensor1 + my_tensor2\n",
        "  else:\n",
        "    # TODO flatten both tensors\n",
        "    my_tensor1 = my_tensor1.flatten()\n",
        "    my_tensor2 = my_tensor2.flatten()\n",
        "    # TODO concatenate the two tensors in the correct dimension\n",
        "    output = torch.cat((my_tensor1, my_tensor2))\n",
        "\n",
        "  return output\n",
        "\n",
        "\n",
        "## Implement the functions above and then uncomment the following lines to test your code\n",
        "print(functionA(torch.tensor([[1, 1], [1, 1]]), torch.tensor([[1, 2, 3], [1, 2, 3]])))\n",
        "print(functionB(torch.tensor([[2, 3], [-1, 10]])))\n",
        "print(functionC(torch.tensor([[1, -1], [-1, 3]]), torch.tensor([[2, 3, 0, 2]])))\n",
        "print(functionC(torch.tensor([[1, -1], [-1, 3]]), torch.tensor([[2, 3, 0]])))"
      ]
    },
    {
      "cell_type": "code",
      "source": [],
      "metadata": {
        "id": "Xp8IRgL8nj-Y"
      },
      "execution_count": null,
      "outputs": []
    },
    {
      "cell_type": "code",
      "source": [],
      "metadata": {
        "id": "LXpNPTRhlaQ7"
      },
      "execution_count": null,
      "outputs": []
    },
    {
      "cell_type": "code",
      "source": [],
      "metadata": {
        "id": "wnogNkofkdHP"
      },
      "execution_count": null,
      "outputs": []
    },
    {
      "cell_type": "code",
      "source": [],
      "metadata": {
        "id": "a2vZJJ2Jhr2j"
      },
      "execution_count": null,
      "outputs": []
    },
    {
      "cell_type": "markdown",
      "metadata": {
        "execution": {},
        "id": "oq8Go4H-EJZg"
      },
      "source": [
        "[*Click for solution*](https://github.com/NeuromatchAcademy/course-content-dl/tree/main/tutorials/W1D1_BasicsAndPytorch/solutions/W1D1_Tutorial1_Solution_234c6f74.py)\n",
        "\n"
      ]
    },
    {
      "cell_type": "markdown",
      "metadata": {
        "execution": {},
        "id": "DE24ZeSmEJZg"
      },
      "source": [
        "```\n",
        "tensor([24, 24])\n",
        "tensor([[ 0,  2],\n",
        "        [ 1,  3],\n",
        "        [ 2, -1],\n",
        "        [ 3, 10]])\n",
        "tensor([[ 3,  2],\n",
        "        [-1,  5]])\n",
        "tensor([ 1, -1, -1,  3,  2,  3,  0])\n",
        "```"
      ]
    },
    {
      "cell_type": "code",
      "execution_count": null,
      "metadata": {
        "cellView": "form",
        "execution": {},
        "id": "YyVnJlsAEJZh"
      },
      "outputs": [],
      "source": [
        "# @title Submit your feedback\n",
        "content_review(f\"{feedback_prefix}_Manipulating_Tensors_Exercise\")"
      ]
    },
    {
      "cell_type": "markdown",
      "metadata": {
        "execution": {},
        "id": "XfUnlQGWEJZh"
      },
      "source": [
        "## Section 2.4: GPUs"
      ]
    },
    {
      "cell_type": "code",
      "execution_count": 55,
      "metadata": {
        "cellView": "form",
        "execution": {},
        "id": "WN38svniEJZh",
        "outputId": "a3ac7011-d46b-4945-e6ad-aa2f253ecf83",
        "colab": {
          "base_uri": "https://localhost:8080/",
          "height": 581,
          "referenced_widgets": [
            "8c108320afab46bfad5950c51448535e",
            "8d1466ddbf4a4ad8a004cc59265000e4",
            "93df0ef6cd554c359ea5ebd769dbeb39",
            "e85a1586284641609ca9179b00f1fa13",
            "f2da4979bdcd4aa3bca45fa094595762",
            "3a861ecda3ac49619cdfec84067b090d"
          ]
        }
      },
      "outputs": [
        {
          "output_type": "display_data",
          "data": {
            "text/plain": [
              "Tab(children=(Output(), Output()), _titles={'0': 'Youtube', '1': 'Bilibili'})"
            ],
            "application/vnd.jupyter.widget-view+json": {
              "version_major": 2,
              "version_minor": 0,
              "model_id": "8c108320afab46bfad5950c51448535e"
            }
          },
          "metadata": {}
        }
      ],
      "source": [
        "# @title Video 6: GPU vs CPU\n",
        "from ipywidgets import widgets\n",
        "from IPython.display import YouTubeVideo\n",
        "from IPython.display import IFrame\n",
        "from IPython.display import display\n",
        "\n",
        "\n",
        "class PlayVideo(IFrame):\n",
        "  def __init__(self, id, source, page=1, width=400, height=300, **kwargs):\n",
        "    self.id = id\n",
        "    if source == 'Bilibili':\n",
        "      src = f'https://player.bilibili.com/player.html?bvid={id}&page={page}'\n",
        "    elif source == 'Osf':\n",
        "      src = f'https://mfr.ca-1.osf.io/render?url=https://osf.io/download/{id}/?direct%26mode=render'\n",
        "    super(PlayVideo, self).__init__(src, width, height, **kwargs)\n",
        "\n",
        "\n",
        "def display_videos(video_ids, W=400, H=300, fs=1):\n",
        "  tab_contents = []\n",
        "  for i, video_id in enumerate(video_ids):\n",
        "    out = widgets.Output()\n",
        "    with out:\n",
        "      if video_ids[i][0] == 'Youtube':\n",
        "        video = YouTubeVideo(id=video_ids[i][1], width=W,\n",
        "                             height=H, fs=fs, rel=0)\n",
        "        print(f'Video available at https://youtube.com/watch?v={video.id}')\n",
        "      else:\n",
        "        video = PlayVideo(id=video_ids[i][1], source=video_ids[i][0], width=W,\n",
        "                          height=H, fs=fs, autoplay=False)\n",
        "        if video_ids[i][0] == 'Bilibili':\n",
        "          print(f'Video available at https://www.bilibili.com/video/{video.id}')\n",
        "        elif video_ids[i][0] == 'Osf':\n",
        "          print(f'Video available at https://osf.io/{video.id}')\n",
        "      display(video)\n",
        "    tab_contents.append(out)\n",
        "  return tab_contents\n",
        "\n",
        "\n",
        "video_ids = [('Youtube', '9Mc9GFUtILY'), ('Bilibili', 'BV1nM4y1K7qx')]\n",
        "tab_contents = display_videos(video_ids, W=854, H=480)\n",
        "tabs = widgets.Tab()\n",
        "tabs.children = tab_contents\n",
        "for i in range(len(tab_contents)):\n",
        "  tabs.set_title(i, video_ids[i][0])\n",
        "display(tabs)"
      ]
    },
    {
      "cell_type": "code",
      "execution_count": null,
      "metadata": {
        "cellView": "form",
        "execution": {},
        "id": "WetA2dInEJZh"
      },
      "outputs": [],
      "source": [
        "# @title Submit your feedback\n",
        "content_review(f\"{feedback_prefix}_GPU_vs_CPU_Video\")"
      ]
    },
    {
      "cell_type": "markdown",
      "metadata": {
        "execution": {},
        "id": "wJIEX14nEJZh"
      },
      "source": [
        "\n",
        "By default, when we create a tensor it will *not* live on the GPU!"
      ]
    },
    {
      "cell_type": "code",
      "execution_count": 56,
      "metadata": {
        "execution": {},
        "id": "K0cQY8mAEJZh",
        "outputId": "c70cff78-dfe9-4fdb-8328-a63c3ef69ad9",
        "colab": {
          "base_uri": "https://localhost:8080/"
        }
      },
      "outputs": [
        {
          "output_type": "stream",
          "name": "stdout",
          "text": [
            "cpu\n"
          ]
        }
      ],
      "source": [
        "x = torch.randn(10)\n",
        "print(x.device)"
      ]
    },
    {
      "cell_type": "markdown",
      "metadata": {
        "execution": {},
        "id": "wi3T3LR7EJZh"
      },
      "source": [
        "When using Colab notebooks, by default, will not have access to a GPU. In order to start using GPUs we need to request one. We can do this by going to the runtime tab at the top of the page.\n",
        "\n",
        "By following *Runtime* → *Change runtime type* and selecting **GPU** from the *Hardware Accelerator* dropdown list, we can start playing with sending tensors to GPUs.\n",
        "\n",
        "Once you have done this your runtime will restart and you will need to rerun the first setup cell to reimport PyTorch. Then proceed to the next cell.\n",
        "\n",
        "For more information on the GPU usage policy you can view in the Appendix."
      ]
    },
    {
      "cell_type": "markdown",
      "metadata": {
        "execution": {},
        "id": "hjVvjt1zEJZh"
      },
      "source": [
        "**Now we have a GPU.**\n"
      ]
    },
    {
      "cell_type": "markdown",
      "metadata": {
        "execution": {},
        "id": "k1TCsUuaEJZh"
      },
      "source": [
        "The cell below should return `True`."
      ]
    },
    {
      "cell_type": "code",
      "execution_count": 57,
      "metadata": {
        "execution": {},
        "id": "_z-9FBfhEJZh",
        "outputId": "87989d9b-30c9-4e0a-840b-3d037a6d23e1",
        "colab": {
          "base_uri": "https://localhost:8080/"
        }
      },
      "outputs": [
        {
          "output_type": "stream",
          "name": "stdout",
          "text": [
            "True\n"
          ]
        }
      ],
      "source": [
        "print(torch.cuda.is_available())"
      ]
    },
    {
      "cell_type": "markdown",
      "metadata": {
        "execution": {},
        "id": "X-zWU-PZEJZh"
      },
      "source": [
        "[CUDA](https://developer.nvidia.com/cuda-toolkit) is an API developed by Nvidia for interfacing with GPUs. PyTorch provides us with a layer of abstraction, and allows us to launch CUDA kernels using pure Python.\n",
        "\n",
        "In short, we get the power of parallelizing our tensor computations on GPUs, whilst only writing (relatively) simple Python!\n",
        "\n",
        "Here, we define the function `set_device`, which returns the device use in the notebook, i.e., `cpu` or `cuda`. Unless otherwise specified, we use this function on top of every tutorial, and we store the device variable such as\n",
        "\n",
        "```python\n",
        "DEVICE = set_device()\n",
        "```\n",
        "\n",
        "Let's define the function using the PyTorch package `torch.cuda`, which is lazily initialized, so we can always import it, and use `is_available()` to determine if our system supports CUDA."
      ]
    },
    {
      "cell_type": "code",
      "execution_count": 58,
      "metadata": {
        "execution": {},
        "id": "M8PJ38KPEJZh"
      },
      "outputs": [],
      "source": [
        "def set_device():\n",
        "  \"\"\"\n",
        "  Set the device. CUDA if available, CPU otherwise\n",
        "\n",
        "  Args:\n",
        "    None\n",
        "\n",
        "  Returns:\n",
        "    Nothing\n",
        "  \"\"\"\n",
        "  device = \"cuda\" if torch.cuda.is_available() else \"cpu\"\n",
        "  if device != \"cuda\":\n",
        "    print(\"GPU is not enabled in this notebook. \\n\"\n",
        "          \"If you want to enable it, in the menu under `Runtime` -> \\n\"\n",
        "          \"`Hardware accelerator.` and select `GPU` from the dropdown menu\")\n",
        "  else:\n",
        "    print(\"GPU is enabled in this notebook. \\n\"\n",
        "          \"If you want to disable it, in the menu under `Runtime` -> \\n\"\n",
        "          \"`Hardware accelerator.` and select `None` from the dropdown menu\")\n",
        "\n",
        "  return device"
      ]
    },
    {
      "cell_type": "markdown",
      "metadata": {
        "execution": {},
        "id": "hxbvLSY8EJZh"
      },
      "source": [
        "Let's make some CUDA tensors!"
      ]
    },
    {
      "cell_type": "code",
      "execution_count": 59,
      "metadata": {
        "execution": {},
        "id": "gje9svMoEJZh",
        "outputId": "d9b95adb-b2cb-4f53-e97e-0ccf84471a62",
        "colab": {
          "base_uri": "https://localhost:8080/"
        }
      },
      "outputs": [
        {
          "output_type": "stream",
          "name": "stdout",
          "text": [
            "GPU is enabled in this notebook. \n",
            "If you want to disable it, in the menu under `Runtime` -> \n",
            "`Hardware accelerator.` and select `None` from the dropdown menu\n",
            "torch.float32\n",
            "cuda:0\n",
            "y before calling to() | device: cpu | dtype: torch.FloatTensor\n",
            "y after calling to() | device: cuda:0 | dtype: torch.cuda.FloatTensor\n"
          ]
        }
      ],
      "source": [
        "# common device agnostic way of writing code that can run on cpu OR gpu\n",
        "# that we provide for you in each of the tutorials\n",
        "DEVICE = set_device()\n",
        "\n",
        "# we can specify a device when we first create our tensor\n",
        "x = torch.randn(2, 2, device=DEVICE)\n",
        "print(x.dtype)\n",
        "print(x.device)\n",
        "\n",
        "# we can also use the .to() method to change the device a tensor lives on\n",
        "y = torch.randn(2, 2)\n",
        "print(f\"y before calling to() | device: {y.device} | dtype: {y.type()}\")\n",
        "\n",
        "y = y.to(DEVICE)\n",
        "print(f\"y after calling to() | device: {y.device} | dtype: {y.type()}\")"
      ]
    },
    {
      "cell_type": "markdown",
      "metadata": {
        "execution": {},
        "id": "Qax3BnTGEJZh"
      },
      "source": [
        "**Operations between cpu tensors and cuda tensors**\n",
        "\n",
        "Note that the type of the tensor changed after calling `.to()`. What happens if we try and perform operations on tensors on devices?"
      ]
    },
    {
      "cell_type": "code",
      "execution_count": 61,
      "metadata": {
        "execution": {},
        "id": "YPWUjuMyEJZh",
        "outputId": "b695e892-41c9-4e8c-eef8-6c48256969b6",
        "colab": {
          "base_uri": "https://localhost:8080/",
          "height": 180
        }
      },
      "outputs": [
        {
          "output_type": "error",
          "ename": "RuntimeError",
          "evalue": "Expected all tensors to be on the same device, but found at least two devices, cuda:0 and cpu!",
          "traceback": [
            "\u001b[0;31m---------------------------------------------------------------------------\u001b[0m",
            "\u001b[0;31mRuntimeError\u001b[0m                              Traceback (most recent call last)",
            "\u001b[0;32m/tmp/ipython-input-61-907091608.py\u001b[0m in \u001b[0;36m<cell line: 0>\u001b[0;34m()\u001b[0m\n\u001b[1;32m      3\u001b[0m \u001b[0;34m\u001b[0m\u001b[0m\n\u001b[1;32m      4\u001b[0m \u001b[0;31m## Uncomment the following line and run this cell\u001b[0m\u001b[0;34m\u001b[0m\u001b[0;34m\u001b[0m\u001b[0m\n\u001b[0;32m----> 5\u001b[0;31m \u001b[0mz\u001b[0m \u001b[0;34m=\u001b[0m \u001b[0mx\u001b[0m \u001b[0;34m+\u001b[0m \u001b[0my\u001b[0m\u001b[0;34m\u001b[0m\u001b[0;34m\u001b[0m\u001b[0m\n\u001b[0m",
            "\u001b[0;31mRuntimeError\u001b[0m: Expected all tensors to be on the same device, but found at least two devices, cuda:0 and cpu!"
          ]
        }
      ],
      "source": [
        "x = torch.tensor([0, 1, 2], device=DEVICE)\n",
        "y = torch.tensor([3, 4, 5], device=\"cpu\")\n",
        "\n",
        "## Uncomment the following line and run this cell\n",
        "z = x + y"
      ]
    },
    {
      "cell_type": "markdown",
      "metadata": {
        "execution": {},
        "id": "UFGs9PQeEJZh"
      },
      "source": [
        "We cannot combine CUDA tensors and CPU tensors in this fashion. If we want to compute an operation that combines tensors on different devices, we need to move them first! We can use the `.to()` method as before, or the `.cpu()` and `.cuda()` methods. Note that using the `.cuda()` will throw an error, if CUDA is not enabled in your machine.\n",
        "\n",
        "Generally, in this course, all Deep Learning is done on the GPU, and any computation is done on the CPU, so sometimes we have to pass things back and forth, so you'll see us call."
      ]
    },
    {
      "cell_type": "code",
      "execution_count": 62,
      "metadata": {
        "execution": {},
        "id": "onQ2kLdiEJZh",
        "outputId": "f58f6543-1c40-4ebf-9120-27701c2980d5",
        "colab": {
          "base_uri": "https://localhost:8080/"
        }
      },
      "outputs": [
        {
          "output_type": "stream",
          "name": "stdout",
          "text": [
            "tensor([3, 5, 7])\n",
            "tensor([ 9, 11, 13], device='cuda:0')\n"
          ]
        }
      ],
      "source": [
        "x = torch.tensor([0, 1, 2], device=DEVICE)\n",
        "y = torch.tensor([3, 4, 5], device=\"cpu\")\n",
        "z = torch.tensor([6, 7, 8], device=DEVICE)\n",
        "\n",
        "# moving to cpu\n",
        "x = x.to(\"cpu\")  # alternatively, you can use x = x.cpu()\n",
        "print(x + y)\n",
        "\n",
        "# moving to gpu\n",
        "y = y.to(DEVICE)  # alternatively, you can use y = y.cuda()\n",
        "print(y + z)"
      ]
    },
    {
      "cell_type": "markdown",
      "metadata": {
        "execution": {},
        "id": "JVGuA1xUEJZh"
      },
      "source": [
        "### Coding Exercise 2.4: Just how much faster are GPUs?\n",
        "\n",
        "Below is a simple function `simpleFun`. Complete this function, such that it performs the operations:\n",
        "\n",
        "- Elementwise multiplication\n",
        "\n",
        "- Matrix multiplication\n",
        "\n",
        "The operations should be able to perfomed on either the CPU or GPU specified by the parameter `device`. We will use the helper function `timeFun(f, dim, iterations, device)`."
      ]
    },
    {
      "cell_type": "code",
      "execution_count": 67,
      "metadata": {
        "execution": {},
        "id": "xn-wmziBEJZh"
      },
      "outputs": [],
      "source": [
        "dim = 10000\n",
        "iterations = 1"
      ]
    },
    {
      "cell_type": "code",
      "execution_count": 70,
      "metadata": {
        "execution": {},
        "id": "mdbxYu-cEJZh",
        "outputId": "127ab3d0-8297-4ea3-e677-1b604273bd4c",
        "colab": {
          "base_uri": "https://localhost:8080/"
        }
      },
      "outputs": [
        {
          "output_type": "stream",
          "name": "stdout",
          "text": [
            "time taken for 1 iterations of simpleFun(10000, cpu): 1.99807\n",
            "time taken for 1 iterations of simpleFun(10000, cuda): 2.08839\n"
          ]
        }
      ],
      "source": [
        "def simpleFun(dim, device):\n",
        "  \"\"\"\n",
        "  Helper function to check device-compatiblity with computations\n",
        "\n",
        "  Args:\n",
        "    dim: Integer\n",
        "    device: String\n",
        "      \"cpu\" or \"cuda\"\n",
        "\n",
        "  Returns:\n",
        "    Nothing.\n",
        "  \"\"\"\n",
        "  ###############################################\n",
        "  ## TODO for students: recreate the function, but\n",
        "  ## ensure all computations happens on the `device`\n",
        "  # raise NotImplementedError(\"Student exercise: fill in the missing code to create the tensors\")\n",
        "  ###############################################\n",
        "  # 2D tensor filled with uniform random numbers in [0,1), dim x dim\n",
        "  x = torch.rand(dim, dim).to(DEVICE)\n",
        "  # 2D tensor filled with uniform random numbers in [0,1), dim x dim\n",
        "  y = torch.rand(dim, dim).to(DEVICE)\n",
        "  # 2D tensor filled with the scalar value 2, dim x dim\n",
        "  z = torch.full((dim, dim), 2.0).to(DEVICE)\n",
        "\n",
        "  # elementwise multiplication of x and y\n",
        "  a = x * y\n",
        "  # matrix multiplication of x and z\n",
        "  b = x @ z\n",
        "\n",
        "  del x\n",
        "  del y\n",
        "  del z\n",
        "  del a\n",
        "  del b\n",
        "\n",
        "\n",
        "## Implement the function above and uncomment the following lines to test your code\n",
        "timeFun(f=simpleFun, dim=dim, iterations=iterations)\n",
        "timeFun(f=simpleFun, dim=dim, iterations=iterations, device=DEVICE)"
      ]
    },
    {
      "cell_type": "code",
      "source": [],
      "metadata": {
        "id": "ESokTV5O-7eE"
      },
      "execution_count": null,
      "outputs": []
    },
    {
      "cell_type": "code",
      "source": [],
      "metadata": {
        "id": "DtYjkqnO-n-d"
      },
      "execution_count": null,
      "outputs": []
    },
    {
      "cell_type": "markdown",
      "metadata": {
        "execution": {},
        "id": "saOIi_2rEJZh"
      },
      "source": [
        "[*Click for solution*](https://github.com/NeuromatchAcademy/course-content-dl/tree/main/tutorials/W1D1_BasicsAndPytorch/solutions/W1D1_Tutorial1_Solution_bb83a0e6.py)\n",
        "\n"
      ]
    },
    {
      "cell_type": "markdown",
      "metadata": {
        "execution": {},
        "id": "M9GxC8OAEJZi"
      },
      "source": [
        "Sample output (depends on your hardware)\n",
        "\n",
        "```\n",
        "time taken for 1 iterations of simpleFun(10000, cpu): 23.74070\n",
        "time taken for 1 iterations of simpleFun(10000, cuda): 0.87535\n",
        "```"
      ]
    },
    {
      "cell_type": "code",
      "execution_count": null,
      "metadata": {
        "cellView": "form",
        "execution": {},
        "id": "b7NpnGBpEJZi"
      },
      "outputs": [],
      "source": [
        "# @title Submit your feedback\n",
        "content_review(f\"{feedback_prefix}_How_Much_Faster_Are_GPUs_Exercise\")"
      ]
    },
    {
      "cell_type": "markdown",
      "metadata": {
        "execution": {},
        "id": "KXdrSjt0EJZi"
      },
      "source": [
        "**Discuss!**\n",
        "\n",
        "Try and reduce the dimensions of the tensors and increase the iterations. You can get to a point where the cpu only function is faster than the GPU function. Why might this be?"
      ]
    },
    {
      "cell_type": "markdown",
      "metadata": {
        "execution": {},
        "id": "9e2hbGtLEJZi"
      },
      "source": [
        "[*Click for solution*](https://github.com/NeuromatchAcademy/course-content-dl/tree/main/tutorials/W1D1_BasicsAndPytorch/solutions/W1D1_Tutorial1_Solution_4ee0dee3.py)\n",
        "\n"
      ]
    },
    {
      "cell_type": "code",
      "execution_count": null,
      "metadata": {
        "cellView": "form",
        "execution": {},
        "id": "gXprrnLpEJZi"
      },
      "outputs": [],
      "source": [
        "# @title Submit your feedback\n",
        "content_review(f\"{feedback_prefix}_GPUs_Discussion\")"
      ]
    },
    {
      "cell_type": "markdown",
      "metadata": {
        "execution": {},
        "id": "_zSNnIkeEJZi"
      },
      "source": [
        "## Section 2.5: Datasets and Dataloaders"
      ]
    },
    {
      "cell_type": "code",
      "execution_count": 71,
      "metadata": {
        "cellView": "form",
        "execution": {},
        "id": "dojHxClpEJZi",
        "outputId": "df1bdee4-7e92-41da-cdba-5885289bdc83",
        "colab": {
          "base_uri": "https://localhost:8080/",
          "height": 581,
          "referenced_widgets": [
            "629afdca1b8741ddbaaa2e34904154a2",
            "b5a626c6453248658e73c24abd8eeaae",
            "da0a3da17d6742f997398e04e2c40793",
            "859a27b02f384c4c9a6b0f242bf0fa67",
            "83a4e6865772447292e251d07552f32a",
            "2c6b7ad9e698443ca464b0e975250666"
          ]
        }
      },
      "outputs": [
        {
          "output_type": "display_data",
          "data": {
            "text/plain": [
              "Tab(children=(Output(), Output()), _titles={'0': 'Youtube', '1': 'Bilibili'})"
            ],
            "application/vnd.jupyter.widget-view+json": {
              "version_major": 2,
              "version_minor": 0,
              "model_id": "629afdca1b8741ddbaaa2e34904154a2"
            }
          },
          "metadata": {}
        }
      ],
      "source": [
        "# @title Video 7: Getting Data\n",
        "from ipywidgets import widgets\n",
        "from IPython.display import YouTubeVideo\n",
        "from IPython.display import IFrame\n",
        "from IPython.display import display\n",
        "\n",
        "\n",
        "class PlayVideo(IFrame):\n",
        "  def __init__(self, id, source, page=1, width=400, height=300, **kwargs):\n",
        "    self.id = id\n",
        "    if source == 'Bilibili':\n",
        "      src = f'https://player.bilibili.com/player.html?bvid={id}&page={page}'\n",
        "    elif source == 'Osf':\n",
        "      src = f'https://mfr.ca-1.osf.io/render?url=https://osf.io/download/{id}/?direct%26mode=render'\n",
        "    super(PlayVideo, self).__init__(src, width, height, **kwargs)\n",
        "\n",
        "\n",
        "def display_videos(video_ids, W=400, H=300, fs=1):\n",
        "  tab_contents = []\n",
        "  for i, video_id in enumerate(video_ids):\n",
        "    out = widgets.Output()\n",
        "    with out:\n",
        "      if video_ids[i][0] == 'Youtube':\n",
        "        video = YouTubeVideo(id=video_ids[i][1], width=W,\n",
        "                             height=H, fs=fs, rel=0)\n",
        "        print(f'Video available at https://youtube.com/watch?v={video.id}')\n",
        "      else:\n",
        "        video = PlayVideo(id=video_ids[i][1], source=video_ids[i][0], width=W,\n",
        "                          height=H, fs=fs, autoplay=False)\n",
        "        if video_ids[i][0] == 'Bilibili':\n",
        "          print(f'Video available at https://www.bilibili.com/video/{video.id}')\n",
        "        elif video_ids[i][0] == 'Osf':\n",
        "          print(f'Video available at https://osf.io/{video.id}')\n",
        "      display(video)\n",
        "    tab_contents.append(out)\n",
        "  return tab_contents\n",
        "\n",
        "\n",
        "video_ids = [('Youtube', 'LSkjPM1gFu0'), ('Bilibili', 'BV1744y127SQ')]\n",
        "tab_contents = display_videos(video_ids, W=854, H=480)\n",
        "tabs = widgets.Tab()\n",
        "tabs.children = tab_contents\n",
        "for i in range(len(tab_contents)):\n",
        "  tabs.set_title(i, video_ids[i][0])\n",
        "display(tabs)"
      ]
    },
    {
      "cell_type": "code",
      "execution_count": null,
      "metadata": {
        "cellView": "form",
        "execution": {},
        "id": "f9VWCDl4EJZi"
      },
      "outputs": [],
      "source": [
        "# @title Submit your feedback\n",
        "content_review(f\"{feedback_prefix}_Getting_Data_Video\")"
      ]
    },
    {
      "cell_type": "markdown",
      "metadata": {
        "execution": {},
        "id": "h55ki24UEJZi"
      },
      "source": [
        "When training neural network models you will be working with large amounts of data. Fortunately, PyTorch offers some great tools that help you organize and manipulate your data samples."
      ]
    },
    {
      "cell_type": "code",
      "execution_count": 72,
      "metadata": {
        "execution": {},
        "id": "5s_T1ZLkEJZi"
      },
      "outputs": [],
      "source": [
        "# Import dataset and dataloaders related packages\n",
        "from torchvision import datasets\n",
        "from torchvision.transforms import ToTensor\n",
        "from torch.utils.data import DataLoader\n",
        "from torchvision.transforms import Compose, Grayscale"
      ]
    },
    {
      "cell_type": "markdown",
      "metadata": {
        "execution": {},
        "id": "Mv41HzM_EJZi"
      },
      "source": [
        "**Datasets**\n",
        "\n",
        "The `torchvision` package gives you easy access to many of the publicly available datasets. Let's load the [CIFAR10](https://www.cs.toronto.edu/~kriz/cifar.html) dataset, which contains color images of 10 different classes, like vehicles and animals.\n",
        "\n",
        "Creating an object of type `datasets.CIFAR10` will automatically download and load all images from the dataset. The resulting data structure can be treated as a list containing data samples and their corresponding labels."
      ]
    },
    {
      "cell_type": "code",
      "execution_count": null,
      "metadata": {
        "execution": {},
        "id": "W5FuDZMuEJZi"
      },
      "outputs": [],
      "source": [
        "# Download and load the images from the CIFAR10 dataset\n",
        "cifar10_data = datasets.CIFAR10(\n",
        "    root=\"data\",  # path where the images will be stored\n",
        "    download=True,  # all images should be downloaded\n",
        "    transform=ToTensor()  # transform the images to tensors\n",
        "    )\n",
        "\n",
        "# Print the number of samples in the loaded dataset\n",
        "print(f\"Number of samples: {len(cifar10_data)}\")\n",
        "print(f\"Class names: {cifar10_data.classes}\")"
      ]
    },
    {
      "cell_type": "markdown",
      "metadata": {
        "execution": {},
        "id": "8god9E6tEJZi"
      },
      "source": [
        "We have 50,000 samples loaded. Now, let's take a look at one of them in detail. Each sample consists of an image and its corresponding label."
      ]
    },
    {
      "cell_type": "code",
      "execution_count": null,
      "metadata": {
        "execution": {},
        "id": "a0YltW5UEJZi"
      },
      "outputs": [],
      "source": [
        "# Choose a random sample\n",
        "random.seed(2021)\n",
        "image, label = cifar10_data[random.randint(0, len(cifar10_data))]\n",
        "print(f\"Label: {cifar10_data.classes[label]}\")\n",
        "print(f\"Image size: {image.shape}\")"
      ]
    },
    {
      "cell_type": "markdown",
      "metadata": {
        "execution": {},
        "id": "axcBK1OSEJZi"
      },
      "source": [
        "Color images are modeled as 3 dimensional tensors. The first dimension corresponds to the channels ($\\text{C}$) of the image (in this case we have RGB images). The second dimensions is the height ($\\text{H}$) of the image and the third is the width ($\\text{W}$). We can denote this image format as $\\text{C} \\times \\text{H} \\times \\text{W}$."
      ]
    },
    {
      "cell_type": "markdown",
      "metadata": {
        "execution": {},
        "id": "cBKRn6SPEJZi"
      },
      "source": [
        "### Coding Exercise 2.5: Display an image from the dataset\n",
        "\n",
        "Let's try to display the image using `matplotlib`. The code below will not work, because `imshow` expects to have the image in a different format, i.e., $\\text{C} \\times \\text{H} \\times \\text{W}$.\n",
        "\n",
        "You need to reorder the dimensions of the tensor using the `permute` method of the tensor. PyTorch `torch.permute(*dims)` rearranges the original tensor according to the desired ordering and returns a new multidimensional rotated tensor. The size of the returned tensor remains the same as that of the original.\n",
        "\n",
        "**Code hint:**\n",
        "\n",
        "```python\n",
        "# create a tensor of size 2 x 4\n",
        "input_var = torch.randn(2, 4)\n",
        "# print its size and the tensor\n",
        "print(input_var.size())\n",
        "print(input_var)\n",
        "\n",
        "# dimensions permuted\n",
        "input_var = input_var.permute(1, 0)\n",
        "# print its size and the permuted tensor\n",
        "print(input_var.size())\n",
        "print(input_var)\n",
        "```"
      ]
    },
    {
      "cell_type": "code",
      "execution_count": null,
      "metadata": {
        "execution": {},
        "id": "bceC0EjfEJZi"
      },
      "outputs": [],
      "source": [
        "# TODO: Uncomment the following line to see the error that arises from the current image format\n",
        "# plt.imshow(image)\n",
        "\n",
        "# TODO: Comment the above line and fix this code by reordering the tensor dimensions\n",
        "# plt.imshow(image.permute(...))\n",
        "# plt.show()"
      ]
    },
    {
      "cell_type": "markdown",
      "metadata": {
        "execution": {},
        "id": "enBWihM-EJZi"
      },
      "source": [
        "[*Click for solution*](https://github.com/NeuromatchAcademy/course-content-dl/tree/main/tutorials/W1D1_BasicsAndPytorch/solutions/W1D1_Tutorial1_Solution_b04bd357.py)\n",
        "\n",
        "*Example output:*\n",
        "\n",
        "<img alt='Solution hint' align='left' width=580.0 height=575.0 src=https://raw.githubusercontent.com/NeuromatchAcademy/course-content-dl/main/tutorials/W1D1_BasicsAndPytorch/static/W1D1_Tutorial1_Solution_b04bd357_0.png>\n",
        "\n"
      ]
    },
    {
      "cell_type": "code",
      "execution_count": null,
      "metadata": {
        "cellView": "form",
        "execution": {},
        "id": "zyCElKhNEJZi"
      },
      "outputs": [],
      "source": [
        "# @title Submit your feedback\n",
        "content_review(f\"{feedback_prefix}_Display_an_Image_Exercise\")"
      ]
    },
    {
      "cell_type": "code",
      "execution_count": null,
      "metadata": {
        "cellView": "form",
        "execution": {},
        "id": "903uH5AbEJZi"
      },
      "outputs": [],
      "source": [
        "#@title Video 8: Train and Test\n",
        "from ipywidgets import widgets\n",
        "from IPython.display import YouTubeVideo\n",
        "from IPython.display import IFrame\n",
        "from IPython.display import display\n",
        "\n",
        "\n",
        "class PlayVideo(IFrame):\n",
        "  def __init__(self, id, source, page=1, width=400, height=300, **kwargs):\n",
        "    self.id = id\n",
        "    if source == 'Bilibili':\n",
        "      src = f'https://player.bilibili.com/player.html?bvid={id}&page={page}'\n",
        "    elif source == 'Osf':\n",
        "      src = f'https://mfr.ca-1.osf.io/render?url=https://osf.io/download/{id}/?direct%26mode=render'\n",
        "    super(PlayVideo, self).__init__(src, width, height, **kwargs)\n",
        "\n",
        "\n",
        "def display_videos(video_ids, W=400, H=300, fs=1):\n",
        "  tab_contents = []\n",
        "  for i, video_id in enumerate(video_ids):\n",
        "    out = widgets.Output()\n",
        "    with out:\n",
        "      if video_ids[i][0] == 'Youtube':\n",
        "        video = YouTubeVideo(id=video_ids[i][1], width=W,\n",
        "                             height=H, fs=fs, rel=0)\n",
        "        print(f'Video available at https://youtube.com/watch?v={video.id}')\n",
        "      else:\n",
        "        video = PlayVideo(id=video_ids[i][1], source=video_ids[i][0], width=W,\n",
        "                          height=H, fs=fs, autoplay=False)\n",
        "        if video_ids[i][0] == 'Bilibili':\n",
        "          print(f'Video available at https://www.bilibili.com/video/{video.id}')\n",
        "        elif video_ids[i][0] == 'Osf':\n",
        "          print(f'Video available at https://osf.io/{video.id}')\n",
        "      display(video)\n",
        "    tab_contents.append(out)\n",
        "  return tab_contents\n",
        "\n",
        "\n",
        "video_ids = [('Youtube', 'JokSIuPs-ys'), ('Bilibili', 'BV1rV411H7s5')]\n",
        "tab_contents = display_videos(video_ids, W=854, H=480)\n",
        "tabs = widgets.Tab()\n",
        "tabs.children = tab_contents\n",
        "for i in range(len(tab_contents)):\n",
        "  tabs.set_title(i, video_ids[i][0])\n",
        "display(tabs)"
      ]
    },
    {
      "cell_type": "code",
      "execution_count": null,
      "metadata": {
        "cellView": "form",
        "execution": {},
        "id": "jkN5NAx-EJZj"
      },
      "outputs": [],
      "source": [
        "# @title Submit your feedback\n",
        "content_review(f\"{feedback_prefix}_Train_and_Test_Video\")"
      ]
    },
    {
      "cell_type": "markdown",
      "metadata": {
        "execution": {},
        "id": "9zoFmuAuEJZj"
      },
      "source": [
        "**Training and Test Datasets**\n",
        "\n",
        "When loading a dataset, you can specify if you want to load the training or the test samples using the `train` argument. We can load the training and test datasets separately. For simplicity, today we will not use both datasets separately, but this topic will be adressed in the next days."
      ]
    },
    {
      "cell_type": "code",
      "execution_count": null,
      "metadata": {
        "execution": {},
        "id": "2RNs2QYtEJZj"
      },
      "outputs": [],
      "source": [
        "# Load the training samples\n",
        "training_data = datasets.CIFAR10(\n",
        "    root=\"data\",\n",
        "    train=True,\n",
        "    download=True,\n",
        "    transform=ToTensor()\n",
        "    )\n",
        "\n",
        "# Load the test samples\n",
        "test_data = datasets.CIFAR10(\n",
        "    root=\"data\",\n",
        "    train=False,\n",
        "    download=True,\n",
        "    transform=ToTensor()\n",
        "    )"
      ]
    },
    {
      "cell_type": "code",
      "execution_count": null,
      "metadata": {
        "cellView": "form",
        "execution": {},
        "id": "extq77SDEJZj"
      },
      "outputs": [],
      "source": [
        "# @title Video 9: Data Augmentation - Transformations\n",
        "from ipywidgets import widgets\n",
        "from IPython.display import YouTubeVideo\n",
        "from IPython.display import IFrame\n",
        "from IPython.display import display\n",
        "\n",
        "\n",
        "class PlayVideo(IFrame):\n",
        "  def __init__(self, id, source, page=1, width=400, height=300, **kwargs):\n",
        "    self.id = id\n",
        "    if source == 'Bilibili':\n",
        "      src = f'https://player.bilibili.com/player.html?bvid={id}&page={page}'\n",
        "    elif source == 'Osf':\n",
        "      src = f'https://mfr.ca-1.osf.io/render?url=https://osf.io/download/{id}/?direct%26mode=render'\n",
        "    super(PlayVideo, self).__init__(src, width, height, **kwargs)\n",
        "\n",
        "\n",
        "def display_videos(video_ids, W=400, H=300, fs=1):\n",
        "  tab_contents = []\n",
        "  for i, video_id in enumerate(video_ids):\n",
        "    out = widgets.Output()\n",
        "    with out:\n",
        "      if video_ids[i][0] == 'Youtube':\n",
        "        video = YouTubeVideo(id=video_ids[i][1], width=W,\n",
        "                             height=H, fs=fs, rel=0)\n",
        "        print(f'Video available at https://youtube.com/watch?v={video.id}')\n",
        "      else:\n",
        "        video = PlayVideo(id=video_ids[i][1], source=video_ids[i][0], width=W,\n",
        "                          height=H, fs=fs, autoplay=False)\n",
        "        if video_ids[i][0] == 'Bilibili':\n",
        "          print(f'Video available at https://www.bilibili.com/video/{video.id}')\n",
        "        elif video_ids[i][0] == 'Osf':\n",
        "          print(f'Video available at https://osf.io/{video.id}')\n",
        "      display(video)\n",
        "    tab_contents.append(out)\n",
        "  return tab_contents\n",
        "\n",
        "\n",
        "video_ids = [('Youtube', 'sjegA9OBUPw'), ('Bilibili', 'BV19B4y1N77t')]\n",
        "tab_contents = display_videos(video_ids, W=854, H=480)\n",
        "tabs = widgets.Tab()\n",
        "tabs.children = tab_contents\n",
        "for i in range(len(tab_contents)):\n",
        "  tabs.set_title(i, video_ids[i][0])\n",
        "display(tabs)"
      ]
    },
    {
      "cell_type": "markdown",
      "metadata": {
        "execution": {},
        "id": "bhu7ue1TEJZj"
      },
      "source": [
        "**Dataloader**\n",
        "\n",
        "Another important concept is the `Dataloader`. It is a wrapper around the `Dataset` that splits it into minibatches (important for training the neural network) and makes the data iterable. The `shuffle` argument is used to shuffle the order of the samples across the minibatches."
      ]
    },
    {
      "cell_type": "code",
      "execution_count": null,
      "metadata": {
        "execution": {},
        "id": "WAGJvzAaEJZj"
      },
      "outputs": [],
      "source": [
        "# Create dataloaders with\n",
        "train_dataloader = DataLoader(training_data, batch_size=64, shuffle=True)\n",
        "test_dataloader = DataLoader(test_data, batch_size=64, shuffle=True)"
      ]
    },
    {
      "cell_type": "markdown",
      "metadata": {
        "execution": {},
        "id": "z2jQtskBEJZj"
      },
      "source": [
        "*Reproducibility:* DataLoader will reseed workers following Randomness in multi-process data loading algorithm. Use `worker_init_fn()` and a `generator` to preserve reproducibility:\n",
        "\n",
        "\n",
        "```python\n",
        "def seed_worker(worker_id):\n",
        "  worker_seed = torch.initial_seed() % 2**32\n",
        "  numpy.random.seed(worker_seed)\n",
        "  random.seed(worker_seed)\n",
        "\n",
        "\n",
        "g_seed = torch.Generator()\n",
        "g_seed.manual_seed(my_seed)\n",
        "\n",
        "DataLoader(\n",
        "    train_dataset,\n",
        "    batch_size=batch_size,\n",
        "    num_workers=num_workers,\n",
        "    worker_init_fn=seed_worker,\n",
        "    generator=g_seed\n",
        "    )\n",
        "```"
      ]
    },
    {
      "cell_type": "markdown",
      "metadata": {
        "execution": {},
        "id": "S_XA8A4-EJZj"
      },
      "source": [
        "**Important:** For the `seed_worker` to have an effect, `num_workers` should be 2 or more."
      ]
    },
    {
      "cell_type": "markdown",
      "metadata": {
        "execution": {},
        "id": "W5s5MOlAEJZj"
      },
      "source": [
        "We can now query the next batch from the data loader and inspect it. For this we need to convert the dataloader object to a Python iterator using the function `iter` and then we can query the next batch using the function `next`.\n",
        "\n",
        "We can now see that we have a 4D tensor. This is because we have a 64 images in the batch ($B$) and each image has 3 dimensions: channels ($C$), height ($H$) and width ($W$). So, the size of the 4D tensor is $B \\times C \\times H \\times W$."
      ]
    },
    {
      "cell_type": "code",
      "execution_count": null,
      "metadata": {
        "execution": {},
        "id": "YyjtKHDnEJZj"
      },
      "outputs": [],
      "source": [
        "# Load the next batch\n",
        "batch_images, batch_labels = next(iter(train_dataloader))\n",
        "print('Batch size:', batch_images.shape)\n",
        "\n",
        "# Display the first image from the batch\n",
        "plt.imshow(batch_images[0].permute(1, 2, 0))\n",
        "plt.show()"
      ]
    },
    {
      "cell_type": "markdown",
      "metadata": {
        "execution": {},
        "id": "weTho73ZEJZj"
      },
      "source": [
        "**Transformations**\n",
        "\n",
        "Another useful feature when loading a dataset is applying transformations on the data - color conversions, normalization, cropping, rotation etc. There are many predefined transformations in the `torchvision.transforms` package and you can also combine them using the `Compose` transform. Checkout the [pytorch documentation](https://pytorch.org/vision/stable/transforms.html) for details."
      ]
    },
    {
      "cell_type": "markdown",
      "metadata": {
        "execution": {},
        "id": "lP8LwePgEJZj"
      },
      "source": [
        "### Coding Exercise 2.6: Load the CIFAR10 dataset as grayscale images\n",
        "\n",
        "The goal of this excercise is to load the images from the CIFAR10 dataset as grayscale images. Note that we rerun the `set_seed` function to ensure reproducibility."
      ]
    },
    {
      "cell_type": "code",
      "execution_count": null,
      "metadata": {
        "execution": {},
        "id": "s006UfGsEJZj"
      },
      "outputs": [],
      "source": [
        "def my_data_load():\n",
        "  \"\"\"\n",
        "  Function to load CIFAR10 data as grayscale images\n",
        "\n",
        "  Args:\n",
        "    None\n",
        "\n",
        "  Returns:\n",
        "    data: DataFrame\n",
        "      CIFAR10 loaded Dataframe of shape (3309, 14)\n",
        "  \"\"\"\n",
        "  ###############################################\n",
        "  ## TODO for students: load the CIFAR10 data,\n",
        "  ## but as grayscale images and not as RGB colored.\n",
        "  raise NotImplementedError(\"Student exercise: fill in the missing code to load the data\")\n",
        "  ###############################################\n",
        "  ## TODO Load the CIFAR10 data using a transform that converts the images to grayscale tensors\n",
        "  data = datasets.CIFAR10(...,\n",
        "                          transform=...)\n",
        "  # Display a random grayscale image\n",
        "  image, label = data[random.randint(0, len(data))]\n",
        "  plt.imshow(image.squeeze(), cmap=\"gray\")\n",
        "  plt.show()\n",
        "\n",
        "  return data\n",
        "\n",
        "\n",
        "set_seed(seed=2021)\n",
        "## After implementing the above code, uncomment the following lines to test your code\n",
        "# data = my_data_load()"
      ]
    },
    {
      "cell_type": "markdown",
      "metadata": {
        "execution": {},
        "id": "4Em1F0ssEJZj"
      },
      "source": [
        "[*Click for solution*](https://github.com/NeuromatchAcademy/course-content-dl/tree/main/tutorials/W1D1_BasicsAndPytorch/solutions/W1D1_Tutorial1_Solution_1c5a709e.py)\n",
        "\n",
        "*Example output:*\n",
        "\n",
        "<img alt='Solution hint' align='left' width=580.0 height=575.0 src=https://raw.githubusercontent.com/NeuromatchAcademy/course-content-dl/main/tutorials/W1D1_BasicsAndPytorch/static/W1D1_Tutorial1_Solution_1c5a709e_1.png>\n",
        "\n"
      ]
    },
    {
      "cell_type": "code",
      "execution_count": null,
      "metadata": {
        "cellView": "form",
        "execution": {},
        "id": "jb1I8qUcEJZj"
      },
      "outputs": [],
      "source": [
        "# @title Submit your feedback\n",
        "content_review(f\"{feedback_prefix}_Load_CIFAR10_Exercise\")"
      ]
    },
    {
      "cell_type": "markdown",
      "metadata": {
        "execution": {},
        "id": "9AJT-qSwEJZj"
      },
      "source": [
        "---\n",
        "# Section 3: Neural Networks\n",
        "\n",
        "*Time estimate: ~1 hour 30 mins (excluding video)*"
      ]
    },
    {
      "cell_type": "markdown",
      "metadata": {
        "execution": {},
        "id": "0PR-5ASqEJZj"
      },
      "source": [
        "Now it's time for you to create your first neural network using PyTorch. This section will walk you through the process of:\n",
        "\n",
        "- Creating a simple neural network model\n",
        "- Training the network\n",
        "- Visualizing the results of the network\n",
        "- Tweaking the network"
      ]
    },
    {
      "cell_type": "code",
      "execution_count": null,
      "metadata": {
        "cellView": "form",
        "execution": {},
        "id": "UAPjwS3CEJZj"
      },
      "outputs": [],
      "source": [
        "# @title Video 10: CSV Files\n",
        "from ipywidgets import widgets\n",
        "from IPython.display import YouTubeVideo\n",
        "from IPython.display import IFrame\n",
        "from IPython.display import display\n",
        "\n",
        "\n",
        "class PlayVideo(IFrame):\n",
        "  def __init__(self, id, source, page=1, width=400, height=300, **kwargs):\n",
        "    self.id = id\n",
        "    if source == 'Bilibili':\n",
        "      src = f'https://player.bilibili.com/player.html?bvid={id}&page={page}'\n",
        "    elif source == 'Osf':\n",
        "      src = f'https://mfr.ca-1.osf.io/render?url=https://osf.io/download/{id}/?direct%26mode=render'\n",
        "    super(PlayVideo, self).__init__(src, width, height, **kwargs)\n",
        "\n",
        "\n",
        "def display_videos(video_ids, W=400, H=300, fs=1):\n",
        "  tab_contents = []\n",
        "  for i, video_id in enumerate(video_ids):\n",
        "    out = widgets.Output()\n",
        "    with out:\n",
        "      if video_ids[i][0] == 'Youtube':\n",
        "        video = YouTubeVideo(id=video_ids[i][1], width=W,\n",
        "                             height=H, fs=fs, rel=0)\n",
        "        print(f'Video available at https://youtube.com/watch?v={video.id}')\n",
        "      else:\n",
        "        video = PlayVideo(id=video_ids[i][1], source=video_ids[i][0], width=W,\n",
        "                          height=H, fs=fs, autoplay=False)\n",
        "        if video_ids[i][0] == 'Bilibili':\n",
        "          print(f'Video available at https://www.bilibili.com/video/{video.id}')\n",
        "        elif video_ids[i][0] == 'Osf':\n",
        "          print(f'Video available at https://osf.io/{video.id}')\n",
        "      display(video)\n",
        "    tab_contents.append(out)\n",
        "  return tab_contents\n",
        "\n",
        "\n",
        "video_ids = [('Youtube', 'JrC_UAJWYKU'), ('Bilibili', 'BV1xy4y1T7kv')]\n",
        "tab_contents = display_videos(video_ids, W=854, H=480)\n",
        "tabs = widgets.Tab()\n",
        "tabs.children = tab_contents\n",
        "for i in range(len(tab_contents)):\n",
        "  tabs.set_title(i, video_ids[i][0])\n",
        "display(tabs)"
      ]
    },
    {
      "cell_type": "code",
      "execution_count": null,
      "metadata": {
        "cellView": "form",
        "execution": {},
        "id": "xo0O7oe7EJZj"
      },
      "outputs": [],
      "source": [
        "# @title Submit your feedback\n",
        "content_review(f\"{feedback_prefix}_CSV_files_Video\")"
      ]
    },
    {
      "cell_type": "markdown",
      "metadata": {
        "execution": {},
        "id": "FIniJD_LEJZj"
      },
      "source": [
        "## Section 3.1: Data Loading\n",
        "\n",
        "First we need some sample data to train our network on. You can use the function below to generate an example dataset consisting of 2D points along two interleaving half circles. The data will be stored in a file called `sample_data.csv`. You can inspect the file directly in Colab by going to Files on the left side and opening the CSV file."
      ]
    },
    {
      "cell_type": "code",
      "execution_count": null,
      "metadata": {
        "cellView": "form",
        "execution": {},
        "id": "Vz7DxmlxEJZj"
      },
      "outputs": [],
      "source": [
        "# @title Generate sample data\n",
        "# @markdown we used `scikit-learn` module\n",
        "from sklearn.datasets import make_moons\n",
        "\n",
        "# Create a dataset of 256 points with a little noise\n",
        "X, y = make_moons(256, noise=0.1)\n",
        "\n",
        "# Store the data as a Pandas data frame and save it to a CSV file\n",
        "df = pd.DataFrame(dict(x0=X[:,0], x1=X[:,1], y=y))\n",
        "df.to_csv('sample_data.csv')"
      ]
    },
    {
      "cell_type": "markdown",
      "metadata": {
        "execution": {},
        "id": "x7_m3GDWEJZj"
      },
      "source": [
        "Now we can load the data from the CSV file using the Pandas library. Pandas provides many functions for reading files in various formats. When loading data from a CSV file, we can reference the columns directly by their names."
      ]
    },
    {
      "cell_type": "code",
      "execution_count": null,
      "metadata": {
        "execution": {},
        "id": "8XTMOSkVEJZk"
      },
      "outputs": [],
      "source": [
        "# Load the data from the CSV file in a Pandas DataFrame\n",
        "data = pd.read_csv(\"sample_data.csv\")\n",
        "\n",
        "# Create a 2D numpy array from the x0 and x1 columns\n",
        "X_orig = data[[\"x0\", \"x1\"]].to_numpy()\n",
        "\n",
        "# Create a 1D numpy array from the y column\n",
        "y_orig = data[\"y\"].to_numpy()\n",
        "\n",
        "# Print the sizes of the generated 2D points X and the corresponding labels Y\n",
        "print(f\"Size X:{X_orig.shape}\")\n",
        "print(f\"Size y:{y_orig.shape}\")\n",
        "\n",
        "# Visualize the dataset. The color of the points is determined by the labels `y_orig`.\n",
        "plt.scatter(X_orig[:, 0], X_orig[:, 1], s=40, c=y_orig)\n",
        "plt.show()"
      ]
    },
    {
      "cell_type": "markdown",
      "metadata": {
        "execution": {},
        "id": "26bKdmrZEJZk"
      },
      "source": [
        "**Prepare Data for PyTorch**\n",
        "\n",
        "Now let's prepare the data in a format suitable for PyTorch - convert everything into tensors."
      ]
    },
    {
      "cell_type": "code",
      "execution_count": null,
      "metadata": {
        "execution": {},
        "id": "HBkN2h3SEJZk"
      },
      "outputs": [],
      "source": [
        "# Initialize the device variable\n",
        "DEVICE = set_device()\n",
        "\n",
        "# Convert the 2D points to a float32 tensor\n",
        "X = torch.tensor(X_orig, dtype=torch.float32)\n",
        "\n",
        "# Upload the tensor to the device\n",
        "X = X.to(DEVICE)\n",
        "\n",
        "print(f\"Size X:{X.shape}\")\n",
        "\n",
        "# Convert the labels to a long interger tensor\n",
        "y = torch.from_numpy(y_orig).type(torch.LongTensor)\n",
        "\n",
        "# Upload the tensor to the device\n",
        "y = y.to(DEVICE)\n",
        "\n",
        "print(f\"Size y:{y.shape}\")"
      ]
    },
    {
      "cell_type": "markdown",
      "metadata": {
        "execution": {},
        "id": "WjA14ccZEJZk"
      },
      "source": [
        "## Section 3.2: Create a Simple Neural Network"
      ]
    },
    {
      "cell_type": "code",
      "execution_count": null,
      "metadata": {
        "cellView": "form",
        "execution": {},
        "id": "Zy8UDInGEJZk"
      },
      "outputs": [],
      "source": [
        "# @title Video 11: Generating the Neural Network\n",
        "from ipywidgets import widgets\n",
        "from IPython.display import YouTubeVideo\n",
        "from IPython.display import IFrame\n",
        "from IPython.display import display\n",
        "\n",
        "\n",
        "class PlayVideo(IFrame):\n",
        "  def __init__(self, id, source, page=1, width=400, height=300, **kwargs):\n",
        "    self.id = id\n",
        "    if source == 'Bilibili':\n",
        "      src = f'https://player.bilibili.com/player.html?bvid={id}&page={page}'\n",
        "    elif source == 'Osf':\n",
        "      src = f'https://mfr.ca-1.osf.io/render?url=https://osf.io/download/{id}/?direct%26mode=render'\n",
        "    super(PlayVideo, self).__init__(src, width, height, **kwargs)\n",
        "\n",
        "\n",
        "def display_videos(video_ids, W=400, H=300, fs=1):\n",
        "  tab_contents = []\n",
        "  for i, video_id in enumerate(video_ids):\n",
        "    out = widgets.Output()\n",
        "    with out:\n",
        "      if video_ids[i][0] == 'Youtube':\n",
        "        video = YouTubeVideo(id=video_ids[i][1], width=W,\n",
        "                             height=H, fs=fs, rel=0)\n",
        "        print(f'Video available at https://youtube.com/watch?v={video.id}')\n",
        "      else:\n",
        "        video = PlayVideo(id=video_ids[i][1], source=video_ids[i][0], width=W,\n",
        "                          height=H, fs=fs, autoplay=False)\n",
        "        if video_ids[i][0] == 'Bilibili':\n",
        "          print(f'Video available at https://www.bilibili.com/video/{video.id}')\n",
        "        elif video_ids[i][0] == 'Osf':\n",
        "          print(f'Video available at https://osf.io/{video.id}')\n",
        "      display(video)\n",
        "    tab_contents.append(out)\n",
        "  return tab_contents\n",
        "\n",
        "\n",
        "video_ids = [('Youtube', 'PwSzRohUvck'), ('Bilibili', 'BV1fK4y1M74a')]\n",
        "tab_contents = display_videos(video_ids, W=854, H=480)\n",
        "tabs = widgets.Tab()\n",
        "tabs.children = tab_contents\n",
        "for i in range(len(tab_contents)):\n",
        "  tabs.set_title(i, video_ids[i][0])\n",
        "display(tabs)"
      ]
    },
    {
      "cell_type": "code",
      "execution_count": null,
      "metadata": {
        "cellView": "form",
        "execution": {},
        "id": "pHR-Er25EJZk"
      },
      "outputs": [],
      "source": [
        "# @title Submit your feedback\n",
        "content_review(f\"{feedback_prefix}_Generating_Neural_Network_Video\")"
      ]
    },
    {
      "cell_type": "markdown",
      "metadata": {
        "execution": {},
        "id": "qZIsranYEJZk"
      },
      "source": [
        "For this example we want to have a simple neural network consisting of 3 layers:\n",
        "\n",
        "- 1 input layer of size 2 (our points have 2 coordinates)\n",
        "- 1 hidden layer of size 16 (you can play with different numbers here)\n",
        "- 1 output layer of size 2 (we want the have the scores for the two classes)\n",
        "\n",
        "During the course you will deal with differend kinds of neural networks. On Day 2, we will focus on linear networks, but you will work with some more complicated architectures in the next days. The example here is meant to demonstrate the process of creating and training a neural network end-to-end.\n",
        "\n",
        "**Programing the Network**\n",
        "\n",
        "PyTorch provides a base class for all neural network modules called [`nn.Module`](https://pytorch.org/docs/stable/generated/torch.nn.Module.html). You need to inherit from `nn.Module` and implement some important methods:\n",
        "\n",
        "* `__init__`\n",
        "\n",
        "  In the `__init__` method you need to define the structure of your network. Here you will specify what layers will the network consist of, what activation functions will be used etc.\n",
        "\n",
        "* `forward`\n",
        "\n",
        "  All neural network modules need to implement the `forward` method. It specifies the computations the network needs to do when data is passed through it.\n",
        "\n",
        "* `predict`\n",
        "\n",
        "  This is not an obligatory method of a neural network module, but it is a good practice if you want to quickly get the most likely label from the network. It calls the `forward` method and chooses the label with the highest score.\n",
        "\n",
        "* `train`\n",
        "\n",
        "  This is also not an obligatory method, but it is a good practice to have. The method will be used to train the network parameters and will be implemented later in the notebook.\n",
        "\n",
        "<br>\n",
        "\n",
        "**Note:** You can use the `__call__` method of a module directly and it will invoke the `forward` method: `net()` does the same as `net.forward()`."
      ]
    },
    {
      "cell_type": "code",
      "execution_count": null,
      "metadata": {
        "execution": {},
        "id": "MosX7NwiEJZk"
      },
      "outputs": [],
      "source": [
        "# Inherit from nn.Module - the base class for neural network modules provided by Pytorch\n",
        "class NaiveNet(nn.Module):\n",
        "  \"\"\"\n",
        "  NaiveNet architecture\n",
        "  Structure is as follows:\n",
        "  Linear Layer (2, 16) -> ReLU activation -> Linear Layer (16, 2)\n",
        "  \"\"\"\n",
        "  # Define the structure of your network\n",
        "  def __init__(self):\n",
        "    \"\"\"\n",
        "    Defines the NaiveNet structure by initialising following attributes\n",
        "    nn.Linear (2, 16):  Transformation from the input to the hidden layer\n",
        "    nn.ReLU: Activation function (ReLU) is a non-linearity which is widely used because it reduces computation.\n",
        "             The function returns 0 if it receives any negative input, but for any positive value x, it returns that value back.\n",
        "    nn.Linear (16, 2): Transformation from the hidden to the output layer\n",
        "\n",
        "    Args:\n",
        "      None\n",
        "\n",
        "    Returns:\n",
        "      Nothing\n",
        "    \"\"\"\n",
        "    super(NaiveNet, self).__init__()\n",
        "\n",
        "    # The network is defined as a sequence of operations\n",
        "    self.layers = nn.Sequential(\n",
        "        nn.Linear(2, 16),\n",
        "        nn.ReLU(),\n",
        "        nn.Linear(16, 2),\n",
        "    )\n",
        "\n",
        "  # Specify the computations performed on the data\n",
        "  def forward(self, x):\n",
        "    \"\"\"\n",
        "    Defines the forward pass through the above defined structure\n",
        "\n",
        "    Args:\n",
        "      x: torch.Tensor\n",
        "        Input tensor of size ([3])\n",
        "\n",
        "    Returns:\n",
        "      layers: nn.module\n",
        "        Initialised Layers in order to re-use the same layer for each forward pass of data you make.\n",
        "    \"\"\"\n",
        "    # Pass the data through the layers\n",
        "    return self.layers(x)\n",
        "\n",
        "  # Choose the most likely label predicted by the network\n",
        "  def predict(self, x):\n",
        "    \"\"\"\n",
        "    Performs the prediction task of the network\n",
        "\n",
        "    Args:\n",
        "      x: torch.Tensor\n",
        "        Input tensor of size ([3])\n",
        "\n",
        "    Returns:\n",
        "      Most likely class i.e., Label with the highest score\n",
        "    \"\"\"\n",
        "    # Pass the data through the networks\n",
        "    output = self.forward(x)\n",
        "\n",
        "    # Choose the label with the highest score\n",
        "    return torch.argmax(output, 1)\n",
        "\n",
        "  # Train the neural network (will be implemented later)\n",
        "  def train(self, X, y):\n",
        "    \"\"\"\n",
        "    Training the Neural Network\n",
        "\n",
        "    Args:\n",
        "      X: torch.Tensor\n",
        "        Input data\n",
        "      y: torch.Tensor\n",
        "        Class Labels/Targets\n",
        "\n",
        "    Returns:\n",
        "      Nothing\n",
        "    \"\"\"\n",
        "    pass"
      ]
    },
    {
      "cell_type": "markdown",
      "metadata": {
        "execution": {},
        "id": "dKj6VrCjEJZk"
      },
      "source": [
        "**Check that your network works**\n",
        "\n",
        "Create an instance of your model and visualize it."
      ]
    },
    {
      "cell_type": "code",
      "execution_count": null,
      "metadata": {
        "execution": {},
        "id": "KUnBcxJpEJZk"
      },
      "outputs": [],
      "source": [
        "# Create new NaiveNet and transfer it to the device\n",
        "model = NaiveNet().to(DEVICE)\n",
        "\n",
        "# Print the structure of the network\n",
        "print(model)"
      ]
    },
    {
      "cell_type": "markdown",
      "metadata": {
        "execution": {},
        "id": "lEaJxNNCEJZk"
      },
      "source": [
        "### Coding Exercise 3.2: Classify some samples\n",
        "\n",
        "Now, let's pass some of the points of our dataset through the network and see if it works. You should not expect the network to actually classify the points correctly, because it has not been trained yet.\n",
        "\n",
        "The goal here is just to get some experience with the data structures that are passed to the forward and predict methods and their results."
      ]
    },
    {
      "cell_type": "code",
      "execution_count": null,
      "metadata": {
        "execution": {},
        "id": "DQithAvWEJZk"
      },
      "outputs": [],
      "source": [
        "## Get the samples\n",
        "# X_samples = ...\n",
        "# print(\"Sample input:\\n\", X_samples)\n",
        "\n",
        "## Do a forward pass of the network\n",
        "# output = ...\n",
        "# print(\"\\nNetwork output:\\n\", output)\n",
        "\n",
        "## Predict the label of each point\n",
        "# y_predicted = ...\n",
        "# print(\"\\nPredicted labels:\\n\", y_predicted)"
      ]
    },
    {
      "cell_type": "markdown",
      "metadata": {
        "execution": {},
        "id": "AufQm5iLEJZk"
      },
      "source": [
        "[*Click for solution*](https://github.com/NeuromatchAcademy/course-content-dl/tree/main/tutorials/W1D1_BasicsAndPytorch/solutions/W1D1_Tutorial1_Solution_63f6a21a.py)\n",
        "\n"
      ]
    },
    {
      "cell_type": "markdown",
      "metadata": {
        "execution": {},
        "id": "qHbYAvOREJZk"
      },
      "source": [
        "```\n",
        "Sample input:\n",
        " tensor([[ 0.9066,  0.5052],\n",
        "        [-0.2024,  1.1226],\n",
        "        [ 1.0685,  0.2809],\n",
        "        [ 0.6720,  0.5097],\n",
        "        [ 0.8548,  0.5122]], device='cuda:0')\n",
        "\n",
        "Network output:\n",
        " tensor([[ 0.1543, -0.8018],\n",
        "        [ 2.2077, -2.9859],\n",
        "        [-0.5745, -0.0195],\n",
        "        [ 0.1924, -0.8367],\n",
        "        [ 0.1818, -0.8301]], device='cuda:0', grad_fn=<AddmmBackward>)\n",
        "\n",
        "Predicted labels:\n",
        " tensor([0, 0, 1, 0, 0], device='cuda:0')\n",
        "```"
      ]
    },
    {
      "cell_type": "code",
      "execution_count": null,
      "metadata": {
        "cellView": "form",
        "execution": {},
        "id": "y8GkJyxLEJZk"
      },
      "outputs": [],
      "source": [
        "# @title Submit your feedback\n",
        "content_review(f\"{feedback_prefix}_Classify_some_examples_Exercise\")"
      ]
    },
    {
      "cell_type": "markdown",
      "metadata": {
        "execution": {},
        "id": "W-eoFe8CEJZk"
      },
      "source": [
        "## Section 3.3: Train Your Neural Network"
      ]
    },
    {
      "cell_type": "code",
      "execution_count": null,
      "metadata": {
        "cellView": "form",
        "execution": {},
        "id": "dvpORWDgEJZk"
      },
      "outputs": [],
      "source": [
        "# @title Video 12: Train the Network\n",
        "from ipywidgets import widgets\n",
        "from IPython.display import YouTubeVideo\n",
        "from IPython.display import IFrame\n",
        "from IPython.display import display\n",
        "\n",
        "\n",
        "class PlayVideo(IFrame):\n",
        "  def __init__(self, id, source, page=1, width=400, height=300, **kwargs):\n",
        "    self.id = id\n",
        "    if source == 'Bilibili':\n",
        "      src = f'https://player.bilibili.com/player.html?bvid={id}&page={page}'\n",
        "    elif source == 'Osf':\n",
        "      src = f'https://mfr.ca-1.osf.io/render?url=https://osf.io/download/{id}/?direct%26mode=render'\n",
        "    super(PlayVideo, self).__init__(src, width, height, **kwargs)\n",
        "\n",
        "\n",
        "def display_videos(video_ids, W=400, H=300, fs=1):\n",
        "  tab_contents = []\n",
        "  for i, video_id in enumerate(video_ids):\n",
        "    out = widgets.Output()\n",
        "    with out:\n",
        "      if video_ids[i][0] == 'Youtube':\n",
        "        video = YouTubeVideo(id=video_ids[i][1], width=W,\n",
        "                             height=H, fs=fs, rel=0)\n",
        "        print(f'Video available at https://youtube.com/watch?v={video.id}')\n",
        "      else:\n",
        "        video = PlayVideo(id=video_ids[i][1], source=video_ids[i][0], width=W,\n",
        "                          height=H, fs=fs, autoplay=False)\n",
        "        if video_ids[i][0] == 'Bilibili':\n",
        "          print(f'Video available at https://www.bilibili.com/video/{video.id}')\n",
        "        elif video_ids[i][0] == 'Osf':\n",
        "          print(f'Video available at https://osf.io/{video.id}')\n",
        "      display(video)\n",
        "    tab_contents.append(out)\n",
        "  return tab_contents\n",
        "\n",
        "\n",
        "video_ids = [('Youtube', '4MIqnE4XPaA'), ('Bilibili', 'BV1v54y1n7CS')]\n",
        "tab_contents = display_videos(video_ids, W=854, H=480)\n",
        "tabs = widgets.Tab()\n",
        "tabs.children = tab_contents\n",
        "for i in range(len(tab_contents)):\n",
        "  tabs.set_title(i, video_ids[i][0])\n",
        "display(tabs)"
      ]
    },
    {
      "cell_type": "code",
      "execution_count": null,
      "metadata": {
        "cellView": "form",
        "execution": {},
        "id": "AEVsrcdKEJZk"
      },
      "outputs": [],
      "source": [
        "# @title Submit your feedback\n",
        "content_review(f\"{feedback_prefix}_Train_the_Network_Video\")"
      ]
    },
    {
      "cell_type": "markdown",
      "metadata": {
        "execution": {},
        "id": "sY7FCg2XEJZk"
      },
      "source": [
        "Now it is time to train your network on your dataset. Don't worry if you don't fully understand everything yet - we will cover training in much more details in the next days. For now, the goal is just to see your network in action!\n",
        "\n",
        "You will usually implement the `train` method directly when implementing your class `NaiveNet`. Here, we will implement it as a function outside of the class in order to have it in a separate cell."
      ]
    },
    {
      "cell_type": "code",
      "execution_count": null,
      "metadata": {
        "cellView": "form",
        "execution": {},
        "id": "EG1VSF_5EJZk"
      },
      "outputs": [],
      "source": [
        "# @title Helper function to plot the decision boundary\n",
        "\n",
        "# Code adapted from this notebook: https://jonchar.net/notebooks/Artificial-Neural-Network-with-Keras/\n",
        "\n",
        "from pathlib import Path\n",
        "\n",
        "def plot_decision_boundary(model, X, y, device):\n",
        "  \"\"\"\n",
        "  Helper function to plot decision boundary\n",
        "\n",
        "  Args:\n",
        "    model: nn.module\n",
        "      NaiveNet instance\n",
        "    X: torch.tensor\n",
        "      Input CIFAR10 data\n",
        "    y: torch.tensor\n",
        "      Class Labels/Targets\n",
        "    device: String\n",
        "      \"cpu\" or \"cuda\"\n",
        "\n",
        "  Returns:\n",
        "    Nothing\n",
        "  \"\"\"\n",
        "  # Transfer the data to the CPU\n",
        "  X = X.cpu().numpy()\n",
        "  y = y.cpu().numpy()\n",
        "\n",
        "  # Check if the frames folder exists and create it if needed\n",
        "  frames_path = Path(\"frames\")\n",
        "  if not frames_path.exists():\n",
        "    frames_path.mkdir()\n",
        "\n",
        "  # Set min and max values and give it some padding\n",
        "  x_min, x_max = X[:, 0].min() - .5, X[:, 0].max() + .5\n",
        "  y_min, y_max = X[:, 1].min() - .5, X[:, 1].max() + .5\n",
        "  h = 0.01\n",
        "\n",
        "  # Generate a grid of points with distance h between them\n",
        "  xx, yy = np.meshgrid(np.arange(x_min, x_max, h), np.arange(y_min, y_max, h))\n",
        "\n",
        "  # Predict the function value for the whole gid\n",
        "  grid_points = np.c_[xx.ravel(), yy.ravel()]\n",
        "  grid_points = torch.from_numpy(grid_points).type(torch.FloatTensor)\n",
        "  Z = model.predict(grid_points.to(device)).cpu().numpy()\n",
        "  Z = Z.reshape(xx.shape)\n",
        "\n",
        "  # Plot the contour and training examples\n",
        "  plt.contourf(xx, yy, Z, cmap=plt.cm.Spectral)\n",
        "  plt.scatter(X[:, 0], X[:, 1], c=y, cmap=plt.cm.binary)"
      ]
    },
    {
      "cell_type": "code",
      "execution_count": null,
      "metadata": {
        "execution": {},
        "id": "j8WKGw7GEJZl"
      },
      "outputs": [],
      "source": [
        "# Implement the train function given a training dataset X and correcsponding labels y\n",
        "def train(model, X, y):\n",
        "  \"\"\"\n",
        "    Training the Neural Network\n",
        "\n",
        "    Args:\n",
        "      X: torch.Tensor\n",
        "        Input data\n",
        "      y: torch.Tensor\n",
        "        Class Labels/Targets\n",
        "\n",
        "    Returns:\n",
        "      losses: Float\n",
        "        Cross Entropy Loss; Cross-entropy builds upon the idea of entropy\n",
        "        from information theory and calculates the number of bits required\n",
        "        to represent or transmit an average event from one distribution\n",
        "        compared to another distribution.\n",
        "    \"\"\"\n",
        "  # The Cross Entropy Loss is suitable for classification problems\n",
        "  loss_function = nn.CrossEntropyLoss()\n",
        "\n",
        "  # Create an optimizer (Stochastic Gradient Descent) that will be used to train the network\n",
        "  learning_rate = 1e-2\n",
        "  optimizer = torch.optim.SGD(model.parameters(), lr=learning_rate)\n",
        "\n",
        "  # Number of epochs\n",
        "  epochs = 15000\n",
        "\n",
        "  # List of losses for visualization\n",
        "  losses = []\n",
        "\n",
        "  for i in range(epochs):\n",
        "    # Pass the data through the network and compute the loss\n",
        "    # We'll use the whole dataset during the training instead of using batches\n",
        "    # in to order to keep the code simple for now.\n",
        "    y_logits = model.forward(X)\n",
        "    loss = loss_function(y_logits, y)\n",
        "\n",
        "    # Clear the previous gradients and compute the new ones\n",
        "    optimizer.zero_grad()\n",
        "    loss.backward()\n",
        "\n",
        "    # Adapt the weights of the network\n",
        "    optimizer.step()\n",
        "\n",
        "    # Store the loss\n",
        "    losses.append(loss.item())\n",
        "\n",
        "    # Print the results at every 1000th epoch\n",
        "    if i % 1000 == 0:\n",
        "      print(f\"Epoch {i} loss is {loss.item()}\")\n",
        "\n",
        "      plot_decision_boundary(model, X, y, DEVICE)\n",
        "      plt.savefig('frames/{:05d}.png'.format(i))\n",
        "\n",
        "  return losses\n",
        "\n",
        "\n",
        "# Create a new network instance a train it\n",
        "model = NaiveNet().to(DEVICE)\n",
        "losses = train(model, X, y)"
      ]
    },
    {
      "cell_type": "markdown",
      "metadata": {
        "execution": {},
        "id": "dTeTR53jEJZl"
      },
      "source": [
        "**Plot the loss during training**\n",
        "\n",
        "Plot the loss during the training to see how it reduces and converges."
      ]
    },
    {
      "cell_type": "code",
      "execution_count": null,
      "metadata": {
        "execution": {},
        "id": "5sriMHcqEJZl"
      },
      "outputs": [],
      "source": [
        "plt.plot(np.linspace(1, len(losses), len(losses)), losses)\n",
        "plt.xlabel(\"Epoch\")\n",
        "plt.ylabel(\"Loss\")"
      ]
    },
    {
      "cell_type": "code",
      "execution_count": null,
      "metadata": {
        "cellView": "form",
        "execution": {},
        "id": "ALSOQtteEJZl"
      },
      "outputs": [],
      "source": [
        "# @title Visualize the training process\n",
        "# @markdown Execute this cell!\n",
        "!pip install imageio --quiet\n",
        "!pip install pathlib --quiet\n",
        "\n",
        "import imageio.v2 as imageio\n",
        "from IPython.core.interactiveshell import InteractiveShell\n",
        "from IPython.display import Image, display\n",
        "from pathlib import Path\n",
        "\n",
        "InteractiveShell.ast_node_interactivity = \"all\"\n",
        "\n",
        "# Make a list with all images\n",
        "images = []\n",
        "for i in range(10):\n",
        "  filename = Path(\"frames/0\"+str(i)+\"000.png\")\n",
        "  images.append(imageio.imread(filename))\n",
        "# Save the gif\n",
        "imageio.mimsave('frames/movie.gif', images)\n",
        "gifPath = Path(\"frames/movie.gif\")\n",
        "with open(gifPath,'rb') as f:\n",
        "  display(Image(data=f.read(), format='png'))"
      ]
    },
    {
      "cell_type": "code",
      "execution_count": null,
      "metadata": {
        "cellView": "form",
        "execution": {},
        "id": "Y79G2ebTEJZr"
      },
      "outputs": [],
      "source": [
        "# @title Video 13: Play with it\n",
        "from ipywidgets import widgets\n",
        "from IPython.display import YouTubeVideo\n",
        "from IPython.display import IFrame\n",
        "from IPython.display import display\n",
        "\n",
        "\n",
        "class PlayVideo(IFrame):\n",
        "  def __init__(self, id, source, page=1, width=400, height=300, **kwargs):\n",
        "    self.id = id\n",
        "    if source == 'Bilibili':\n",
        "      src = f'https://player.bilibili.com/player.html?bvid={id}&page={page}'\n",
        "    elif source == 'Osf':\n",
        "      src = f'https://mfr.ca-1.osf.io/render?url=https://osf.io/download/{id}/?direct%26mode=render'\n",
        "    super(PlayVideo, self).__init__(src, width, height, **kwargs)\n",
        "\n",
        "\n",
        "def display_videos(video_ids, W=400, H=300, fs=1):\n",
        "  tab_contents = []\n",
        "  for i, video_id in enumerate(video_ids):\n",
        "    out = widgets.Output()\n",
        "    with out:\n",
        "      if video_ids[i][0] == 'Youtube':\n",
        "        video = YouTubeVideo(id=video_ids[i][1], width=W,\n",
        "                             height=H, fs=fs, rel=0)\n",
        "        print(f'Video available at https://youtube.com/watch?v={video.id}')\n",
        "      else:\n",
        "        video = PlayVideo(id=video_ids[i][1], source=video_ids[i][0], width=W,\n",
        "                          height=H, fs=fs, autoplay=False)\n",
        "        if video_ids[i][0] == 'Bilibili':\n",
        "          print(f'Video available at https://www.bilibili.com/video/{video.id}')\n",
        "        elif video_ids[i][0] == 'Osf':\n",
        "          print(f'Video available at https://osf.io/{video.id}')\n",
        "      display(video)\n",
        "    tab_contents.append(out)\n",
        "  return tab_contents\n",
        "\n",
        "\n",
        "video_ids = [('Youtube', '_GGkapdOdSY'), ('Bilibili', 'BV1Cq4y1W7BH')]\n",
        "tab_contents = display_videos(video_ids, W=854, H=480)\n",
        "tabs = widgets.Tab()\n",
        "tabs.children = tab_contents\n",
        "for i in range(len(tab_contents)):\n",
        "  tabs.set_title(i, video_ids[i][0])\n",
        "display(tabs)"
      ]
    },
    {
      "cell_type": "code",
      "execution_count": null,
      "metadata": {
        "cellView": "form",
        "execution": {},
        "id": "edjekzS3EJZr"
      },
      "outputs": [],
      "source": [
        "# @title Submit your feedback\n",
        "content_review(f\"{feedback_prefix}_Play_with_it_Video\")"
      ]
    },
    {
      "cell_type": "markdown",
      "metadata": {
        "execution": {},
        "id": "FBvcGwksEJZr"
      },
      "source": [
        "### Exercise 3.3: Tweak your Network\n",
        "\n",
        "You can now play around with the network a little bit to get a feeling of what different parameters are doing. Here are some ideas what you could try:\n",
        "\n",
        "- Increase or decrease the number of epochs for training\n",
        "- Increase or decrease the size of the hidden layer\n",
        "- Add one additional hidden layer\n",
        "\n",
        "Can you get the network to better fit the data?"
      ]
    },
    {
      "cell_type": "markdown",
      "metadata": {
        "execution": {},
        "id": "hflffOYqEJZr"
      },
      "source": [
        "[*Click for solution*](https://github.com/NeuromatchAcademy/course-content-dl/tree/main/tutorials/W1D1_BasicsAndPytorch/solutions/W1D1_Tutorial1_Solution_fd3bd4a1.py)\n",
        "\n"
      ]
    },
    {
      "cell_type": "code",
      "execution_count": null,
      "metadata": {
        "cellView": "form",
        "execution": {},
        "id": "QseblRX8EJZr"
      },
      "outputs": [],
      "source": [
        "# @title Submit your feedback\n",
        "content_review(f\"{feedback_prefix}_Tweak_your_Network_Discussion\")"
      ]
    },
    {
      "cell_type": "code",
      "execution_count": null,
      "metadata": {
        "cellView": "form",
        "execution": {},
        "id": "70MRNWfWEJZr"
      },
      "outputs": [],
      "source": [
        "# @title Video 14: XOR Widget\n",
        "from ipywidgets import widgets\n",
        "from IPython.display import YouTubeVideo\n",
        "from IPython.display import IFrame\n",
        "from IPython.display import display\n",
        "\n",
        "\n",
        "class PlayVideo(IFrame):\n",
        "  def __init__(self, id, source, page=1, width=400, height=300, **kwargs):\n",
        "    self.id = id\n",
        "    if source == 'Bilibili':\n",
        "      src = f'https://player.bilibili.com/player.html?bvid={id}&page={page}'\n",
        "    elif source == 'Osf':\n",
        "      src = f'https://mfr.ca-1.osf.io/render?url=https://osf.io/download/{id}/?direct%26mode=render'\n",
        "    super(PlayVideo, self).__init__(src, width, height, **kwargs)\n",
        "\n",
        "\n",
        "def display_videos(video_ids, W=400, H=300, fs=1):\n",
        "  tab_contents = []\n",
        "  for i, video_id in enumerate(video_ids):\n",
        "    out = widgets.Output()\n",
        "    with out:\n",
        "      if video_ids[i][0] == 'Youtube':\n",
        "        video = YouTubeVideo(id=video_ids[i][1], width=W,\n",
        "                             height=H, fs=fs, rel=0)\n",
        "        print(f'Video available at https://youtube.com/watch?v={video.id}')\n",
        "      else:\n",
        "        video = PlayVideo(id=video_ids[i][1], source=video_ids[i][0], width=W,\n",
        "                          height=H, fs=fs, autoplay=False)\n",
        "        if video_ids[i][0] == 'Bilibili':\n",
        "          print(f'Video available at https://www.bilibili.com/video/{video.id}')\n",
        "        elif video_ids[i][0] == 'Osf':\n",
        "          print(f'Video available at https://osf.io/{video.id}')\n",
        "      display(video)\n",
        "    tab_contents.append(out)\n",
        "  return tab_contents\n",
        "\n",
        "\n",
        "video_ids = [('Youtube', 'oTr1nE2rCWg'), ('Bilibili', 'BV1mB4y1N7QS')]\n",
        "tab_contents = display_videos(video_ids, W=854, H=480)\n",
        "tabs = widgets.Tab()\n",
        "tabs.children = tab_contents\n",
        "for i in range(len(tab_contents)):\n",
        "  tabs.set_title(i, video_ids[i][0])\n",
        "display(tabs)"
      ]
    },
    {
      "cell_type": "code",
      "execution_count": null,
      "metadata": {
        "cellView": "form",
        "execution": {},
        "id": "TxC35d1SEJZr"
      },
      "outputs": [],
      "source": [
        "# @title Submit your feedback\n",
        "content_review(f\"{feedback_prefix}_XOR_widget_Video\")"
      ]
    },
    {
      "cell_type": "markdown",
      "metadata": {
        "execution": {},
        "id": "V5_PeJzbEJZr"
      },
      "source": [
        "Exclusive OR (XOR) logical operation gives a true (`1`) output when the number of true inputs is odd. That is, a true output result if one, and only one, of the inputs to the gate is true. If both inputs are false (`0`) or both are true or false output results. Mathematically speaking, XOR represents the inequality function, i.e., the output is true if the inputs are not alike; otherwise, the output is false.\n",
        "\n",
        "In case of two inputs ($X$ and $Y$) the following truth table is applied:\n",
        "\n",
        "\\begin{matrix}\n",
        "  X & Y & \\text{XOR}\\\\\n",
        "  \\hline\n",
        "  0 & 0 & 0\\\\\n",
        "  0 & 1 & 1\\\\\n",
        "  1 & 0 & 1\\\\\n",
        "  1 & 1 & 0\n",
        "\\end{matrix}\n",
        "\n",
        "Here, with `0`, we denote `False`, and with `1` we denote `True` in boolean terms."
      ]
    },
    {
      "cell_type": "markdown",
      "metadata": {
        "execution": {},
        "id": "qfzldon_EJZr"
      },
      "source": [
        "### Interactive Demo 3.3: Solving XOR\n",
        "\n",
        "Here we use an open source and famous visualization widget developed by Tensorflow team available [here](https://github.com/tensorflow/playground).\n",
        "* Play with the widget and observe if you can solve the continuous XOR dataset.\n",
        "* Now add one hidden layer with three units, play with the widget, and set weights by hand to solve this dataset perfectly.\n",
        "\n",
        "For the second part, you should set the weights by clicking on the connections and either type the value or use the up and down keys to change it by one increment. You could also do the same for the biases by clicking on the tiny square to each neuron's bottom left.\n",
        "Even though there are infinitely many solutions, a neat solution when $f(x)$ is ReLU is:\n",
        "\n",
        "\\begin{equation}\n",
        "  y = f(x_1)+f(x_2)-f(x_1+x_2)\n",
        "\\end{equation}\n",
        "\n",
        "Try to set the weights and biases to implement this function after you played enough :)"
      ]
    },
    {
      "cell_type": "code",
      "execution_count": null,
      "metadata": {
        "cellView": "form",
        "execution": {},
        "id": "F1r0JiDUEJZs"
      },
      "outputs": [],
      "source": [
        "# @markdown Play with the parameters to solve XOR\n",
        "from IPython.display import IFrame\n",
        "from ipywidgets import widgets\n",
        "url = 'https://playground.arashash.com/#activation=relu&batchSize=10&dataset=xor&regDataset=reg-plane&learningRate=0.03&regularizationRate=0&noise=0&networkShape=&seed=0.91390&showTestData=false&discretize=false&percTrainData=90&x=true&y=true&xTimesY=false&xSquared=false&ySquared=false&cosX=false&sinX=false&cosY=false&sinY=false&collectStats=false&problem=classification&initZero=false&hideText=false'\n",
        "url2 = \"https://playground.arashash.com\"\n",
        "out = widgets.Output()\n",
        "with out:\n",
        "  print(f\"If you want to vist the webpage: {url2}\")\n",
        "  display(IFrame(src=f\"{url}\", width=1020, height=660))\n",
        "display(out)"
      ]
    },
    {
      "cell_type": "code",
      "execution_count": null,
      "metadata": {
        "cellView": "form",
        "execution": {},
        "id": "fcJ0LcegEJZs"
      },
      "outputs": [],
      "source": [
        "# @markdown Do you think we can solve the discrete XOR (only 4 possibilities) with only 2 hidden units?\n",
        "w1_min_xor = 'Select' # @param ['Select', 'Yes', 'No']\n",
        "if w1_min_xor == 'Yes':\n",
        "  print(\"Awesome. Indeed, yes. We take the two points for which the output should be 1 and dedicate one of the hidden units to each of them. Each of theses  ReLU functions are diagonal and tuned so that only for one of those two points the output is 1. In the end, we add these two together. And voila - discrete xor.\")\n",
        "elif w1_min_xor == 'No':\n",
        "  print(\"How about giving it another try?\")\n",
        "else:\n",
        "  print(\"Select 'Yes' or 'No'!\")"
      ]
    },
    {
      "cell_type": "code",
      "execution_count": null,
      "metadata": {
        "cellView": "form",
        "execution": {},
        "id": "3qu2zeroEJZs"
      },
      "outputs": [],
      "source": [
        "# @title Submit your feedback\n",
        "content_review(f\"{feedback_prefix}_XOR_Interactive_Demo\")"
      ]
    },
    {
      "cell_type": "markdown",
      "metadata": {
        "execution": {},
        "id": "kiIeKeG3EJZs"
      },
      "source": [
        "---\n",
        "# Section 4: Ethics And Course Info"
      ]
    },
    {
      "cell_type": "code",
      "execution_count": null,
      "metadata": {
        "cellView": "form",
        "execution": {},
        "id": "OoyADTnuEJZs"
      },
      "outputs": [],
      "source": [
        "# @title Video 15: Ethics\n",
        "from ipywidgets import widgets\n",
        "from IPython.display import YouTubeVideo\n",
        "from IPython.display import IFrame\n",
        "from IPython.display import display\n",
        "\n",
        "\n",
        "class PlayVideo(IFrame):\n",
        "  def __init__(self, id, source, page=1, width=400, height=300, **kwargs):\n",
        "    self.id = id\n",
        "    if source == 'Bilibili':\n",
        "      src = f'https://player.bilibili.com/player.html?bvid={id}&page={page}'\n",
        "    elif source == 'Osf':\n",
        "      src = f'https://mfr.ca-1.osf.io/render?url=https://osf.io/download/{id}/?direct%26mode=render'\n",
        "    super(PlayVideo, self).__init__(src, width, height, **kwargs)\n",
        "\n",
        "\n",
        "def display_videos(video_ids, W=400, H=300, fs=1):\n",
        "  tab_contents = []\n",
        "  for i, video_id in enumerate(video_ids):\n",
        "    out = widgets.Output()\n",
        "    with out:\n",
        "      if video_ids[i][0] == 'Youtube':\n",
        "        video = YouTubeVideo(id=video_ids[i][1], width=W,\n",
        "                             height=H, fs=fs, rel=0)\n",
        "        print(f'Video available at https://youtube.com/watch?v={video.id}')\n",
        "      else:\n",
        "        video = PlayVideo(id=video_ids[i][1], source=video_ids[i][0], width=W,\n",
        "                          height=H, fs=fs, autoplay=False)\n",
        "        if video_ids[i][0] == 'Bilibili':\n",
        "          print(f'Video available at https://www.bilibili.com/video/{video.id}')\n",
        "        elif video_ids[i][0] == 'Osf':\n",
        "          print(f'Video available at https://osf.io/{video.id}')\n",
        "      display(video)\n",
        "    tab_contents.append(out)\n",
        "  return tab_contents\n",
        "\n",
        "\n",
        "video_ids = [('Youtube', 'Kt6JLi3rUFU'), ('Bilibili', 'BV1Hw41197oB')]\n",
        "tab_contents = display_videos(video_ids, W=854, H=480)\n",
        "tabs = widgets.Tab()\n",
        "tabs.children = tab_contents\n",
        "for i in range(len(tab_contents)):\n",
        "  tabs.set_title(i, video_ids[i][0])\n",
        "display(tabs)"
      ]
    },
    {
      "cell_type": "code",
      "execution_count": null,
      "metadata": {
        "cellView": "form",
        "execution": {},
        "id": "-82HBc-DEJZs"
      },
      "outputs": [],
      "source": [
        "# @title Submit your feedback\n",
        "content_review(f\"{feedback_prefix}_Ethics_Video\")"
      ]
    },
    {
      "cell_type": "code",
      "execution_count": null,
      "metadata": {
        "cellView": "form",
        "execution": {},
        "id": "ukAKELkUEJZs"
      },
      "outputs": [],
      "source": [
        "# @title Video 16: Be a group\n",
        "from ipywidgets import widgets\n",
        "from IPython.display import YouTubeVideo\n",
        "from IPython.display import IFrame\n",
        "from IPython.display import display\n",
        "\n",
        "\n",
        "class PlayVideo(IFrame):\n",
        "  def __init__(self, id, source, page=1, width=400, height=300, **kwargs):\n",
        "    self.id = id\n",
        "    if source == 'Bilibili':\n",
        "      src = f'https://player.bilibili.com/player.html?bvid={id}&page={page}'\n",
        "    elif source == 'Osf':\n",
        "      src = f'https://mfr.ca-1.osf.io/render?url=https://osf.io/download/{id}/?direct%26mode=render'\n",
        "    super(PlayVideo, self).__init__(src, width, height, **kwargs)\n",
        "\n",
        "\n",
        "def display_videos(video_ids, W=400, H=300, fs=1):\n",
        "  tab_contents = []\n",
        "  for i, video_id in enumerate(video_ids):\n",
        "    out = widgets.Output()\n",
        "    with out:\n",
        "      if video_ids[i][0] == 'Youtube':\n",
        "        video = YouTubeVideo(id=video_ids[i][1], width=W,\n",
        "                             height=H, fs=fs, rel=0)\n",
        "        print(f'Video available at https://youtube.com/watch?v={video.id}')\n",
        "      else:\n",
        "        video = PlayVideo(id=video_ids[i][1], source=video_ids[i][0], width=W,\n",
        "                          height=H, fs=fs, autoplay=False)\n",
        "        if video_ids[i][0] == 'Bilibili':\n",
        "          print(f'Video available at https://www.bilibili.com/video/{video.id}')\n",
        "        elif video_ids[i][0] == 'Osf':\n",
        "          print(f'Video available at https://osf.io/{video.id}')\n",
        "      display(video)\n",
        "    tab_contents.append(out)\n",
        "  return tab_contents\n",
        "\n",
        "\n",
        "video_ids = [('Youtube', 'Sfp6--d_H1A'), ('Bilibili', 'BV1j44y1272h')]\n",
        "tab_contents = display_videos(video_ids, W=854, H=480)\n",
        "tabs = widgets.Tab()\n",
        "tabs.children = tab_contents\n",
        "for i in range(len(tab_contents)):\n",
        "  tabs.set_title(i, video_ids[i][0])\n",
        "display(tabs)"
      ]
    },
    {
      "cell_type": "code",
      "execution_count": null,
      "metadata": {
        "cellView": "form",
        "execution": {},
        "id": "0jNnBHROEJZs"
      },
      "outputs": [],
      "source": [
        "# @title Submit your feedback\n",
        "content_review(f\"{feedback_prefix}_Be_a_group_Video\")"
      ]
    },
    {
      "cell_type": "code",
      "execution_count": null,
      "metadata": {
        "cellView": "form",
        "execution": {},
        "id": "CREd1g_mEJZu"
      },
      "outputs": [],
      "source": [
        "# @title Video 17: Syllabus\n",
        "from ipywidgets import widgets\n",
        "from IPython.display import YouTubeVideo\n",
        "from IPython.display import IFrame\n",
        "from IPython.display import display\n",
        "\n",
        "\n",
        "class PlayVideo(IFrame):\n",
        "  def __init__(self, id, source, page=1, width=400, height=300, **kwargs):\n",
        "    self.id = id\n",
        "    if source == 'Bilibili':\n",
        "      src = f'https://player.bilibili.com/player.html?bvid={id}&page={page}'\n",
        "    elif source == 'Osf':\n",
        "      src = f'https://mfr.ca-1.osf.io/render?url=https://osf.io/download/{id}/?direct%26mode=render'\n",
        "    super(PlayVideo, self).__init__(src, width, height, **kwargs)\n",
        "\n",
        "\n",
        "def display_videos(video_ids, W=400, H=300, fs=1):\n",
        "  tab_contents = []\n",
        "  for i, video_id in enumerate(video_ids):\n",
        "    out = widgets.Output()\n",
        "    with out:\n",
        "      if video_ids[i][0] == 'Youtube':\n",
        "        video = YouTubeVideo(id=video_ids[i][1], width=W,\n",
        "                             height=H, fs=fs, rel=0)\n",
        "        print(f'Video available at https://youtube.com/watch?v={video.id}')\n",
        "      else:\n",
        "        video = PlayVideo(id=video_ids[i][1], source=video_ids[i][0], width=W,\n",
        "                          height=H, fs=fs, autoplay=False)\n",
        "        if video_ids[i][0] == 'Bilibili':\n",
        "          print(f'Video available at https://www.bilibili.com/video/{video.id}')\n",
        "        elif video_ids[i][0] == 'Osf':\n",
        "          print(f'Video available at https://osf.io/{video.id}')\n",
        "      display(video)\n",
        "    tab_contents.append(out)\n",
        "  return tab_contents\n",
        "\n",
        "\n",
        "video_ids = [('Youtube', 'cDvAqG_hAvQ'), ('Bilibili', 'BV1iB4y1N7uQ')]\n",
        "tab_contents = display_videos(video_ids, W=854, H=480)\n",
        "tabs = widgets.Tab()\n",
        "tabs.children = tab_contents\n",
        "for i in range(len(tab_contents)):\n",
        "  tabs.set_title(i, video_ids[i][0])\n",
        "display(tabs)"
      ]
    },
    {
      "cell_type": "code",
      "execution_count": null,
      "metadata": {
        "cellView": "form",
        "execution": {},
        "id": "Mw6ZmIj8EJZu"
      },
      "outputs": [],
      "source": [
        "# @title Submit your feedback\n",
        "content_review(f\"{feedback_prefix}_Syllabus_Video\")"
      ]
    },
    {
      "cell_type": "markdown",
      "metadata": {
        "execution": {},
        "id": "tReVImjZEJZu"
      },
      "source": [
        "## Meet our lecturers\n",
        "\n",
        "### Week 1: the building blocks\n",
        "* [Konrad Kording](https://kordinglab.com)\n",
        "* [Andrew Saxe](https://www.saxelab.org/)\n",
        "* [Surya Ganguli](https://ganguli-gang.stanford.edu/)\n",
        "* [Ioannis Mitliagkas](http://mitliagkas.github.io/)\n",
        "* [Lyle Ungar](https://www.cis.upenn.edu/~ungar/)\n",
        "\n",
        "### Week 2: making things work\n",
        "* [Alona Fyshe](https://webdocs.cs.ualberta.ca/~alona/)\n",
        "* [Alexander Ecker](https://eckerlab.org/)\n",
        "* [James Evans](https://sociology.uchicago.edu/directory/james-evans)\n",
        "* [He He](https://hhexiy.github.io/)\n",
        "* [Vikash Gilja](https://tnel.ucsd.edu/bio) and [Akash Srivastava](https://akashgit.github.io/)\n",
        "\n",
        "### Week 3: more magic\n",
        "* [Tim Lillicrap](https://contrastiveconvergence.net/~timothylillicrap/index.php) and [Blake Richards](https://www.mcgill.ca/neuro/blake-richards-phd)\n",
        "* [Jane Wang](http://www.janexwang.com/) and [Feryal Behbahani](https://feryal.github.io/)\n",
        "* [Tim Lillicrap](https://contrastiveconvergence.net/~timothylillicrap/index.php) and [Blake Richards](https://www.mcgill.ca/neuro/blake-richards-phd)\n",
        "* [Josh Vogelstein](https://jovo.me/) and [Vincenzo Lamonaco](https://www.vincenzolomonaco.com/)"
      ]
    },
    {
      "cell_type": "markdown",
      "metadata": {
        "execution": {},
        "id": "I9eHoWoNEJZu"
      },
      "source": [
        "Now, go to the [visualization of ICLR papers](https://iclr.cc/virtual/2021/paper_vis.html). Read a few abstracts. Look at the various clusters. Where do you see yourself in this map?"
      ]
    },
    {
      "cell_type": "markdown",
      "metadata": {
        "execution": {},
        "id": "2KaoKOB0EJZu"
      },
      "source": [
        "---\n",
        "# Daily survey\n",
        "\n",
        "Don't forget to complete your reflections and content check in the daily survey! Please be patient after logging in as there is\n",
        "a small delay before you will be redirected to the survey.\n",
        "\n",
        "<a href=\"https://portal.neuromatchacademy.org/api/redirect/to/f2da6480-069c-49b9-a37b-8750f9d6f359\"><img src=\"https://github.com/NeuromatchAcademy/course-content-dl/blob/main/tutorials/static/SurveyButton.png?raw=1\" alt=\"button link to survey\" style=\"width:410px\"></a>"
      ]
    },
    {
      "cell_type": "markdown",
      "metadata": {
        "execution": {},
        "id": "WS28JUInEJZu"
      },
      "source": [
        "---\n",
        "# Bonus - 60 years of Machine Learning Research in one Plot\n",
        "\n",
        "By [Hendrik Strobelt](http://hendrik.strobelt.com) (MIT-IBM Watson AI Lab) with support from Benjamin Hoover.\n",
        "\n",
        "In this notebook we visualize a subset* of 3,300 articles retreived from the AllenAI [S2ORC dataset](https://github.com/allenai/s2orc). We represent each paper by a position that is output of a dimensionality reduction method applied to a vector representation of each paper. The vector representation is the output of a neural network.\n",
        "\n",
        "**Note:** The selection is very biased on the keywords and methodology we used to filter. Please see the details section to learn about what we did."
      ]
    },
    {
      "cell_type": "code",
      "execution_count": null,
      "metadata": {
        "cellView": "form",
        "execution": {},
        "id": "sU2u4KoAEJZu"
      },
      "outputs": [],
      "source": [
        "# @title Install and Import `altair` and `vega_datasets`.\n",
        "!pip install altair vega_datasets --quiet\n",
        "\n",
        "import altair as alt  # altair is defining data visualizations\n",
        "\n",
        "# Source data files\n",
        "# Position data file maps ID to x,y positions\n",
        "# original link: http://gltr.io/temp/ml_regexv1_cs_ma_citation+_99perc.pos_umap_cosine_100_d0.1.json\n",
        "POS_FILE = 'https://osf.io/qyrfn/download'\n",
        "# original link: http://gltr.io/temp/ml_regexv1_cs_ma_citation+_99perc_clean.csv\n",
        "# Metadata file maps ID to title, abstract, author,....\n",
        "META_FILE = 'https://osf.io/vfdu6/download'\n",
        "\n",
        "# data loading and wrangling\n",
        "def load_data():\n",
        "  \"\"\"\n",
        "  Loading the data\n",
        "\n",
        "  Args:\n",
        "    None\n",
        "\n",
        "  Returns:\n",
        "    Merged read dataFrame combining id and paper_id;\n",
        "  \"\"\"\n",
        "  positions = pd.read_json(POS_FILE)\n",
        "  positions[['x', 'y']] = positions['pos'].to_list()\n",
        "  meta = pd.read_csv(META_FILE)\n",
        "  return positions.merge(meta, left_on='id', right_on='paper_id')\n",
        "\n",
        "\n",
        "# load data\n",
        "data = load_data()"
      ]
    },
    {
      "cell_type": "code",
      "execution_count": null,
      "metadata": {
        "cellView": "form",
        "execution": {},
        "id": "W8Skb96xEJZu"
      },
      "outputs": [],
      "source": [
        "# @title Define Visualization using ALtair\n",
        "YEAR_PERIOD = \"quinquennial\"  # @param\n",
        "selection = alt.selection_multi(fields=[YEAR_PERIOD], bind='legend')\n",
        "data[YEAR_PERIOD] = (data[\"year\"] / 5.0).apply(np.floor) * 5\n",
        "chart = alt.Chart(data[[\"x\", \"y\", \"authors\", \"title\", YEAR_PERIOD, \"citation_count\"]], width=800,\n",
        "                  height=800).mark_circle(radius=2, opacity=0.2).encode(\n",
        "    alt.Color(YEAR_PERIOD+':O',\n",
        "              scale=alt.Scale(scheme='viridis', reverse=False, clamp=True, domain=list(range(1955,2020,5))),\n",
        "              # legend=alt.Legend(title='Total Records')\n",
        "              ),\n",
        "    alt.Size('citation_count',\n",
        "              scale=alt.Scale(type=\"pow\", exponent=1, range=[15, 300])\n",
        "              ),\n",
        "       alt.X('x:Q',\n",
        "        scale=alt.Scale(zero=False), axis=alt.Axis(labels=False)\n",
        "    ),\n",
        "       alt.Y('y:Q',\n",
        "        scale=alt.Scale(zero=False), axis=alt.Axis(labels=False)\n",
        "    ),\n",
        "    tooltip=['title', 'authors'],\n",
        "    # size='citation_count',\n",
        "    # color=\"decade:O\",\n",
        "    opacity=alt.condition(selection, alt.value(.8), alt.value(0.2)),\n",
        "\n",
        ").add_selection(\n",
        "    selection\n",
        ").interactive()"
      ]
    },
    {
      "cell_type": "markdown",
      "metadata": {
        "execution": {},
        "id": "MPnFu_s5EJZv"
      },
      "source": [
        "Lets look at the Visualization. Each dot represents one paper. Close dots mean that the respective papers are closer related than distant ones. The color indicates the 5-year period of when the paper was published. The dot size indicates the citation count (within S2ORC corpus) as of July 2020.\n",
        "\n",
        "The view is **interactive** and allows for three main interactions. Try them and play around:\n",
        "1. Hover over a dot to see a tooltip (title, author)\n",
        "2. Select a year in the legend (right) to filter dots\n",
        "3. Zoom in/out with scroll -- double click resets view"
      ]
    },
    {
      "cell_type": "code",
      "execution_count": null,
      "metadata": {
        "execution": {},
        "id": "ztE44gyAEJZv"
      },
      "outputs": [],
      "source": [
        "chart"
      ]
    },
    {
      "cell_type": "markdown",
      "metadata": {
        "execution": {},
        "id": "y4FeNbdSEJZv"
      },
      "source": [
        "## Questions\n",
        "\n",
        "By playing around, can you find some answers to the following questions?\n",
        "\n",
        "1. Can you find topical clusters? What cluster might occur because of a filtering error?\n",
        "2. Can you see a temporal trend in the data and clusters?\n",
        "3. Can you determine when deep learning methods started booming ?\n",
        "4. Can you find the key papers that where written before the DL \"winter\" that define milestones for a cluster? (tip: look for large dots of different color)"
      ]
    },
    {
      "cell_type": "markdown",
      "metadata": {
        "execution": {},
        "id": "Qc78gXwZEJZv"
      },
      "source": [
        "[*Click for solution*](https://github.com/NeuromatchAcademy/course-content-dl/tree/main/tutorials/W1D1_BasicsAndPytorch/solutions/W1D1_Tutorial1_Solution_21a88cd0.py)\n",
        "\n"
      ]
    },
    {
      "cell_type": "code",
      "execution_count": null,
      "metadata": {
        "cellView": "form",
        "execution": {},
        "id": "q5mMB0tzEJZv"
      },
      "outputs": [],
      "source": [
        "# @title Submit your feedback\n",
        "content_review(f\"{feedback_prefix}_Bonus_Section_Discussion\")"
      ]
    },
    {
      "cell_type": "markdown",
      "metadata": {
        "execution": {},
        "id": "_w94-VpcEJZv"
      },
      "source": [
        "## Methods\n",
        "\n",
        "Here is what we did:\n",
        "1. Filtering of all papers who fullfilled the criterria:\n",
        "  - are categorized as `Computer Science` or `Mathematics`\n",
        "  - one of the following keywords appearing in title or abstract: `\"machine learning|artificial intelligence|neural network|(machine|computer) vision|perceptron|network architecture| RNN | CNN | LSTM | BLEU | MNIST | CIFAR |reinforcement learning|gradient descent| Imagenet \"`\n",
        "2. Per year, remove all papers that are below the 99 percentile of citation count in that year\n",
        "3. Embed each paper by using abstract + title in SPECTER model\n",
        "4. Project based on embedding using UMAP\n",
        "5. Visualize using Altair"
      ]
    },
    {
      "cell_type": "markdown",
      "metadata": {
        "execution": {},
        "id": "CB4oAl_oEJZv"
      },
      "source": [
        "### Find Authors"
      ]
    },
    {
      "cell_type": "code",
      "execution_count": null,
      "metadata": {
        "cellView": "form",
        "execution": {},
        "id": "NoinCWZ5EJZv"
      },
      "outputs": [],
      "source": [
        "# @title Edit the `AUTHOR_FILTER` variable to full text search for authors.\n",
        "\n",
        "AUTHOR_FILTER = \"Rush \"  # @param space at the end means \"word border\"\n",
        "\n",
        "### Don't ignore case when searching...\n",
        "FLAGS = 0\n",
        "### uncomment do ignore case\n",
        "# FLAGS = re.IGNORECASE\n",
        "\n",
        "## --- FILTER CODE.. make it your own ---\n",
        "data['issel'] = data['authors'].str.contains(AUTHOR_FILTER, na=False, flags=FLAGS, )\n",
        "if data['issel'].mean()<0.0000000001:\n",
        "  print('No match found')\n",
        "\n",
        "## --- FROM HERE ON VIS CODE ---\n",
        "alt.Chart(data[[\"x\", \"y\", \"authors\", \"title\", YEAR_PERIOD, \"citation_count\", \"issel\"]], width=800,\n",
        "                  height=800) \\\n",
        "    .mark_circle(stroke=\"black\", strokeOpacity=1).encode(\n",
        "    alt.Color(YEAR_PERIOD+':O',\n",
        "              scale=alt.Scale(scheme='viridis', reverse=False),\n",
        "              # legend=alt.Legend(title='Total Records')\n",
        "              ),\n",
        "    alt.Size('citation_count',\n",
        "              scale=alt.Scale(type=\"pow\", exponent=1, range=[15, 300])\n",
        "              ),\n",
        "    alt.StrokeWidth('issel:Q', scale=alt.Scale(type=\"linear\", domain=[0,1], range=[0, 2]), legend=None),\n",
        "\n",
        "    alt.Opacity('issel:Q', scale=alt.Scale(type=\"linear\", domain=[0,1], range=[.2, 1]), legend=None),\n",
        "    alt.X('x:Q',\n",
        "        scale=alt.Scale(zero=False), axis=alt.Axis(labels=False)\n",
        "    ),\n",
        "    alt.Y('y:Q',\n",
        "        scale=alt.Scale(zero=False), axis=alt.Axis(labels=False)\n",
        "    ),\n",
        "    tooltip=['title', 'authors'],\n",
        ").interactive()"
      ]
    },
    {
      "cell_type": "markdown",
      "metadata": {
        "execution": {},
        "id": "34EH9l2xEJZv"
      },
      "source": [
        "---\n",
        "# Appendix\n",
        "\n",
        "## Official PyTorch resources:\n",
        "\n",
        "### Tutorials\n",
        "- [https://pytorch.org/tutorials/](https://pytorch.org/tutorials/)\n",
        "\n",
        "### Documentation\n",
        "- [https://pytorch.org/docs/stable/tensors.html](https://pytorch.org/docs/stable/tensors.html) (tensor methods)\n",
        "\n",
        "- [https://pytorch.org/docs/stable/generated/torch.Tensor.view.html#torch.Tensor.view](https://pytorch.org/docs/stable/generated/torch.Tensor.view.html#torch.Tensor.view) (The view method in particular)\n",
        "\n",
        "- [https://pytorch.org/vision/stable/datasets.html](https://pytorch.org/vision/stable/datasets.html) (pre-loaded image datasets)\n",
        "\n",
        "## Google Colab Resources:\n",
        "- [https://research.google.com/colaboratory/faq.html](https://research.google.com/colaboratory/faq.html) (FAQ including guidance on GPU usage)\n",
        "\n",
        "## Books for reference:\n",
        "- [https://www.deeplearningbook.org/](https://www.deeplearningbook.org/) (Deep Learning by Ian Goodfellow, Yoshua Bengio and Aaron Courville)"
      ]
    }
  ],
  "metadata": {
    "accelerator": "GPU",
    "colab": {
      "name": "W1D1_Tutorial1",
      "provenance": [],
      "toc_visible": true,
      "gpuType": "T4",
      "include_colab_link": true
    },
    "kernel": {
      "display_name": "Python 3",
      "language": "python",
      "name": "python3"
    },
    "kernelspec": {
      "display_name": "Python 3",
      "name": "python3"
    },
    "language_info": {
      "codemirror_mode": {
        "name": "ipython",
        "version": 3
      },
      "file_extension": ".py",
      "mimetype": "text/x-python",
      "name": "python",
      "nbconvert_exporter": "python",
      "pygments_lexer": "ipython3",
      "version": "3.7.11"
    },
    "widgets": {
      "application/vnd.jupyter.widget-state+json": {
        "90fc0c3b8d80409a8c8b4bde98bb66d6": {
          "model_module": "@jupyter-widgets/controls",
          "model_name": "TabModel",
          "model_module_version": "1.5.0",
          "state": {
            "_dom_classes": [],
            "_model_module": "@jupyter-widgets/controls",
            "_model_module_version": "1.5.0",
            "_model_name": "TabModel",
            "_titles": {
              "0": "Youtube",
              "1": "Bilibili"
            },
            "_view_count": null,
            "_view_module": "@jupyter-widgets/controls",
            "_view_module_version": "1.5.0",
            "_view_name": "TabView",
            "box_style": "",
            "children": [
              "IPY_MODEL_6e3f3fede10e48179941c75a296a14ed",
              "IPY_MODEL_74d28f9452e144eda70bcca5e66b638a"
            ],
            "layout": "IPY_MODEL_0922434014b64e3aa33dec41fc6f7500",
            "selected_index": 0
          }
        },
        "6e3f3fede10e48179941c75a296a14ed": {
          "model_module": "@jupyter-widgets/output",
          "model_name": "OutputModel",
          "model_module_version": "1.0.0",
          "state": {
            "_dom_classes": [],
            "_model_module": "@jupyter-widgets/output",
            "_model_module_version": "1.0.0",
            "_model_name": "OutputModel",
            "_view_count": null,
            "_view_module": "@jupyter-widgets/output",
            "_view_module_version": "1.0.0",
            "_view_name": "OutputView",
            "layout": "IPY_MODEL_71f29811c6b64a7cb76b5fe80b5870af",
            "msg_id": "",
            "outputs": [
              {
                "output_type": "stream",
                "name": "stdout",
                "text": [
                  "Video available at https://youtube.com/watch?v=jGKd_4tPGrw\n"
                ]
              },
              {
                "output_type": "display_data",
                "data": {
                  "text/plain": "<IPython.lib.display.YouTubeVideo at 0x7f6292f99190>",
                  "text/html": "\n        <iframe\n            width=\"854\"\n            height=\"480\"\n            src=\"https://www.youtube.com/embed/jGKd_4tPGrw?fs=1&rel=0\"\n            frameborder=\"0\"\n            allowfullscreen\n            \n        ></iframe>\n        ",
                  "image/jpeg": "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\n"
                },
                "metadata": {}
              }
            ]
          }
        },
        "74d28f9452e144eda70bcca5e66b638a": {
          "model_module": "@jupyter-widgets/output",
          "model_name": "OutputModel",
          "model_module_version": "1.0.0",
          "state": {
            "_dom_classes": [],
            "_model_module": "@jupyter-widgets/output",
            "_model_module_version": "1.0.0",
            "_model_name": "OutputModel",
            "_view_count": null,
            "_view_module": "@jupyter-widgets/output",
            "_view_module_version": "1.0.0",
            "_view_name": "OutputView",
            "layout": "IPY_MODEL_48fe0d11771f410c88c265e6917d3960",
            "msg_id": "",
            "outputs": [
              {
                "output_type": "stream",
                "name": "stdout",
                "text": [
                  "Video available at https://www.bilibili.com/video/BV1Rw411d7Uy\n"
                ]
              },
              {
                "output_type": "display_data",
                "data": {
                  "text/plain": "<__main__.PlayVideo at 0x7f6289483a90>",
                  "text/html": "\n        <iframe\n            width=\"854\"\n            height=\"480\"\n            src=\"https://player.bilibili.com/player.html?bvid=BV1Rw411d7Uy&page=1?fs=1&autoplay=False\"\n            frameborder=\"0\"\n            allowfullscreen\n            \n        ></iframe>\n        "
                },
                "metadata": {}
              }
            ]
          }
        },
        "0922434014b64e3aa33dec41fc6f7500": {
          "model_module": "@jupyter-widgets/base",
          "model_name": "LayoutModel",
          "model_module_version": "1.2.0",
          "state": {
            "_model_module": "@jupyter-widgets/base",
            "_model_module_version": "1.2.0",
            "_model_name": "LayoutModel",
            "_view_count": null,
            "_view_module": "@jupyter-widgets/base",
            "_view_module_version": "1.2.0",
            "_view_name": "LayoutView",
            "align_content": null,
            "align_items": null,
            "align_self": null,
            "border": null,
            "bottom": null,
            "display": null,
            "flex": null,
            "flex_flow": null,
            "grid_area": null,
            "grid_auto_columns": null,
            "grid_auto_flow": null,
            "grid_auto_rows": null,
            "grid_column": null,
            "grid_gap": null,
            "grid_row": null,
            "grid_template_areas": null,
            "grid_template_columns": null,
            "grid_template_rows": null,
            "height": null,
            "justify_content": null,
            "justify_items": null,
            "left": null,
            "margin": null,
            "max_height": null,
            "max_width": null,
            "min_height": null,
            "min_width": null,
            "object_fit": null,
            "object_position": null,
            "order": null,
            "overflow": null,
            "overflow_x": null,
            "overflow_y": null,
            "padding": null,
            "right": null,
            "top": null,
            "visibility": null,
            "width": null
          }
        },
        "71f29811c6b64a7cb76b5fe80b5870af": {
          "model_module": "@jupyter-widgets/base",
          "model_name": "LayoutModel",
          "model_module_version": "1.2.0",
          "state": {
            "_model_module": "@jupyter-widgets/base",
            "_model_module_version": "1.2.0",
            "_model_name": "LayoutModel",
            "_view_count": null,
            "_view_module": "@jupyter-widgets/base",
            "_view_module_version": "1.2.0",
            "_view_name": "LayoutView",
            "align_content": null,
            "align_items": null,
            "align_self": null,
            "border": null,
            "bottom": null,
            "display": null,
            "flex": null,
            "flex_flow": null,
            "grid_area": null,
            "grid_auto_columns": null,
            "grid_auto_flow": null,
            "grid_auto_rows": null,
            "grid_column": null,
            "grid_gap": null,
            "grid_row": null,
            "grid_template_areas": null,
            "grid_template_columns": null,
            "grid_template_rows": null,
            "height": null,
            "justify_content": null,
            "justify_items": null,
            "left": null,
            "margin": null,
            "max_height": null,
            "max_width": null,
            "min_height": null,
            "min_width": null,
            "object_fit": null,
            "object_position": null,
            "order": null,
            "overflow": null,
            "overflow_x": null,
            "overflow_y": null,
            "padding": null,
            "right": null,
            "top": null,
            "visibility": null,
            "width": null
          }
        },
        "48fe0d11771f410c88c265e6917d3960": {
          "model_module": "@jupyter-widgets/base",
          "model_name": "LayoutModel",
          "model_module_version": "1.2.0",
          "state": {
            "_model_module": "@jupyter-widgets/base",
            "_model_module_version": "1.2.0",
            "_model_name": "LayoutModel",
            "_view_count": null,
            "_view_module": "@jupyter-widgets/base",
            "_view_module_version": "1.2.0",
            "_view_name": "LayoutView",
            "align_content": null,
            "align_items": null,
            "align_self": null,
            "border": null,
            "bottom": null,
            "display": null,
            "flex": null,
            "flex_flow": null,
            "grid_area": null,
            "grid_auto_columns": null,
            "grid_auto_flow": null,
            "grid_auto_rows": null,
            "grid_column": null,
            "grid_gap": null,
            "grid_row": null,
            "grid_template_areas": null,
            "grid_template_columns": null,
            "grid_template_rows": null,
            "height": null,
            "justify_content": null,
            "justify_items": null,
            "left": null,
            "margin": null,
            "max_height": null,
            "max_width": null,
            "min_height": null,
            "min_width": null,
            "object_fit": null,
            "object_position": null,
            "order": null,
            "overflow": null,
            "overflow_x": null,
            "overflow_y": null,
            "padding": null,
            "right": null,
            "top": null,
            "visibility": null,
            "width": null
          }
        },
        "308a1d2c1fbd4689aff40ddb9fe5b39f": {
          "model_module": "@jupyter-widgets/controls",
          "model_name": "TabModel",
          "model_module_version": "1.5.0",
          "state": {
            "_dom_classes": [],
            "_model_module": "@jupyter-widgets/controls",
            "_model_module_version": "1.5.0",
            "_model_name": "TabModel",
            "_titles": {
              "0": "Youtube",
              "1": "Bilibili"
            },
            "_view_count": null,
            "_view_module": "@jupyter-widgets/controls",
            "_view_module_version": "1.5.0",
            "_view_name": "TabView",
            "box_style": "",
            "children": [
              "IPY_MODEL_d104f7c9247e48d4bf34f6555d39905e",
              "IPY_MODEL_307b13fa6c0a4801997599a5492cd471"
            ],
            "layout": "IPY_MODEL_1a07d09210604e79bbf99ff6e7606370",
            "selected_index": 0
          }
        },
        "d104f7c9247e48d4bf34f6555d39905e": {
          "model_module": "@jupyter-widgets/output",
          "model_name": "OutputModel",
          "model_module_version": "1.0.0",
          "state": {
            "_dom_classes": [],
            "_model_module": "@jupyter-widgets/output",
            "_model_module_version": "1.0.0",
            "_model_name": "OutputModel",
            "_view_count": null,
            "_view_module": "@jupyter-widgets/output",
            "_view_module_version": "1.0.0",
            "_view_name": "OutputView",
            "layout": "IPY_MODEL_c1d84cf67fb34f799e5bd32884ea33d7",
            "msg_id": "",
            "outputs": [
              {
                "output_type": "stream",
                "name": "stdout",
                "text": [
                  "Video available at https://youtube.com/watch?v=R1R8VoYXBVA\n"
                ]
              },
              {
                "output_type": "display_data",
                "data": {
                  "text/plain": "<IPython.lib.display.YouTubeVideo at 0x7f6285831410>",
                  "text/html": "\n        <iframe\n            width=\"854\"\n            height=\"480\"\n            src=\"https://www.youtube.com/embed/R1R8VoYXBVA?fs=1&rel=0\"\n            frameborder=\"0\"\n            allowfullscreen\n            \n        ></iframe>\n        ",
                  "image/jpeg": "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\n"
                },
                "metadata": {}
              }
            ]
          }
        },
        "307b13fa6c0a4801997599a5492cd471": {
          "model_module": "@jupyter-widgets/output",
          "model_name": "OutputModel",
          "model_module_version": "1.0.0",
          "state": {
            "_dom_classes": [],
            "_model_module": "@jupyter-widgets/output",
            "_model_module_version": "1.0.0",
            "_model_name": "OutputModel",
            "_view_count": null,
            "_view_module": "@jupyter-widgets/output",
            "_view_module_version": "1.0.0",
            "_view_name": "OutputView",
            "layout": "IPY_MODEL_07c940a567034f57806f2a9ff0af9e01",
            "msg_id": "",
            "outputs": [
              {
                "output_type": "stream",
                "name": "stdout",
                "text": [
                  "Video available at https://www.bilibili.com/video/BV1G44y127As\n"
                ]
              },
              {
                "output_type": "display_data",
                "data": {
                  "text/plain": "<__main__.PlayVideo at 0x7f6285871990>",
                  "text/html": "\n        <iframe\n            width=\"854\"\n            height=\"480\"\n            src=\"https://player.bilibili.com/player.html?bvid=BV1G44y127As&page=1?fs=1&autoplay=False\"\n            frameborder=\"0\"\n            allowfullscreen\n            \n        ></iframe>\n        "
                },
                "metadata": {}
              }
            ]
          }
        },
        "1a07d09210604e79bbf99ff6e7606370": {
          "model_module": "@jupyter-widgets/base",
          "model_name": "LayoutModel",
          "model_module_version": "1.2.0",
          "state": {
            "_model_module": "@jupyter-widgets/base",
            "_model_module_version": "1.2.0",
            "_model_name": "LayoutModel",
            "_view_count": null,
            "_view_module": "@jupyter-widgets/base",
            "_view_module_version": "1.2.0",
            "_view_name": "LayoutView",
            "align_content": null,
            "align_items": null,
            "align_self": null,
            "border": null,
            "bottom": null,
            "display": null,
            "flex": null,
            "flex_flow": null,
            "grid_area": null,
            "grid_auto_columns": null,
            "grid_auto_flow": null,
            "grid_auto_rows": null,
            "grid_column": null,
            "grid_gap": null,
            "grid_row": null,
            "grid_template_areas": null,
            "grid_template_columns": null,
            "grid_template_rows": null,
            "height": null,
            "justify_content": null,
            "justify_items": null,
            "left": null,
            "margin": null,
            "max_height": null,
            "max_width": null,
            "min_height": null,
            "min_width": null,
            "object_fit": null,
            "object_position": null,
            "order": null,
            "overflow": null,
            "overflow_x": null,
            "overflow_y": null,
            "padding": null,
            "right": null,
            "top": null,
            "visibility": null,
            "width": null
          }
        },
        "c1d84cf67fb34f799e5bd32884ea33d7": {
          "model_module": "@jupyter-widgets/base",
          "model_name": "LayoutModel",
          "model_module_version": "1.2.0",
          "state": {
            "_model_module": "@jupyter-widgets/base",
            "_model_module_version": "1.2.0",
            "_model_name": "LayoutModel",
            "_view_count": null,
            "_view_module": "@jupyter-widgets/base",
            "_view_module_version": "1.2.0",
            "_view_name": "LayoutView",
            "align_content": null,
            "align_items": null,
            "align_self": null,
            "border": null,
            "bottom": null,
            "display": null,
            "flex": null,
            "flex_flow": null,
            "grid_area": null,
            "grid_auto_columns": null,
            "grid_auto_flow": null,
            "grid_auto_rows": null,
            "grid_column": null,
            "grid_gap": null,
            "grid_row": null,
            "grid_template_areas": null,
            "grid_template_columns": null,
            "grid_template_rows": null,
            "height": null,
            "justify_content": null,
            "justify_items": null,
            "left": null,
            "margin": null,
            "max_height": null,
            "max_width": null,
            "min_height": null,
            "min_width": null,
            "object_fit": null,
            "object_position": null,
            "order": null,
            "overflow": null,
            "overflow_x": null,
            "overflow_y": null,
            "padding": null,
            "right": null,
            "top": null,
            "visibility": null,
            "width": null
          }
        },
        "07c940a567034f57806f2a9ff0af9e01": {
          "model_module": "@jupyter-widgets/base",
          "model_name": "LayoutModel",
          "model_module_version": "1.2.0",
          "state": {
            "_model_module": "@jupyter-widgets/base",
            "_model_module_version": "1.2.0",
            "_model_name": "LayoutModel",
            "_view_count": null,
            "_view_module": "@jupyter-widgets/base",
            "_view_module_version": "1.2.0",
            "_view_name": "LayoutView",
            "align_content": null,
            "align_items": null,
            "align_self": null,
            "border": null,
            "bottom": null,
            "display": null,
            "flex": null,
            "flex_flow": null,
            "grid_area": null,
            "grid_auto_columns": null,
            "grid_auto_flow": null,
            "grid_auto_rows": null,
            "grid_column": null,
            "grid_gap": null,
            "grid_row": null,
            "grid_template_areas": null,
            "grid_template_columns": null,
            "grid_template_rows": null,
            "height": null,
            "justify_content": null,
            "justify_items": null,
            "left": null,
            "margin": null,
            "max_height": null,
            "max_width": null,
            "min_height": null,
            "min_width": null,
            "object_fit": null,
            "object_position": null,
            "order": null,
            "overflow": null,
            "overflow_x": null,
            "overflow_y": null,
            "padding": null,
            "right": null,
            "top": null,
            "visibility": null,
            "width": null
          }
        },
        "da08bd52bdcf4d299a35fd7f2371bd55": {
          "model_module": "@jupyter-widgets/controls",
          "model_name": "TabModel",
          "model_module_version": "1.5.0",
          "state": {
            "_dom_classes": [],
            "_model_module": "@jupyter-widgets/controls",
            "_model_module_version": "1.5.0",
            "_model_name": "TabModel",
            "_titles": {
              "0": "Youtube",
              "1": "Bilibili"
            },
            "_view_count": null,
            "_view_module": "@jupyter-widgets/controls",
            "_view_module_version": "1.5.0",
            "_view_name": "TabView",
            "box_style": "",
            "children": [
              "IPY_MODEL_660fb437efcb4864b95c8f534ba8a37d",
              "IPY_MODEL_79d3a35d05514eaba7dfd7b5bc390c00"
            ],
            "layout": "IPY_MODEL_55d91c36d8304b458e7287ed70a74ab5",
            "selected_index": 0
          }
        },
        "660fb437efcb4864b95c8f534ba8a37d": {
          "model_module": "@jupyter-widgets/output",
          "model_name": "OutputModel",
          "model_module_version": "1.0.0",
          "state": {
            "_dom_classes": [],
            "_model_module": "@jupyter-widgets/output",
            "_model_module_version": "1.0.0",
            "_model_name": "OutputModel",
            "_view_count": null,
            "_view_module": "@jupyter-widgets/output",
            "_view_module_version": "1.0.0",
            "_view_name": "OutputView",
            "layout": "IPY_MODEL_48b72fcb45a341a1ae8ec255dcad4116",
            "msg_id": "",
            "outputs": [
              {
                "output_type": "stream",
                "name": "stdout",
                "text": [
                  "Video available at https://youtube.com/watch?v=0d0KSJ3lJbg\n"
                ]
              },
              {
                "output_type": "display_data",
                "data": {
                  "text/plain": "<IPython.lib.display.YouTubeVideo at 0x7f628268aa10>",
                  "text/html": "\n        <iframe\n            width=\"854\"\n            height=\"480\"\n            src=\"https://www.youtube.com/embed/0d0KSJ3lJbg?fs=1&rel=0\"\n            frameborder=\"0\"\n            allowfullscreen\n            \n        ></iframe>\n        ",
                  "image/jpeg": "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\n"
                },
                "metadata": {}
              }
            ]
          }
        },
        "79d3a35d05514eaba7dfd7b5bc390c00": {
          "model_module": "@jupyter-widgets/output",
          "model_name": "OutputModel",
          "model_module_version": "1.0.0",
          "state": {
            "_dom_classes": [],
            "_model_module": "@jupyter-widgets/output",
            "_model_module_version": "1.0.0",
            "_model_name": "OutputModel",
            "_view_count": null,
            "_view_module": "@jupyter-widgets/output",
            "_view_module_version": "1.0.0",
            "_view_name": "OutputView",
            "layout": "IPY_MODEL_8bab8cde42a74e8da99b88595d2c4fab",
            "msg_id": "",
            "outputs": [
              {
                "output_type": "stream",
                "name": "stdout",
                "text": [
                  "Video available at https://www.bilibili.com/video/BV1BM4y1K7pD\n"
                ]
              },
              {
                "output_type": "display_data",
                "data": {
                  "text/plain": "<__main__.PlayVideo at 0x7f628574b290>",
                  "text/html": "\n        <iframe\n            width=\"854\"\n            height=\"480\"\n            src=\"https://player.bilibili.com/player.html?bvid=BV1BM4y1K7pD&page=1?fs=1&autoplay=False\"\n            frameborder=\"0\"\n            allowfullscreen\n            \n        ></iframe>\n        "
                },
                "metadata": {}
              }
            ]
          }
        },
        "55d91c36d8304b458e7287ed70a74ab5": {
          "model_module": "@jupyter-widgets/base",
          "model_name": "LayoutModel",
          "model_module_version": "1.2.0",
          "state": {
            "_model_module": "@jupyter-widgets/base",
            "_model_module_version": "1.2.0",
            "_model_name": "LayoutModel",
            "_view_count": null,
            "_view_module": "@jupyter-widgets/base",
            "_view_module_version": "1.2.0",
            "_view_name": "LayoutView",
            "align_content": null,
            "align_items": null,
            "align_self": null,
            "border": null,
            "bottom": null,
            "display": null,
            "flex": null,
            "flex_flow": null,
            "grid_area": null,
            "grid_auto_columns": null,
            "grid_auto_flow": null,
            "grid_auto_rows": null,
            "grid_column": null,
            "grid_gap": null,
            "grid_row": null,
            "grid_template_areas": null,
            "grid_template_columns": null,
            "grid_template_rows": null,
            "height": null,
            "justify_content": null,
            "justify_items": null,
            "left": null,
            "margin": null,
            "max_height": null,
            "max_width": null,
            "min_height": null,
            "min_width": null,
            "object_fit": null,
            "object_position": null,
            "order": null,
            "overflow": null,
            "overflow_x": null,
            "overflow_y": null,
            "padding": null,
            "right": null,
            "top": null,
            "visibility": null,
            "width": null
          }
        },
        "48b72fcb45a341a1ae8ec255dcad4116": {
          "model_module": "@jupyter-widgets/base",
          "model_name": "LayoutModel",
          "model_module_version": "1.2.0",
          "state": {
            "_model_module": "@jupyter-widgets/base",
            "_model_module_version": "1.2.0",
            "_model_name": "LayoutModel",
            "_view_count": null,
            "_view_module": "@jupyter-widgets/base",
            "_view_module_version": "1.2.0",
            "_view_name": "LayoutView",
            "align_content": null,
            "align_items": null,
            "align_self": null,
            "border": null,
            "bottom": null,
            "display": null,
            "flex": null,
            "flex_flow": null,
            "grid_area": null,
            "grid_auto_columns": null,
            "grid_auto_flow": null,
            "grid_auto_rows": null,
            "grid_column": null,
            "grid_gap": null,
            "grid_row": null,
            "grid_template_areas": null,
            "grid_template_columns": null,
            "grid_template_rows": null,
            "height": null,
            "justify_content": null,
            "justify_items": null,
            "left": null,
            "margin": null,
            "max_height": null,
            "max_width": null,
            "min_height": null,
            "min_width": null,
            "object_fit": null,
            "object_position": null,
            "order": null,
            "overflow": null,
            "overflow_x": null,
            "overflow_y": null,
            "padding": null,
            "right": null,
            "top": null,
            "visibility": null,
            "width": null
          }
        },
        "8bab8cde42a74e8da99b88595d2c4fab": {
          "model_module": "@jupyter-widgets/base",
          "model_name": "LayoutModel",
          "model_module_version": "1.2.0",
          "state": {
            "_model_module": "@jupyter-widgets/base",
            "_model_module_version": "1.2.0",
            "_model_name": "LayoutModel",
            "_view_count": null,
            "_view_module": "@jupyter-widgets/base",
            "_view_module_version": "1.2.0",
            "_view_name": "LayoutView",
            "align_content": null,
            "align_items": null,
            "align_self": null,
            "border": null,
            "bottom": null,
            "display": null,
            "flex": null,
            "flex_flow": null,
            "grid_area": null,
            "grid_auto_columns": null,
            "grid_auto_flow": null,
            "grid_auto_rows": null,
            "grid_column": null,
            "grid_gap": null,
            "grid_row": null,
            "grid_template_areas": null,
            "grid_template_columns": null,
            "grid_template_rows": null,
            "height": null,
            "justify_content": null,
            "justify_items": null,
            "left": null,
            "margin": null,
            "max_height": null,
            "max_width": null,
            "min_height": null,
            "min_width": null,
            "object_fit": null,
            "object_position": null,
            "order": null,
            "overflow": null,
            "overflow_x": null,
            "overflow_y": null,
            "padding": null,
            "right": null,
            "top": null,
            "visibility": null,
            "width": null
          }
        },
        "8c108320afab46bfad5950c51448535e": {
          "model_module": "@jupyter-widgets/controls",
          "model_name": "TabModel",
          "model_module_version": "1.5.0",
          "state": {
            "_dom_classes": [],
            "_model_module": "@jupyter-widgets/controls",
            "_model_module_version": "1.5.0",
            "_model_name": "TabModel",
            "_titles": {
              "0": "Youtube",
              "1": "Bilibili"
            },
            "_view_count": null,
            "_view_module": "@jupyter-widgets/controls",
            "_view_module_version": "1.5.0",
            "_view_name": "TabView",
            "box_style": "",
            "children": [
              "IPY_MODEL_8d1466ddbf4a4ad8a004cc59265000e4",
              "IPY_MODEL_93df0ef6cd554c359ea5ebd769dbeb39"
            ],
            "layout": "IPY_MODEL_e85a1586284641609ca9179b00f1fa13",
            "selected_index": 0
          }
        },
        "8d1466ddbf4a4ad8a004cc59265000e4": {
          "model_module": "@jupyter-widgets/output",
          "model_name": "OutputModel",
          "model_module_version": "1.0.0",
          "state": {
            "_dom_classes": [],
            "_model_module": "@jupyter-widgets/output",
            "_model_module_version": "1.0.0",
            "_model_name": "OutputModel",
            "_view_count": null,
            "_view_module": "@jupyter-widgets/output",
            "_view_module_version": "1.0.0",
            "_view_name": "OutputView",
            "layout": "IPY_MODEL_f2da4979bdcd4aa3bca45fa094595762",
            "msg_id": "",
            "outputs": [
              {
                "output_type": "stream",
                "name": "stdout",
                "text": [
                  "Video available at https://youtube.com/watch?v=9Mc9GFUtILY\n"
                ]
              },
              {
                "output_type": "display_data",
                "data": {
                  "text/plain": "<IPython.lib.display.YouTubeVideo at 0x7f6281f2b350>",
                  "text/html": "\n        <iframe\n            width=\"854\"\n            height=\"480\"\n            src=\"https://www.youtube.com/embed/9Mc9GFUtILY?fs=1&rel=0\"\n            frameborder=\"0\"\n            allowfullscreen\n            \n        ></iframe>\n        ",
                  "image/jpeg": "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\n"
                },
                "metadata": {}
              }
            ]
          }
        },
        "93df0ef6cd554c359ea5ebd769dbeb39": {
          "model_module": "@jupyter-widgets/output",
          "model_name": "OutputModel",
          "model_module_version": "1.0.0",
          "state": {
            "_dom_classes": [],
            "_model_module": "@jupyter-widgets/output",
            "_model_module_version": "1.0.0",
            "_model_name": "OutputModel",
            "_view_count": null,
            "_view_module": "@jupyter-widgets/output",
            "_view_module_version": "1.0.0",
            "_view_name": "OutputView",
            "layout": "IPY_MODEL_3a861ecda3ac49619cdfec84067b090d",
            "msg_id": "",
            "outputs": [
              {
                "output_type": "stream",
                "name": "stdout",
                "text": [
                  "Video available at https://www.bilibili.com/video/BV1nM4y1K7qx\n"
                ]
              },
              {
                "output_type": "display_data",
                "data": {
                  "text/plain": "<__main__.PlayVideo at 0x7f628229d750>",
                  "text/html": "\n        <iframe\n            width=\"854\"\n            height=\"480\"\n            src=\"https://player.bilibili.com/player.html?bvid=BV1nM4y1K7qx&page=1?fs=1&autoplay=False\"\n            frameborder=\"0\"\n            allowfullscreen\n            \n        ></iframe>\n        "
                },
                "metadata": {}
              }
            ]
          }
        },
        "e85a1586284641609ca9179b00f1fa13": {
          "model_module": "@jupyter-widgets/base",
          "model_name": "LayoutModel",
          "model_module_version": "1.2.0",
          "state": {
            "_model_module": "@jupyter-widgets/base",
            "_model_module_version": "1.2.0",
            "_model_name": "LayoutModel",
            "_view_count": null,
            "_view_module": "@jupyter-widgets/base",
            "_view_module_version": "1.2.0",
            "_view_name": "LayoutView",
            "align_content": null,
            "align_items": null,
            "align_self": null,
            "border": null,
            "bottom": null,
            "display": null,
            "flex": null,
            "flex_flow": null,
            "grid_area": null,
            "grid_auto_columns": null,
            "grid_auto_flow": null,
            "grid_auto_rows": null,
            "grid_column": null,
            "grid_gap": null,
            "grid_row": null,
            "grid_template_areas": null,
            "grid_template_columns": null,
            "grid_template_rows": null,
            "height": null,
            "justify_content": null,
            "justify_items": null,
            "left": null,
            "margin": null,
            "max_height": null,
            "max_width": null,
            "min_height": null,
            "min_width": null,
            "object_fit": null,
            "object_position": null,
            "order": null,
            "overflow": null,
            "overflow_x": null,
            "overflow_y": null,
            "padding": null,
            "right": null,
            "top": null,
            "visibility": null,
            "width": null
          }
        },
        "f2da4979bdcd4aa3bca45fa094595762": {
          "model_module": "@jupyter-widgets/base",
          "model_name": "LayoutModel",
          "model_module_version": "1.2.0",
          "state": {
            "_model_module": "@jupyter-widgets/base",
            "_model_module_version": "1.2.0",
            "_model_name": "LayoutModel",
            "_view_count": null,
            "_view_module": "@jupyter-widgets/base",
            "_view_module_version": "1.2.0",
            "_view_name": "LayoutView",
            "align_content": null,
            "align_items": null,
            "align_self": null,
            "border": null,
            "bottom": null,
            "display": null,
            "flex": null,
            "flex_flow": null,
            "grid_area": null,
            "grid_auto_columns": null,
            "grid_auto_flow": null,
            "grid_auto_rows": null,
            "grid_column": null,
            "grid_gap": null,
            "grid_row": null,
            "grid_template_areas": null,
            "grid_template_columns": null,
            "grid_template_rows": null,
            "height": null,
            "justify_content": null,
            "justify_items": null,
            "left": null,
            "margin": null,
            "max_height": null,
            "max_width": null,
            "min_height": null,
            "min_width": null,
            "object_fit": null,
            "object_position": null,
            "order": null,
            "overflow": null,
            "overflow_x": null,
            "overflow_y": null,
            "padding": null,
            "right": null,
            "top": null,
            "visibility": null,
            "width": null
          }
        },
        "3a861ecda3ac49619cdfec84067b090d": {
          "model_module": "@jupyter-widgets/base",
          "model_name": "LayoutModel",
          "model_module_version": "1.2.0",
          "state": {
            "_model_module": "@jupyter-widgets/base",
            "_model_module_version": "1.2.0",
            "_model_name": "LayoutModel",
            "_view_count": null,
            "_view_module": "@jupyter-widgets/base",
            "_view_module_version": "1.2.0",
            "_view_name": "LayoutView",
            "align_content": null,
            "align_items": null,
            "align_self": null,
            "border": null,
            "bottom": null,
            "display": null,
            "flex": null,
            "flex_flow": null,
            "grid_area": null,
            "grid_auto_columns": null,
            "grid_auto_flow": null,
            "grid_auto_rows": null,
            "grid_column": null,
            "grid_gap": null,
            "grid_row": null,
            "grid_template_areas": null,
            "grid_template_columns": null,
            "grid_template_rows": null,
            "height": null,
            "justify_content": null,
            "justify_items": null,
            "left": null,
            "margin": null,
            "max_height": null,
            "max_width": null,
            "min_height": null,
            "min_width": null,
            "object_fit": null,
            "object_position": null,
            "order": null,
            "overflow": null,
            "overflow_x": null,
            "overflow_y": null,
            "padding": null,
            "right": null,
            "top": null,
            "visibility": null,
            "width": null
          }
        },
        "629afdca1b8741ddbaaa2e34904154a2": {
          "model_module": "@jupyter-widgets/controls",
          "model_name": "TabModel",
          "model_module_version": "1.5.0",
          "state": {
            "_dom_classes": [],
            "_model_module": "@jupyter-widgets/controls",
            "_model_module_version": "1.5.0",
            "_model_name": "TabModel",
            "_titles": {
              "0": "Youtube",
              "1": "Bilibili"
            },
            "_view_count": null,
            "_view_module": "@jupyter-widgets/controls",
            "_view_module_version": "1.5.0",
            "_view_name": "TabView",
            "box_style": "",
            "children": [
              "IPY_MODEL_b5a626c6453248658e73c24abd8eeaae",
              "IPY_MODEL_da0a3da17d6742f997398e04e2c40793"
            ],
            "layout": "IPY_MODEL_859a27b02f384c4c9a6b0f242bf0fa67",
            "selected_index": 0
          }
        },
        "b5a626c6453248658e73c24abd8eeaae": {
          "model_module": "@jupyter-widgets/output",
          "model_name": "OutputModel",
          "model_module_version": "1.0.0",
          "state": {
            "_dom_classes": [],
            "_model_module": "@jupyter-widgets/output",
            "_model_module_version": "1.0.0",
            "_model_name": "OutputModel",
            "_view_count": null,
            "_view_module": "@jupyter-widgets/output",
            "_view_module_version": "1.0.0",
            "_view_name": "OutputView",
            "layout": "IPY_MODEL_83a4e6865772447292e251d07552f32a",
            "msg_id": "",
            "outputs": [
              {
                "output_type": "stream",
                "name": "stdout",
                "text": [
                  "Video available at https://youtube.com/watch?v=LSkjPM1gFu0\n"
                ]
              },
              {
                "output_type": "display_data",
                "data": {
                  "text/plain": "<IPython.lib.display.YouTubeVideo at 0x7f6288fcd3d0>",
                  "text/html": "\n        <iframe\n            width=\"854\"\n            height=\"480\"\n            src=\"https://www.youtube.com/embed/LSkjPM1gFu0?fs=1&rel=0\"\n            frameborder=\"0\"\n            allowfullscreen\n            \n        ></iframe>\n        ",
                  "image/jpeg": "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\n"
                },
                "metadata": {}
              }
            ]
          }
        },
        "da0a3da17d6742f997398e04e2c40793": {
          "model_module": "@jupyter-widgets/output",
          "model_name": "OutputModel",
          "model_module_version": "1.0.0",
          "state": {
            "_dom_classes": [],
            "_model_module": "@jupyter-widgets/output",
            "_model_module_version": "1.0.0",
            "_model_name": "OutputModel",
            "_view_count": null,
            "_view_module": "@jupyter-widgets/output",
            "_view_module_version": "1.0.0",
            "_view_name": "OutputView",
            "layout": "IPY_MODEL_2c6b7ad9e698443ca464b0e975250666",
            "msg_id": "",
            "outputs": [
              {
                "output_type": "stream",
                "name": "stdout",
                "text": [
                  "Video available at https://www.bilibili.com/video/BV1744y127SQ\n"
                ]
              },
              {
                "output_type": "display_data",
                "data": {
                  "text/plain": "<__main__.PlayVideo at 0x7f6281db1ed0>",
                  "text/html": "\n        <iframe\n            width=\"854\"\n            height=\"480\"\n            src=\"https://player.bilibili.com/player.html?bvid=BV1744y127SQ&page=1?fs=1&autoplay=False\"\n            frameborder=\"0\"\n            allowfullscreen\n            \n        ></iframe>\n        "
                },
                "metadata": {}
              }
            ]
          }
        },
        "859a27b02f384c4c9a6b0f242bf0fa67": {
          "model_module": "@jupyter-widgets/base",
          "model_name": "LayoutModel",
          "model_module_version": "1.2.0",
          "state": {
            "_model_module": "@jupyter-widgets/base",
            "_model_module_version": "1.2.0",
            "_model_name": "LayoutModel",
            "_view_count": null,
            "_view_module": "@jupyter-widgets/base",
            "_view_module_version": "1.2.0",
            "_view_name": "LayoutView",
            "align_content": null,
            "align_items": null,
            "align_self": null,
            "border": null,
            "bottom": null,
            "display": null,
            "flex": null,
            "flex_flow": null,
            "grid_area": null,
            "grid_auto_columns": null,
            "grid_auto_flow": null,
            "grid_auto_rows": null,
            "grid_column": null,
            "grid_gap": null,
            "grid_row": null,
            "grid_template_areas": null,
            "grid_template_columns": null,
            "grid_template_rows": null,
            "height": null,
            "justify_content": null,
            "justify_items": null,
            "left": null,
            "margin": null,
            "max_height": null,
            "max_width": null,
            "min_height": null,
            "min_width": null,
            "object_fit": null,
            "object_position": null,
            "order": null,
            "overflow": null,
            "overflow_x": null,
            "overflow_y": null,
            "padding": null,
            "right": null,
            "top": null,
            "visibility": null,
            "width": null
          }
        },
        "83a4e6865772447292e251d07552f32a": {
          "model_module": "@jupyter-widgets/base",
          "model_name": "LayoutModel",
          "model_module_version": "1.2.0",
          "state": {
            "_model_module": "@jupyter-widgets/base",
            "_model_module_version": "1.2.0",
            "_model_name": "LayoutModel",
            "_view_count": null,
            "_view_module": "@jupyter-widgets/base",
            "_view_module_version": "1.2.0",
            "_view_name": "LayoutView",
            "align_content": null,
            "align_items": null,
            "align_self": null,
            "border": null,
            "bottom": null,
            "display": null,
            "flex": null,
            "flex_flow": null,
            "grid_area": null,
            "grid_auto_columns": null,
            "grid_auto_flow": null,
            "grid_auto_rows": null,
            "grid_column": null,
            "grid_gap": null,
            "grid_row": null,
            "grid_template_areas": null,
            "grid_template_columns": null,
            "grid_template_rows": null,
            "height": null,
            "justify_content": null,
            "justify_items": null,
            "left": null,
            "margin": null,
            "max_height": null,
            "max_width": null,
            "min_height": null,
            "min_width": null,
            "object_fit": null,
            "object_position": null,
            "order": null,
            "overflow": null,
            "overflow_x": null,
            "overflow_y": null,
            "padding": null,
            "right": null,
            "top": null,
            "visibility": null,
            "width": null
          }
        },
        "2c6b7ad9e698443ca464b0e975250666": {
          "model_module": "@jupyter-widgets/base",
          "model_name": "LayoutModel",
          "model_module_version": "1.2.0",
          "state": {
            "_model_module": "@jupyter-widgets/base",
            "_model_module_version": "1.2.0",
            "_model_name": "LayoutModel",
            "_view_count": null,
            "_view_module": "@jupyter-widgets/base",
            "_view_module_version": "1.2.0",
            "_view_name": "LayoutView",
            "align_content": null,
            "align_items": null,
            "align_self": null,
            "border": null,
            "bottom": null,
            "display": null,
            "flex": null,
            "flex_flow": null,
            "grid_area": null,
            "grid_auto_columns": null,
            "grid_auto_flow": null,
            "grid_auto_rows": null,
            "grid_column": null,
            "grid_gap": null,
            "grid_row": null,
            "grid_template_areas": null,
            "grid_template_columns": null,
            "grid_template_rows": null,
            "height": null,
            "justify_content": null,
            "justify_items": null,
            "left": null,
            "margin": null,
            "max_height": null,
            "max_width": null,
            "min_height": null,
            "min_width": null,
            "object_fit": null,
            "object_position": null,
            "order": null,
            "overflow": null,
            "overflow_x": null,
            "overflow_y": null,
            "padding": null,
            "right": null,
            "top": null,
            "visibility": null,
            "width": null
          }
        }
      }
    }
  },
  "nbformat": 4,
  "nbformat_minor": 0
}